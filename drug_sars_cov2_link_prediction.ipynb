{
 "cells": [
  {
   "cell_type": "markdown",
   "metadata": {},
   "source": [
    "## Loading the graphs\n",
    "We load the graph as a weighted undirected graph.\n",
    "\n",
    "To load the graph we are using the sister package of Embiggen called [Ensmallen](https://github.com/LucaCappelletti94/ensmallen_graph). Ensmallen is a Rust library with python bindings to handle processing of graph files and preprocessing of data for quickly training embedding models."
   ]
  },
  {
   "cell_type": "code",
   "execution_count": 1,
   "metadata": {},
   "outputs": [],
   "source": [
    "import silence_tensorflow.auto # Import needed to avoid TensorFlow warnings and general useless infos."
   ]
  },
  {
   "cell_type": "code",
   "execution_count": 2,
   "metadata": {},
   "outputs": [],
   "source": [
    "graph_data_dir = \"link_prediction_experiment_graph\""
   ]
  },
  {
   "cell_type": "code",
   "execution_count": 3,
   "metadata": {},
   "outputs": [
    {
     "data": {
      "text/plain": [
       "0"
      ]
     },
     "execution_count": 3,
     "metadata": {},
     "output_type": "execute_result"
    }
   ],
   "source": [
    "# get the graphs\n",
    "\n",
    "import urllib\n",
    "import os\n",
    "os.makedirs(graph_data_dir, exist_ok=True)\n",
    "if not os.path.exists(graph_data_dir + \"/kg-covid-19-skipgram-aug-2020.tar.gz\"):\n",
    "    with urllib.request.urlopen(\"https://zenodo.org/record/4011267/files/kg-covid-19-skipgram-aug-2020.tar.gz\") as response, \\\n",
    "        open(graph_data_dir + \"/kg-covid-19-skipgram-aug-2020.tar.gz\", 'wb') as out_file:\n",
    "            data = response.read()  # a `bytes` object\n",
    "            out_file.write(data)\n",
    "\n",
    "os.system(\"tar -xvzf \" + graph_data_dir + \"/kg-covid-19-skipgram-aug-2020.tar.gz -C \" + graph_data_dir)"
   ]
  },
  {
   "cell_type": "code",
   "execution_count": 4,
   "metadata": {},
   "outputs": [],
   "source": [
    "%%time\n",
    "from ensmallen_graph import EnsmallenGraph\n",
    "\n",
    "graph = EnsmallenGraph.from_csv(\n",
    "    edge_path= graph_data_dir + \"/merged-kg_edges.tsv\",\n",
    "    sources_column=\"subject\",\n",
    "    destinations_column=\"object\",\n",
    "    directed=False,\n",
    "    node_path= graph_data_dir + \"/merged-kg_nodes.tsv\",\n",
    "    nodes_column=\"id\",\n",
    "    node_types_column=\"category\",\n",
    "    default_node_type=\"biolink:NamedThing\",\n",
    "    ignore_duplicated_edges=True,\n",
    "    ignore_duplicated_nodes=True,\n",
    "    force_conversion_to_undirected=True\n",
    ")"
   ]
  },
  {
   "cell_type": "code",
   "execution_count": 5,
   "metadata": {
    "scrolled": true
   },
   "outputs": [
    {
     "data": {
      "text/plain": [
       "{'edges_number': '30861027',\n",
       " 'is_directed': 'false',\n",
       " 'unique_edge_types_number': '0',\n",
       " 'traps_rate': '0.021906677500566116',\n",
       " 'connected_components_number': '8976',\n",
       " 'degrees_mean': '82.21604837957722',\n",
       " 'degrees_mode': '1',\n",
       " 'degrees_min': '0',\n",
       " 'degrees_median': '6',\n",
       " 'selfloops_rate': '0.000015391581103247148',\n",
       " 'singleton_nodes': '8223',\n",
       " 'density': '0.00021902960686152735',\n",
       " 'strongly_connected_components_number': '8976',\n",
       " 'unique_node_types_number': '36',\n",
       " 'degrees_max': '90378',\n",
       " 'nodes_number': '375365',\n",
       " 'bidirectional_rate': '1'}"
      ]
     },
     "execution_count": 5,
     "metadata": {},
     "output_type": "execute_result"
    }
   ],
   "source": [
    "graph.report()"
   ]
  },
  {
   "cell_type": "code",
   "execution_count": 7,
   "metadata": {},
   "outputs": [],
   "source": [
    "training, validation = graph.connected_holdout(42, 0.8)"
   ]
  },
  {
   "cell_type": "code",
   "execution_count": 8,
   "metadata": {},
   "outputs": [
    {
     "data": {
      "text/plain": [
       "{'unique_edge_types_number': '0',\n",
       " 'degrees_mean': '65.77283976929122',\n",
       " 'is_directed': 'false',\n",
       " 'selfloops_rate': '0.000014743514291609376',\n",
       " 'unique_node_types_number': '36',\n",
       " 'nodes_number': '375365',\n",
       " 'degrees_min': '0',\n",
       " 'edges_number': '24688822',\n",
       " 'bidirectional_rate': '1',\n",
       " 'traps_rate': '0.021933318236916067',\n",
       " 'connected_components_number': '8976',\n",
       " 'degrees_median': '5',\n",
       " 'density': '0.0001752236883281372',\n",
       " 'degrees_max': '71988',\n",
       " 'singleton_nodes': '8233',\n",
       " 'degrees_mode': '1',\n",
       " 'strongly_connected_components_number': '8976'}"
      ]
     },
     "execution_count": 8,
     "metadata": {},
     "output_type": "execute_result"
    }
   ],
   "source": [
    "training.report()"
   ]
  },
  {
   "cell_type": "code",
   "execution_count": 9,
   "metadata": {
    "scrolled": true
   },
   "outputs": [
    {
     "data": {
      "text/plain": [
       "{'traps_rate': '0.42166957494705154',\n",
       " 'density': '0.000043805918533390134',\n",
       " 'unique_edge_types_number': '0',\n",
       " 'edges_number': '6172205',\n",
       " 'bidirectional_rate': '1',\n",
       " 'degrees_mode': '0',\n",
       " 'connected_components_number': '162705',\n",
       " 'nodes_number': '375365',\n",
       " 'degrees_max': '18390',\n",
       " 'singleton_nodes': '158280',\n",
       " 'selfloops_rate': '0.00001798384855979346',\n",
       " 'degrees_min': '0',\n",
       " 'unique_node_types_number': '36',\n",
       " 'degrees_mean': '16.44320861028599',\n",
       " 'strongly_connected_components_number': '162705',\n",
       " 'degrees_median': '1',\n",
       " 'is_directed': 'false'}"
      ]
     },
     "execution_count": 9,
     "metadata": {},
     "output_type": "execute_result"
    }
   ],
   "source": [
    "validation.report()"
   ]
  },
  {
   "cell_type": "markdown",
   "metadata": {},
   "source": [
    "The followings are check that are not necessary, but are offered as sanity checks:"
   ]
  },
  {
   "cell_type": "code",
   "execution_count": 10,
   "metadata": {},
   "outputs": [],
   "source": [
    "assert graph > training\n",
    "assert graph > validation\n",
    "assert (training + validation).contains(graph)\n",
    "assert graph.contains(training + validation)\n",
    "assert not training.overlaps(validation)\n",
    "assert not validation.overlaps(training)"
   ]
  },
  {
   "cell_type": "markdown",
   "metadata": {},
   "source": [
    "## Loading the embeddings"
   ]
  },
  {
   "cell_type": "code",
   "execution_count": 11,
   "metadata": {},
   "outputs": [],
   "source": [
    "# https://zenodo.org/record/4019808/files/SkipGram_80_20_training_test_epoch_500_delta_0.0001_embedding.npy?download=1\n",
    "embedding_dir = \"link_prediction_experiment_embeddings\"\n",
    "embedding_file = os.path.join(embedding_dir, \"SkipGram_embedding.npy\")\n",
    "os.makedirs(embedding_dir, exist_ok=True)\n",
    "\n",
    "with urllib.request.urlopen(\"https://zenodo.org/record/4019808/files/SkipGram_80_20_training_test_epoch_500_delta_0.0001_embedding.npy\") as response, \\\n",
    "    open(embedding_file, 'wb') as out_file:\n",
    "        data = response.read()  # a `bytes` object\n",
    "        out_file.write(data)"
   ]
  },
  {
   "cell_type": "code",
   "execution_count": 12,
   "metadata": {},
   "outputs": [],
   "source": [
    "import numpy as np\n",
    "embedding_file = \"link_prediction_experiment_embeddings/SkipGram_embedding.npy\"\n",
    "embeddings = np.load(embedding_file)"
   ]
  },
  {
   "cell_type": "code",
   "execution_count": 13,
   "metadata": {},
   "outputs": [],
   "source": [
    "node_names = list(np.array(training.nodes_reverse_mapping))"
   ]
  },
  {
   "cell_type": "code",
   "execution_count": 14,
   "metadata": {},
   "outputs": [],
   "source": [
    "assert len(training.nodes_reverse_mapping) == len(embeddings)"
   ]
  },
  {
   "cell_type": "code",
   "execution_count": 15,
   "metadata": {},
   "outputs": [],
   "source": [
    "assert len(training.node_types) == len(embeddings)"
   ]
  },
  {
   "cell_type": "code",
   "execution_count": 16,
   "metadata": {},
   "outputs": [],
   "source": [
    "sars_cov_2_name = 'CHEMBL.TARGET:CHEMBL4303835'"
   ]
  },
  {
   "cell_type": "code",
   "execution_count": 17,
   "metadata": {},
   "outputs": [],
   "source": [
    "sars_cov_2_idx = node_names.index(sars_cov_2_name)"
   ]
  },
  {
   "cell_type": "code",
   "execution_count": 18,
   "metadata": {},
   "outputs": [],
   "source": [
    "drug_idx = list(np.where(training.node_types == training.node_types_reverse_mapping.index('biolink:Drug'))[0])\n",
    "drug_names = [node_names[i] for i in drug_idx]"
   ]
  },
  {
   "cell_type": "code",
   "execution_count": 19,
   "metadata": {},
   "outputs": [],
   "source": [
    "chem_substance_idx = list(np.where(training.node_types == training.node_types_reverse_mapping.index('biolink:ChemicalSubstance'))[0])\n",
    "chem_substance_names = [node_names[i] for i in chem_substance_idx]"
   ]
  },
  {
   "cell_type": "code",
   "execution_count": 20,
   "metadata": {},
   "outputs": [],
   "source": [
    "import re\n",
    "chembl_prefix = 'CHEMBL.COMPOUND'\n",
    "chembl_names = [x for x in node_names if (match := re.compile(chembl_prefix).search(x))]\n",
    "chembl_idx = [index for index, x in enumerate(node_names) if (match := re.compile(chembl_prefix).search(x))]"
   ]
  },
  {
   "cell_type": "markdown",
   "metadata": {},
   "source": [
    "## Loading trained MLP models"
   ]
  },
  {
   "cell_type": "code",
   "execution_count": 21,
   "metadata": {},
   "outputs": [
    {
     "data": {
      "application/vnd.jupyter.widget-view+json": {
       "model_id": "2676be13e1fc4ee48259e2c533b1dd93",
       "version_major": 2,
       "version_minor": 0
      },
      "text/plain": [
       "HBox(children=(FloatProgress(value=0.0, max=4.0), HTML(value='')))"
      ]
     },
     "metadata": {},
     "output_type": "display_data"
    },
    {
     "name": "stdout",
     "output_type": "stream",
     "text": [
      "\n"
     ]
    }
   ],
   "source": [
    "from tqdm.auto import tqdm\n",
    "model_dir = \"link_prediction_experiment_models\"\n",
    "os.makedirs(model_dir, exist_ok=True)\n",
    "\n",
    "h5_files = [\"SkipGram_weightedL2_finalized_model.h5\", \"SkipGram_weightedL1_finalized_model.h5\", \\\n",
    "        \"SkipGram_hadamard_finalized_model.h5\", \"SkipGram_average_finalized_model.h5\"]\n",
    "base_url = \"https://zenodo.org/record/4031401/files/\"\n",
    "\n",
    "for file in tqdm(h5_files):\n",
    "    with urllib.request.urlopen(base_url + file) as response, \\\n",
    "        open(os.path.join(model_dir, file), 'wb') as out_file:\n",
    "            data = response.read()  # a `bytes` object\n",
    "            out_file.write(data)"
   ]
  },
  {
   "cell_type": "code",
   "execution_count": 22,
   "metadata": {},
   "outputs": [],
   "source": [
    "import tensorflow as tf\n",
    "mlp_model = (\"average\", tf.keras.models.load_model('link_prediction_experiment_models/SkipGram_average_finalized_model.h5'))"
   ]
  },
  {
   "cell_type": "code",
   "execution_count": 23,
   "metadata": {},
   "outputs": [],
   "source": [
    "sars_cov_2_emb = embeddings[sars_cov_2_idx]"
   ]
  },
  {
   "cell_type": "code",
   "execution_count": 24,
   "metadata": {},
   "outputs": [
    {
     "data": {
      "text/plain": [
       "'average'"
      ]
     },
     "execution_count": 24,
     "metadata": {},
     "output_type": "execute_result"
    }
   ],
   "source": [
    "mlp_model[0]"
   ]
  },
  {
   "cell_type": "code",
   "execution_count": 27,
   "metadata": {},
   "outputs": [],
   "source": [
    "from embiggen import GraphTransformer, EdgeTransformer\n",
    "\n",
    "assert(mlp_model[0] in EdgeTransformer.methods)\n",
    "\n",
    "transformer = GraphTransformer(mlp_model[0]) # pass edge embedding method, which is mlp_model[0]\n",
    "transformer.fit(embeddings)\n",
    "train_edges = transformer.transform(training)\n",
    "assert(training.get_edges_number() == len(train_edges))"
   ]
  },
  {
   "cell_type": "code",
   "execution_count": 28,
   "metadata": {},
   "outputs": [
    {
     "name": "stdout",
     "output_type": "stream",
     "text": [
      "(100,) (1, 100)\n"
     ]
    },
    {
     "data": {
      "text/plain": [
       "array([[0.93010485]], dtype=float32)"
      ]
     },
     "execution_count": 28,
     "metadata": {},
     "output_type": "execute_result"
    }
   ],
   "source": [
    "# let's try to predict a link that should exist in training graph\n",
    "# example SARS-CoV-2 -> ChEMBL compound edge (which should be positive)\n",
    "example_chembl_edge = train_edges[training.get_edge_id(sars_cov_2_idx, chembl_idx[0])]\n",
    "example_chembl_edge.shape\n",
    "example_chembl_edge.__class__\n",
    "print(example_chembl_edge.shape, example_chembl_edge.reshape(1, -1).shape)\n",
    "mlp_model[1].predict(example_chembl_edge.reshape(1, -1))"
   ]
  },
  {
   "cell_type": "code",
   "execution_count": null,
   "metadata": {},
   "outputs": [],
   "source": [
    "# previous value array([[0.93010485]], dtype=float32)"
   ]
  },
  {
   "cell_type": "code",
   "execution_count": null,
   "metadata": {},
   "outputs": [],
   "source": [
    "# I think here we need to make a new graph with a drug -> SARS-CoV-2 edge for every member of drug_idx"
   ]
  }
 ],
 "metadata": {
  "kernelspec": {
   "display_name": "Python 3",
   "language": "python",
   "name": "python3"
  },
  "language_info": {
   "codemirror_mode": {
    "name": "ipython",
    "version": 3
   },
   "file_extension": ".py",
   "mimetype": "text/x-python",
   "name": "python",
   "nbconvert_exporter": "python",
   "pygments_lexer": "ipython3",
   "version": "3.8.3"
  }
 },
 "nbformat": 4,
 "nbformat_minor": 4
}
