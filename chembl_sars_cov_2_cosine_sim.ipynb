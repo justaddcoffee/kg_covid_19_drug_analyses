{
 "cells": [
  {
   "cell_type": "markdown",
   "metadata": {},
   "source": [
    "## Loading the graphs\n",
    "Load the graph as a weighted undirected graph."
   ]
  },
  {
   "cell_type": "code",
   "execution_count": 1,
   "metadata": {},
   "outputs": [],
   "source": [
    "import os\n",
    "\n",
    "base_dl_dir = \"downloaded_data\"\n",
    "graph_data_dir = os.path.join(base_dl_dir, \"kg-covid-19-20201001\")\n",
    "embedding_data_dir = os.path.join(base_dl_dir, \"embeddings-20201001\")\n",
    "\n",
    "# graph stuff\n",
    "graph_out_file = os.path.join(graph_data_dir + \"/kg-covid-19.tar.gz\")\n",
    "nodes_file = os.path.join(graph_data_dir, \"merged-kg_nodes.tsv\")\n",
    "edges_file = os.path.join(graph_data_dir, \"merged-kg_edges.tsv\")\n",
    "sorted_edges_file = os.path.join(graph_data_dir, \"merged-kg_edges_SORTED.tsv\")\n",
    "graph_tar_url = \"https://kg-hub.berkeleybop.io/kg-covid-19/20201001/kg-covid-19.tar.gz\"\n",
    "\n",
    "# embeddings URLs\n",
    "base_kghub_url = \"http://kg-hub.berkeleybop.io/\"\n",
    "embeddings_url = os.path.join(base_kghub_url, \"embeddings/20201001/SkipGram_80_20_kg_covid_19_20201001_training_test_epoch_500_delta_0.0001_embedding.npy\")\n",
    "embedding_file = os.path.join(embedding_data_dir, \"SkipGram_embedding.npy\")\n",
    "\n",
    "# params\n",
    "seed = 42\n",
    "train_percentage = 0.8\n",
    "patience = 5"
   ]
  },
  {
   "cell_type": "code",
   "execution_count": 54,
   "metadata": {},
   "outputs": [],
   "source": [
    "chembl_antiviral_smile_cosine_sim_outfile = \"chembl_antiviral_smile_and_cosine_sim.tsv\"\n",
    "\n",
    "chembl_antiviral_dir = os.path.join(base_dl_dir, \"chembl_antiviral-20201001\")\n",
    "\n",
    "chembl_prefix = 'CHEMBL.COMPOUND'\n",
    "chembl_nodes_url = \"https://kg-hub.berkeleybop.io/kg-covid-19/20201001/transformed/ChEMBL/nodes.tsv\"\n",
    "chembl_nodes_file = os.path.join(chembl_antiviral_dir, \"nodes.tsv\")\n",
    "chembl_antiviral_file = os.path.join(chembl_antiviral_dir, \"sars_cov_2_compounds.txt\")"
   ]
  },
  {
   "cell_type": "code",
   "execution_count": 77,
   "metadata": {},
   "outputs": [],
   "source": [
    "sars_cov_2_gpi_dir = os.path.join(base_dl_dir, \"sars-cov-2-gpi\")\n",
    "sars_cov_2_gpi_file = os.path.join(sars_cov_2_gpi_dir, \"uniprot_sars-cov-2.gpi\")\n",
    "sars_cov_2_gpi_url = \"https://raw.githubusercontent.com/Knowledge-Graph-Hub/kg-covid-19/master/curated/ORFs/uniprot_sars-cov-2.gpi\""
   ]
  },
  {
   "cell_type": "code",
   "execution_count": 3,
   "metadata": {
    "pycharm": {
     "name": "#%%\n"
    }
   },
   "outputs": [],
   "source": [
    "from pkg_resources import get_distribution\n",
    "assert(get_distribution(\"ensmallen-graph\").version == '0.4.3')\n",
    "assert(get_distribution(\"embiggen\").version == '0.6.0')"
   ]
  },
  {
   "cell_type": "markdown",
   "metadata": {
    "pycharm": {
     "name": "#%% md\n"
    }
   },
   "source": [
    "#### Download the graph if necessary"
   ]
  },
  {
   "cell_type": "code",
   "execution_count": 4,
   "metadata": {
    "pycharm": {
     "is_executing": true,
     "name": "#%%\n"
    }
   },
   "outputs": [],
   "source": [
    "import urllib\n",
    "import os\n",
    "os.makedirs(graph_data_dir, exist_ok=True)\n",
    "\n",
    "if not os.path.exists(nodes_file) or not os.path.exists(edges_file):\n",
    "    with urllib.request.urlopen(graph_tar_url) as response, \\\n",
    "        open(graph_out_file, 'wb') as out_file:\n",
    "            data = response.read()  # a `bytes` object\n",
    "            out_file.write(data)\n",
    "    os.system(\"tar -xvzf \" + graph_out_file + \" -C \" + graph_data_dir)"
   ]
  },
  {
   "cell_type": "markdown",
   "metadata": {
    "pycharm": {
     "name": "#%% md\n"
    }
   },
   "source": [
    "#### Download embeddings if necessary"
   ]
  },
  {
   "cell_type": "code",
   "execution_count": 6,
   "metadata": {
    "pycharm": {
     "name": "#%%\n"
    }
   },
   "outputs": [],
   "source": [
    "os.makedirs(embedding_data_dir, exist_ok=True)\n",
    "\n",
    "if not os.path.exists(embedding_file):\n",
    "    with urllib.request.urlopen(embeddings_url) as response, \\\n",
    "        open(embedding_file, 'wb') as out_file:\n",
    "            data = response.read()  # a `bytes` object\n",
    "            out_file.write(data)"
   ]
  },
  {
   "cell_type": "markdown",
   "metadata": {
    "pycharm": {
     "name": "#%% md\n"
    }
   },
   "source": [
    "#### Make a sorted edge file if necessary"
   ]
  },
  {
   "cell_type": "code",
   "execution_count": 7,
   "metadata": {},
   "outputs": [
    {
     "name": "stdout",
     "output_type": "stream",
     "text": [
      "CPU times: user 2min 13s, sys: 6.91 s, total: 2min 20s\n",
      "Wall time: 2min 22s\n"
     ]
    }
   ],
   "source": [
    "%%time\n",
    "from ensmallen_graph import EnsmallenGraph\n",
    "\n",
    "if not os.path.exists(sorted_edges_file):\n",
    "    graph = EnsmallenGraph.from_unsorted_csv(\n",
    "        edge_path = edges_file,\n",
    "        sources_column=\"subject\",\n",
    "        destinations_column=\"object\",\n",
    "        directed=False,\n",
    "        node_path = nodes_file,\n",
    "        nodes_column = 'id',\n",
    "        node_types_column = 'category',\n",
    "        default_node_type = 'biolink:NamedThing'\n",
    "    )\n",
    "\n",
    "    graph.dump_edges(sorted_edges_file,\n",
    "        sources_column=\"subject\",\n",
    "        destinations_column=\"object\")"
   ]
  },
  {
   "cell_type": "code",
   "execution_count": 8,
   "metadata": {
    "pycharm": {
     "is_executing": true
    }
   },
   "outputs": [
    {
     "name": "stdout",
     "output_type": "stream",
     "text": [
      "CPU times: user 45.3 s, sys: 2 s, total: 47.3 s\n",
      "Wall time: 48 s\n"
     ]
    },
    {
     "data": {
      "text/plain": [
       "{'degree_mean': '81.96836406878597',\n",
       " 'edges_number': '30949369',\n",
       " 'directed': 'false',\n",
       " 'singletons': '8314',\n",
       " 'self_loops_rate': '0.00001554151233261008',\n",
       " 'density': '0.037284237441157525',\n",
       " 'self_loops_number': '481',\n",
       " 'unique_node_types_number': '37',\n",
       " 'unique_edge_types_number': '0',\n",
       " 'nodes_number': '377577'}"
      ]
     },
     "execution_count": 8,
     "metadata": {},
     "output_type": "execute_result"
    }
   ],
   "source": [
    "%%time\n",
    "from ensmallen_graph import EnsmallenGraph\n",
    "\n",
    "graph = EnsmallenGraph.from_sorted_csv(\n",
    "    edge_path = sorted_edges_file,\n",
    "    sources_column=\"subject\",\n",
    "    destinations_column=\"object\",\n",
    "    directed=False,\n",
    "    nodes_number=377577,  # should be = or > than actual number\n",
    "    edges_number=30949369,   # same ^\n",
    "    node_path = nodes_file,\n",
    "    nodes_column = 'id',\n",
    "    node_types_column = 'category',\n",
    "    default_node_type = 'biolink:NamedThing'\n",
    ")\n",
    "\n",
    "graph.report()"
   ]
  },
  {
   "cell_type": "code",
   "execution_count": 10,
   "metadata": {
    "pycharm": {
     "is_executing": true,
     "name": "#%%\n"
    }
   },
   "outputs": [
    {
     "name": "stdout",
     "output_type": "stream",
     "text": [
      "CPU times: user 2min 6s, sys: 2 s, total: 2min 8s\n",
      "Wall time: 2min 9s\n"
     ]
    }
   ],
   "source": [
    "%%time\n",
    "pos_training, pos_validation = graph.connected_holdout(train_percentage, seed=seed)"
   ]
  },
  {
   "cell_type": "markdown",
   "metadata": {
    "pycharm": {
     "name": "#%% md\n"
    }
   },
   "source": [
    "The followings are not strictly necessary, but are offered as sanity checks:"
   ]
  },
  {
   "cell_type": "code",
   "execution_count": 13,
   "metadata": {
    "pycharm": {
     "is_executing": true,
     "name": "#%%\n"
    }
   },
   "outputs": [
    {
     "name": "stdout",
     "output_type": "stream",
     "text": [
      "CPU times: user 19min 47s, sys: 8.17 s, total: 19min 55s\n",
      "Wall time: 4min 22s\n"
     ]
    }
   ],
   "source": [
    "%%time\n",
    "coherence_check=True\n",
    "if coherence_check:\n",
    "    assert graph.contains(pos_training)\n",
    "    assert graph.contains(pos_validation)\n",
    "    assert (pos_training | pos_validation).contains(graph)\n",
    "    assert graph.contains(pos_training | pos_validation)\n",
    "    assert not pos_training.overlaps(pos_validation)\n",
    "    assert not pos_validation.overlaps(pos_training)"
   ]
  },
  {
   "cell_type": "markdown",
   "metadata": {
    "pycharm": {
     "name": "#%% md\n"
    }
   },
   "source": [
    "## Loading the embeddings"
   ]
  },
  {
   "cell_type": "code",
   "execution_count": 14,
   "metadata": {
    "pycharm": {
     "is_executing": true
    }
   },
   "outputs": [],
   "source": [
    "import numpy as np\n",
    "embeddings = np.load(embedding_file)"
   ]
  },
  {
   "cell_type": "code",
   "execution_count": 22,
   "metadata": {
    "pycharm": {
     "is_executing": true
    }
   },
   "outputs": [],
   "source": [
    "node_curies = list(np.array(pos_training.get_nodes_reverse_mapping()))"
   ]
  },
  {
   "cell_type": "code",
   "execution_count": 111,
   "metadata": {
    "pycharm": {
     "is_executing": true,
     "name": "#%%\n"
    }
   },
   "outputs": [],
   "source": [
    "assert len(node_curies) == len(embeddings)"
   ]
  },
  {
   "cell_type": "markdown",
   "metadata": {
    "pycharm": {
     "name": "#%% md\n"
    }
   },
   "source": [
    "### Add the graph nodes representating SARS-CoV-2 as a column (nodes of interest)"
   ]
  },
  {
   "cell_type": "code",
   "execution_count": 112,
   "metadata": {
    "pycharm": {
     "is_executing": true
    }
   },
   "outputs": [],
   "source": [
    "sars_cov_2_curie = 'CHEMBL.TARGET:CHEMBL4303835'\n",
    "sars_cov_2_curie_alt = 'NCBITaxon:2697049'\n",
    "sars_cov_2_idx = node_curies.index(sars_cov_2_curie)"
   ]
  },
  {
   "cell_type": "code",
   "execution_count": 114,
   "metadata": {},
   "outputs": [],
   "source": [
    "nodes_of_interest = [\n",
    "    {'name': 'SARS-CoV-2',\n",
    "     'curie': sars_cov_2_curie,\n",
    "     'node_id': node_curies.index(sars_cov_2_curie),\n",
    "    },\n",
    "    {'name': 'SARS-CoV-2 (alternate node)',\n",
    "     'curie': sars_cov_2_curie_alt,\n",
    "     'node_id': node_curies.index(sars_cov_2_curie_alt),\n",
    "    },\n",
    "]"
   ]
  },
  {
   "cell_type": "code",
   "execution_count": 115,
   "metadata": {},
   "outputs": [],
   "source": [
    "import wget\n",
    "\n",
    "if not os.path.exists(sars_cov_2_gpi_file):\n",
    "    os.makedirs(sars_cov_2_gpi_dir, exist_ok=True)\n",
    "    filename = wget.download(sars_cov_2_gpi_url, sars_cov_2_gpi_file)\n",
    "\n",
    "with open(sars_cov_2_gpi_file, 'r') as gpi:\n",
    "    lines = gpi.readlines()\n",
    "    # print(\"NAME\\tDB ID\")\n",
    "    for line in lines:\n",
    "        if line.startswith(\"!\"):\n",
    "            continue\n",
    "        fields = line.split(\"\\t\")\n",
    "        this_curie = \":\".join([fields[0], fields[1]])\n",
    "        nodes_of_interest.append({'name': fields[2],\n",
    "                                  'curie': this_curie,\n",
    "                                  'node_id': node_curies.index(this_curie)\n",
    "                                 })"
   ]
  },
  {
   "cell_type": "markdown",
   "metadata": {
    "pycharm": {
     "name": "#%% md\n"
    }
   },
   "source": [
    "### method to compute matrix of cosine similarities"
   ]
  },
  {
   "cell_type": "code",
   "execution_count": 144,
   "metadata": {},
   "outputs": [],
   "source": [
    "from tqdm import tqdm\n",
    "from scipy import spatial\n",
    "\n",
    "def get_cosine_sim(x: list, y: list, embeddings: np.ndarray) ->  np.ndarray:\n",
    "    cosine_sim = np.full((len(x), len(y)), -1000.0000)\n",
    "\n",
    "    # precompute node idx to speed things up\n",
    "    x_node_idx = [node_curies.index(i) for i in tqdm(x, \"preloading x node indexes\")]\n",
    "    y_node_idx = [node_curies.index(i) for i in tqdm(y, \"preloading y node indexes\")]\n",
    "\n",
    "    for i, row_curie in tqdm(enumerate(x), \"computing cosine sim\"):\n",
    "        for j, col_curie in enumerate(y):\n",
    "            row_emb = embeddings[x_node_idx[i]]\n",
    "            col_emb = embeddings[y_node_idx[j]]\n",
    "            cosine_sim[i,j] = 1 - spatial.distance.cosine(row_emb, col_emb)\n",
    "\n",
    "    return cosine_sim"
   ]
  },
  {
   "cell_type": "markdown",
   "source": [
    "## Rank ChEMBL antivirals by cosine similarity to SARS-CoV-2"
   ],
   "metadata": {
    "collapsed": false
   }
  },
  {
   "cell_type": "code",
   "execution_count": null,
   "outputs": [],
   "source": [
    "if not os.path.exists(os.path.join(chembl_nodes_file)):\n",
    "    os.makedirs(chembl_antiviral_dir, exist_ok=True)\n",
    "    with urllib.request.urlopen(chembl_nodes_url) as response, \\\n",
    "        open(chembl_nodes_file, 'wb') as out_file:\n",
    "            data = response.read()  # a `bytes` object\n",
    "            out_file.write(data)"
   ],
   "metadata": {
    "collapsed": false,
    "pycharm": {
     "name": "#%%\n"
    }
   }
  },
  {
   "cell_type": "code",
   "execution_count": null,
   "outputs": [],
   "source": [
    "import re\n",
    "\n",
    "chembl_antiviral_curies = []\n",
    "chembl_antiviral_names = []\n",
    "chembl_antiviral_smile = []\n",
    "\n",
    "with open(chembl_nodes_file, 'r') as f:\n",
    "    header = f.readline().split(\"\\t\")\n",
    "    lines = f.readlines()\n",
    "    for line in lines:\n",
    "        items = line.split(\"\\t\")\n",
    "        this_id = items[header.index(\"id\")]\n",
    "        this_name = items[header.index(\"name\")]\n",
    "        this_smile = items[header.index(\"canonical_smiles\")]\n",
    "        if re.match(chembl_prefix, this_id):\n",
    "            chembl_antiviral_curies.append(this_id)\n",
    "            chembl_antiviral_names.append(this_name)\n",
    "            chembl_antiviral_smile.append(this_smile)"
   ],
   "metadata": {
    "collapsed": false,
    "pycharm": {
     "name": "#%%\n"
    }
   }
  },
  {
   "cell_type": "code",
   "execution_count": null,
   "outputs": [],
   "source": [
    "chembl_antiviral_cosine_sim = get_cosine_sim(\n",
    "    chembl_antiviral_curies,\n",
    "    [i.get(\"curie\") for i in nodes_of_interest],\n",
    "    embeddings\n",
    "    )"
   ],
   "metadata": {
    "collapsed": false,
    "pycharm": {
     "name": "#%%\n"
    }
   }
  },
  {
   "cell_type": "code",
   "execution_count": null,
   "outputs": [],
   "source": [
    "# why not\n",
    "import matplotlib.pyplot as plt\n",
    "import numpy as np\n",
    "\n",
    "plt.imshow(chembl_antiviral_cosine_sim, cmap='jet', aspect='auto')\n",
    "plt.title(\"Cosine similarity\\nChEMBL antivirals vs SARS-CoV-2\", fontsize=18)\n",
    "plt.xlabel('SARS-CoV-2', fontsize=18)\n",
    "plt.ylabel('ChEMBL antivirals', fontsize=16)\n",
    "plt.xticks(ticks=np.arange(len(nodes_of_interest)),\n",
    "           labels=[n.get('name') for n in nodes_of_interest],\n",
    "           rotation=90\n",
    "          )\n",
    "plt.show()\n",
    "\n",
    "\n",
    "z = chembl_antiviral_cosine_sim.copy()\n",
    "z[z < 0] = 0\n",
    "\n",
    "plt.imshow(z, cmap='jet', aspect='auto')\n",
    "plt.title(\"Cosine similarity\\nChEMBL antivirals vs SARS-CoV-2\\n(remove neg sim)\", fontsize=18)\n",
    "plt.xlabel('SARS-CoV-2', fontsize=18)\n",
    "plt.ylabel('ChEMBL antivirals', fontsize=16)\n",
    "plt.xticks(ticks=np.arange(len(nodes_of_interest)),\n",
    "           labels=[n.get('name') for n in nodes_of_interest],\n",
    "           rotation=90)\n",
    "plt.show()"
   ],
   "metadata": {
    "collapsed": false,
    "pycharm": {
     "name": "#%%\n"
    }
   }
  },
  {
   "cell_type": "markdown",
   "metadata": {
    "pycharm": {
     "is_executing": true
    }
   },
   "source": [
    "sars_cov_2_emb = embeddings[sars_cov_2_idx]\n",
    "sars_cov_2_emb.shape\n",
    "\n",
    "antiviral_emb = embeddings[chembl_antiviral_idx[0]]\n",
    "antiviral_emb.shape"
   ]
  },
  {
   "cell_type": "code",
   "execution_count": 86,
   "metadata": {
    "pycharm": {
     "is_executing": true
    }
   },
   "outputs": [],
   "source": [
    "if not os.path.exists(os.path.join(chembl_nodes_file)):\n",
    "    os.makedirs(chembl_antiviral_dir, exist_ok=True)\n",
    "    with urllib.request.urlopen(chembl_nodes_url) as response, \\\n",
    "        open(chembl_nodes_file, 'wb') as out_file:\n",
    "            data = response.read()  # a `bytes` object\n",
    "            out_file.write(data)"
   ]
  },
  {
   "cell_type": "code",
   "execution_count": 87,
   "metadata": {},
   "outputs": [],
   "source": [
    "import re\n",
    "\n",
    "chembl_antiviral_curies = []\n",
    "chembl_antiviral_names = []\n",
    "chembl_antiviral_smile = []\n",
    "\n",
    "with open(chembl_nodes_file, 'r') as f:\n",
    "    header = f.readline().split(\"\\t\")\n",
    "    lines = f.readlines()\n",
    "    for line in lines:\n",
    "        items = line.split(\"\\t\")\n",
    "        this_id = items[header.index(\"id\")]\n",
    "        this_name = items[header.index(\"name\")]\n",
    "        this_smile = items[header.index(\"canonical_smiles\")]\n",
    "        if re.match(chembl_prefix, this_id):\n",
    "            chembl_antiviral_curies.append(this_id)\n",
    "            chembl_antiviral_names.append(this_name)\n",
    "            chembl_antiviral_smile.append(this_smile)"
   ]
  },
  {
   "cell_type": "code",
   "execution_count": 145,
   "metadata": {
    "scrolled": true
   },
   "outputs": [
    {
     "name": "stderr",
     "output_type": "stream",
     "text": [
      "preloading x node indexes: 100%|██████████| 6900/6900 [00:27<00:00, 247.99it/s]\n",
      "preloading y node indexes: 100%|██████████| 34/34 [00:00<00:00, 206.86it/s]\n",
      "computing cosine sim: 6900it [00:11, 599.67it/s]\n"
     ]
    }
   ],
   "source": [
    "chembl_antiviral_cosine_sim = get_cosine_sim(\n",
    "    chembl_antiviral_curies,\n",
    "    [i.get(\"curie\") for i in nodes_of_interest],\n",
    "    embeddings\n",
    "    )"
   ]
  },
  {
   "cell_type": "code",
   "execution_count": 146,
   "metadata": {},
   "outputs": [
    {
     "data": {
      "image/png": "[encoded data removed]",
      "text/plain": [
       "<Figure size 432x288 with 1 Axes>"
      ]
     },
     "metadata": {
      "needs_background": "light"
     },
     "output_type": "display_data"
    },
    {
     "data": {
      "image/png": "[encoded data removed]",
      "text/plain": [
       "<Figure size 432x288 with 1 Axes>"
      ]
     },
     "metadata": {
      "needs_background": "light"
     },
     "output_type": "display_data"
    }
   ],
   "source": [
    "# why not\n",
    "import matplotlib.pyplot as plt\n",
    "import numpy as np\n",
    "\n",
    "plt.imshow(chembl_antiviral_cosine_sim, cmap='jet', aspect='auto')\n",
    "plt.title(\"Cosine similarity\\nChEMBL antivirals vs SARS-CoV-2\", fontsize=18)\n",
    "plt.xlabel('SARS-CoV-2', fontsize=18)\n",
    "plt.ylabel('ChEMBL antivirals', fontsize=16)\n",
    "plt.xticks(ticks=np.arange(len(nodes_of_interest)),\n",
    "           labels=[n.get('name') for n in nodes_of_interest],\n",
    "           rotation=90\n",
    "          )\n",
    "plt.show()\n",
    "\n",
    "\n",
    "z = chembl_antiviral_cosine_sim.copy()\n",
    "z[z < 0] = 0\n",
    "\n",
    "plt.imshow(z, cmap='jet', aspect='auto')\n",
    "plt.title(\"Cosine similarity\\nChEMBL antivirals vs SARS-CoV-2\\n(remove neg sim)\", fontsize=18)\n",
    "plt.xlabel('SARS-CoV-2', fontsize=18)\n",
    "plt.ylabel('ChEMBL antivirals', fontsize=16)\n",
    "plt.xticks(ticks=np.arange(len(nodes_of_interest)),\n",
    "           labels=[n.get('name') for n in nodes_of_interest],\n",
    "           rotation=90)\n",
    "plt.show()"
   ]
  },
  {
   "cell_type": "code",
   "execution_count": null,
   "metadata": {
    "pycharm": {
     "is_executing": true
    }
   },
   "outputs": [],
   "source": [
    "sars_cov_2_emb = embeddings[sars_cov_2_idx]\n",
    "sars_cov_2_emb.shape\n",
    "\n",
    "antiviral_emb = embeddings[chembl_antiviral_idx[0]]\n",
    "antiviral_emb.shape"
   ]
  },
  {
   "cell_type": "code",
   "execution_count": null,
   "metadata": {
    "pycharm": {
     "is_executing": true
    }
   },
   "outputs": [],
   "source": [
    "from sklearn.metrics.pairwise import cosine_similarity\n",
    "from tqdm import tqdm\n",
    "\n",
    "chembl_antiviral_cosine_sim = []\n",
    "\n",
    "sars_cov_2_emb = embeddings[sars_cov_2_idx]\n",
    "\n",
    "for antiviral_idx in tqdm(chembl_antiviral_idx):\n",
    "    antiviral_emb = embeddings[antiviral_idx]\n",
    "    chembl_antiviral_cosine_sim.append(1 - spatial.distance.cosine(antiviral_emb, sars_cov_2_emb))"
   ]
  },
  {
   "cell_type": "code",
   "execution_count": null,
   "metadata": {
    "pycharm": {
     "is_executing": true
    }
   },
   "outputs": [],
   "source": [
    "import csv\n",
    "\n",
    "with open(\"chembl_antiviral_names_ranked.csv\", \"w\", newline=\"\") as f:\n",
    "    writer = csv.writer(f)\n",
    "    writer.writerows(chembl_antiviral_names_ranked)"
   ]
  },
  {
   "cell_type": "code",
   "execution_count": null,
   "metadata": {
    "pycharm": {
     "is_executing": true
    }
   },
   "outputs": [],
   "source": [
    "chembl_antiviral_names_ranked"
   ]
  },
  {
   "cell_type": "code",
   "execution_count": null,
   "metadata": {
    "pycharm": {
     "is_executing": true
    },
    "scrolled": true
   },
   "outputs": [],
   "source": [
    "chembl_antiviral_names_ranked[0:10]"
   ]
  },
  {
   "cell_type": "code",
   "execution_count": null,
   "metadata": {
    "pycharm": {
     "is_executing": true
    }
   },
   "outputs": [],
   "source": [
    "## Rank all drugs by cosine sim to SARS-CoV-2"
   ]
  },
  {
   "cell_type": "code",
   "execution_count": null,
   "metadata": {
    "pycharm": {
     "is_executing": true
    }
   },
   "outputs": [],
   "source": [
    "assert len(training.node_types) == len(embeddings)"
   ]
  },
  {
   "cell_type": "code",
   "execution_count": null,
   "metadata": {
    "pycharm": {
     "is_executing": true
    }
   },
   "outputs": [],
   "source": [
    "drug_idx = list(np.where(training.node_types == training.node_types_reverse_mapping.index('biolink:Drug'))[0])"
   ]
  },
  {
   "cell_type": "code",
   "execution_count": null,
   "metadata": {
    "pycharm": {
     "is_executing": true
    }
   },
   "outputs": [],
   "source": [
    "drug_names = [node_names[i] for i in drug_idx]"
   ]
  },
  {
   "cell_type": "code",
   "execution_count": null,
   "metadata": {
    "pycharm": {
     "is_executing": true
    }
   },
   "outputs": [],
   "source": [
    "drug_cosine_sim = []\n",
    "\n",
    "sars_cov_2_emb = embeddings[sars_cov_2_idx]\n",
    "\n",
    "for drug_i in tqdm(drug_idx):\n",
    "    drug_emb = embeddings[drug_i]\n",
    "    drug_cosine_sim.append(1 - spatial.distance.cosine(drug_emb, sars_cov_2_emb))"
   ]
  },
  {
   "cell_type": "code",
   "execution_count": null,
   "metadata": {
    "pycharm": {
     "is_executing": true
    }
   },
   "outputs": [],
   "source": [
    "drugs_ranked = [[x,y] for y, x in sorted(zip(drug_cosine_sim,drug_names), key=lambda pair: pair[0], reverse=True)]"
   ]
  },
  {
   "cell_type": "code",
   "execution_count": null,
   "metadata": {
    "pycharm": {
     "is_executing": true
    },
    "scrolled": true
   },
   "outputs": [],
   "source": [
    "drugs_ranked[0:5]"
   ]
  },
  {
   "cell_type": "markdown",
   "metadata": {
    "pycharm": {
     "is_executing": true
    },
    "scrolled": false
   },
   "source": [
    "## Sort everything by closeness to SARS-CoV-2\n",
    "\n"
   ]
  },
  {
   "cell_type": "code",
   "execution_count": null,
   "metadata": {
    "pycharm": {
     "is_executing": true
    }
   },
   "outputs": [],
   "source": [
    "# Sort all the things\n",
    "sars_cov_2_emb = embeddings[sars_cov_2_idx]\n",
    "\n",
    "node_sim = []\n",
    "\n",
    "for idx in tqdm(range(len(node_names))):\n",
    "    this_emb = embeddings[idx]\n",
    "    node_sim.append(1 - spatial.distance.cosine(this_emb, sars_cov_2_emb))"
   ]
  },
  {
   "cell_type": "code",
   "execution_count": null,
   "metadata": {
    "pycharm": {
     "is_executing": true
    }
   },
   "outputs": [],
   "source": [
    "everything_ranked = [[x,y] for y, x in sorted(zip(node_sim,node_names), key=lambda pair: pair[0], reverse=True)]"
   ]
  },
  {
   "cell_type": "code",
   "execution_count": null,
   "metadata": {
    "pycharm": {
     "is_executing": true
    },
    "scrolled": true
   },
   "outputs": [],
   "source": [
    "everything_ranked[0:100]"
   ]
  }
 ],
 "metadata": {
  "kernelspec": {
   "display_name": "Python 3",
   "language": "python",
   "name": "python3"
  },
  "language_info": {
   "codemirror_mode": {
    "name": "ipython",
    "version": 3
   },
   "file_extension": ".py",
   "mimetype": "text/x-python",
   "name": "python",
   "nbconvert_exporter": "python",
   "pygments_lexer": "ipython3",
   "version": "3.7.9"
  }
 },
 "nbformat": 4,
 "nbformat_minor": 4
}