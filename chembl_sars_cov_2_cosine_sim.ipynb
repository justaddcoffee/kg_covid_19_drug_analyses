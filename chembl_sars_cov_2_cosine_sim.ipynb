{
 "cells": [
  {
   "cell_type": "markdown",
   "metadata": {},
   "source": [
    "## Loading the graphs\n",
    "We load the graph as a weighted undirected graph.\n",
    "\n",
    "To load the graph we are using the sister package of Embiggen called [Ensmallen](https://github.com/LucaCappelletti94/ensmallen_graph). Ensmallen is a Rust library with python bindings to handle processing of graph files and preprocessing of data for quickly training embedding models."
   ]
  },
  {
   "cell_type": "code",
   "execution_count": 1,
   "metadata": {},
   "outputs": [],
   "source": [
    "from ensmallen_graph import EnsmallenGraph\n",
    "\n",
    "graph = EnsmallenGraph.from_csv(\n",
    "    edge_path=\"/home/jtr4v/merged-kg_edges.tsv\",\n",
    "    sources_column=\"subject\",\n",
    "    destinations_column=\"object\",\n",
    "    directed=False,\n",
    "    edge_types_column=\"edge_label\",\n",
    "    default_edge_type=\"biolink:association\",\n",
    "    node_path=\"/home/jtr4v/merged-kg_nodes.tsv\",\n",
    "    nodes_column=\"id\",\n",
    "    node_types_column=\"category\",\n",
    "    default_node_type=\"biolink:NamedThing\",\n",
    "    ignore_duplicated_edges=True,\n",
    "    ignore_duplicated_nodes=True,\n",
    "    force_conversion_to_undirected=True\n",
    ")"
   ]
  },
  {
   "cell_type": "code",
   "execution_count": 2,
   "metadata": {},
   "outputs": [
    {
     "data": {
      "text/plain": [
       "{'strongly_connected_components_number': '8976',\n",
       " 'nodes_number': '375365',\n",
       " 'unique_edge_types_number': '211',\n",
       " 'unique_node_types_number': '36',\n",
       " 'connected_components_number': '8976',\n",
       " 'traps_rate': '0.021906677500566116',\n",
       " 'degrees_mean': '82.22343319169342',\n",
       " 'edges_number': '30863799',\n",
       " 'degrees_min': '0',\n",
       " 'singleton_nodes': '8223',\n",
       " 'degrees_mode': '1',\n",
       " 'selfloops_rate': '0.00001539019872440201',\n",
       " 'degrees_max': '90378',\n",
       " 'density': '0.00021904928054478553',\n",
       " 'is_directed': 'false',\n",
       " 'degrees_median': '6',\n",
       " 'bidirectional_rate': '1'}"
      ]
     },
     "execution_count": 2,
     "metadata": {},
     "output_type": "execute_result"
    }
   ],
   "source": [
    "graph.report()"
   ]
  },
  {
   "cell_type": "code",
   "execution_count": 3,
   "metadata": {},
   "outputs": [],
   "source": [
    "training, validation = graph.connected_holdout(42, 0.8)"
   ]
  },
  {
   "cell_type": "code",
   "execution_count": 4,
   "metadata": {},
   "outputs": [
    {
     "data": {
      "text/plain": [
       "{'degrees_max': '71815',\n",
       " 'is_directed': 'false',\n",
       " 'strongly_connected_components_number': '8976',\n",
       " 'density': '0.0001752394301136591',\n",
       " 'nodes_number': '375365',\n",
       " 'singleton_nodes': '8231',\n",
       " 'degrees_mean': '65.77874868461365',\n",
       " 'unique_node_types_number': '36',\n",
       " 'selfloops_rate': '0.000015066194052579398',\n",
       " 'degrees_mode': '1',\n",
       " 'traps_rate': '0.021927990089646077',\n",
       " 'connected_components_number': '8976',\n",
       " 'bidirectional_rate': '1',\n",
       " 'unique_edge_types_number': '211',\n",
       " 'degrees_median': '5',\n",
       " 'edges_number': '24691040',\n",
       " 'degrees_min': '0'}"
      ]
     },
     "execution_count": 4,
     "metadata": {},
     "output_type": "execute_result"
    }
   ],
   "source": [
    "training.report()"
   ]
  },
  {
   "cell_type": "code",
   "execution_count": 5,
   "metadata": {
    "scrolled": true
   },
   "outputs": [
    {
     "data": {
      "text/plain": [
       "{'selfloops_rate': '0.000016686217621650222',\n",
       " 'bidirectional_rate': '1',\n",
       " 'nodes_number': '375365',\n",
       " 'degrees_median': '1',\n",
       " 'unique_edge_types_number': '211',\n",
       " 'connected_components_number': '162436',\n",
       " 'unique_node_types_number': '36',\n",
       " 'degrees_mean': '16.444684507079774',\n",
       " 'singleton_nodes': '158026',\n",
       " 'is_directed': 'false',\n",
       " 'edges_number': '6172759',\n",
       " 'density': '0.00004380985043112644',\n",
       " 'degrees_mode': '0',\n",
       " 'degrees_min': '0',\n",
       " 'traps_rate': '0.42099290024376274',\n",
       " 'strongly_connected_components_number': '162436',\n",
       " 'degrees_max': '18563'}"
      ]
     },
     "execution_count": 5,
     "metadata": {},
     "output_type": "execute_result"
    }
   ],
   "source": [
    "validation.report()"
   ]
  },
  {
   "cell_type": "markdown",
   "metadata": {},
   "source": [
    "The followings are check that are not necessary, but are offered as sanity checks:"
   ]
  },
  {
   "cell_type": "code",
   "execution_count": 6,
   "metadata": {},
   "outputs": [],
   "source": [
    "assert graph > training\n",
    "assert graph > validation"
   ]
  },
  {
   "cell_type": "markdown",
   "metadata": {},
   "source": [
    "## Loading the embeddings"
   ]
  },
  {
   "cell_type": "code",
   "execution_count": 7,
   "metadata": {},
   "outputs": [],
   "source": [
    "import numpy as np\n",
    "\n",
    "embeddings = np.load(\"/home/jtr4v/SkipGram_embedding.npy\")"
   ]
  },
  {
   "cell_type": "code",
   "execution_count": 8,
   "metadata": {},
   "outputs": [],
   "source": [
    "node_names = list(np.array(training.nodes_reverse_mapping))"
   ]
  },
  {
   "cell_type": "code",
   "execution_count": 9,
   "metadata": {},
   "outputs": [],
   "source": [
    "assert len(training.nodes_reverse_mapping) == len(embeddings)"
   ]
  },
  {
   "cell_type": "code",
   "execution_count": 10,
   "metadata": {},
   "outputs": [],
   "source": [
    "## Rank ChEMBL antivirals by cosine sim to SARS-CoV-2"
   ]
  },
  {
   "cell_type": "code",
   "execution_count": 11,
   "metadata": {},
   "outputs": [],
   "source": [
    "sars_cov_2_name = 'CHEMBL.TARGET:CHEMBL4303835'"
   ]
  },
  {
   "cell_type": "code",
   "execution_count": 12,
   "metadata": {},
   "outputs": [],
   "source": [
    "sars_cov_2_idx = node_names.index(sars_cov_2_name)"
   ]
  },
  {
   "cell_type": "code",
   "execution_count": 13,
   "metadata": {},
   "outputs": [],
   "source": [
    "with open('/home/jtr4v/sars_cov_2_compounds.txt') as f:\n",
    "    chembl_antiviral_names = f.read().splitlines()"
   ]
  },
  {
   "cell_type": "code",
   "execution_count": 14,
   "metadata": {},
   "outputs": [],
   "source": [
    "chembl_antiviral_idx = [node_names.index(av) for av in chembl_antiviral_names]"
   ]
  },
  {
   "cell_type": "code",
   "execution_count": 15,
   "metadata": {},
   "outputs": [
    {
     "data": {
      "text/plain": [
       "(100,)"
      ]
     },
     "execution_count": 15,
     "metadata": {},
     "output_type": "execute_result"
    }
   ],
   "source": [
    "sars_cov_2_emb = embeddings[sars_cov_2_idx]\n",
    "sars_cov_2_emb.shape\n",
    "\n",
    "antiviral_emb = embeddings[chembl_antiviral_idx[0]]\n",
    "antiviral_emb.shape"
   ]
  },
  {
   "cell_type": "code",
   "execution_count": 16,
   "metadata": {
    "scrolled": true
   },
   "outputs": [
    {
     "data": {
      "text/plain": [
       "0.9491932392120361"
      ]
     },
     "execution_count": 16,
     "metadata": {},
     "output_type": "execute_result"
    }
   ],
   "source": [
    "from scipy import spatial\n",
    "1 - spatial.distance.cosine(antiviral_emb, sars_cov_2_emb)"
   ]
  },
  {
   "cell_type": "code",
   "execution_count": 17,
   "metadata": {},
   "outputs": [
    {
     "name": "stderr",
     "output_type": "stream",
     "text": [
      "100%|██████████| 6900/6900 [00:00<00:00, 19721.91it/s]\n"
     ]
    }
   ],
   "source": [
    "from sklearn.metrics.pairwise import cosine_similarity\n",
    "from tqdm import tqdm\n",
    "\n",
    "chembl_antiviral_cosine_sim = []\n",
    "\n",
    "sars_cov_2_emb = embeddings[sars_cov_2_idx]\n",
    "\n",
    "for antiviral_idx in tqdm(chembl_antiviral_idx):\n",
    "    antiviral_emb = embeddings[antiviral_idx]\n",
    "    chembl_antiviral_cosine_sim.append(1 - spatial.distance.cosine(antiviral_emb, sars_cov_2_emb))"
   ]
  },
  {
   "cell_type": "code",
   "execution_count": 18,
   "metadata": {},
   "outputs": [],
   "source": [
    "chembl_antiviral_names_ranked = [[x,y] for y, x in sorted(zip(chembl_antiviral_cosine_sim,chembl_antiviral_names), key=lambda pair: pair[0], reverse=True)]"
   ]
  },
  {
   "cell_type": "code",
   "execution_count": 31,
   "metadata": {
    "scrolled": true
   },
   "outputs": [
    {
     "data": {
      "text/plain": [
       "[['CHEMBL.COMPOUND:CHEMBL58', 0.9827765822410583],\n",
       " ['CHEMBL.COMPOUND:CHEMBL289277', 0.9827749133110046],\n",
       " ['CHEMBL.COMPOUND:CHEMBL297453', 0.9827325344085693],\n",
       " ['CHEMBL.COMPOUND:CHEMBL1484', 0.9821076989173889],\n",
       " ['CHEMBL.COMPOUND:CHEMBL205596', 0.981408417224884],\n",
       " ['CHEMBL.COMPOUND:CHEMBL226335', 0.9810521602630615],\n",
       " ['CHEMBL.COMPOUND:CHEMBL224867', 0.980166494846344],\n",
       " ['CHEMBL.COMPOUND:CHEMBL145', 0.9799341559410095],\n",
       " ['CHEMBL.COMPOUND:CHEMBL1464', 0.9798558950424194],\n",
       " ['CHEMBL.COMPOUND:CHEMBL58510', 0.9797195196151733]]"
      ]
     },
     "execution_count": 31,
     "metadata": {},
     "output_type": "execute_result"
    }
   ],
   "source": [
    "chembl_antiviral_names_ranked[0:10]"
   ]
  },
  {
   "cell_type": "code",
   "execution_count": 20,
   "metadata": {},
   "outputs": [],
   "source": [
    "## Rank all drugs by cosine sim to SARS-CoV-2"
   ]
  },
  {
   "cell_type": "code",
   "execution_count": 21,
   "metadata": {},
   "outputs": [],
   "source": [
    "assert len(training.node_types) == len(embeddings)"
   ]
  },
  {
   "cell_type": "code",
   "execution_count": 22,
   "metadata": {},
   "outputs": [],
   "source": [
    "drug_idx = list(np.where(training.node_types == training.node_types_reverse_mapping.index('biolink:Drug'))[0])"
   ]
  },
  {
   "cell_type": "code",
   "execution_count": 23,
   "metadata": {},
   "outputs": [],
   "source": [
    "drug_names = [node_names[i] for i in drug_idx]"
   ]
  },
  {
   "cell_type": "code",
   "execution_count": 24,
   "metadata": {},
   "outputs": [
    {
     "name": "stderr",
     "output_type": "stream",
     "text": [
      "100%|██████████| 32109/32109 [00:01<00:00, 19558.92it/s]\n"
     ]
    }
   ],
   "source": [
    "drug_cosine_sim = []\n",
    "\n",
    "sars_cov_2_emb = embeddings[sars_cov_2_idx]\n",
    "\n",
    "for drug_i in tqdm(drug_idx):\n",
    "    drug_emb = embeddings[drug_i]\n",
    "    drug_cosine_sim.append(1 - spatial.distance.cosine(drug_emb, sars_cov_2_emb))"
   ]
  },
  {
   "cell_type": "code",
   "execution_count": 25,
   "metadata": {},
   "outputs": [],
   "source": [
    "drugs_ranked = [[x,y] for y, x in sorted(zip(drug_cosine_sim,drug_names), key=lambda pair: pair[0], reverse=True)]"
   ]
  },
  {
   "cell_type": "code",
   "execution_count": 26,
   "metadata": {
    "scrolled": false
   },
   "outputs": [
    {
     "data": {
      "text/plain": [
       "[['ttd.drug:D0A0UL', 0.968268096446991],\n",
       " ['ttd.drug:D0K0KR', 0.9675211906433105],\n",
       " ['ttd.drug:D0GP1I', 0.9673413038253784],\n",
       " ['ttd.drug:D0MM7G', 0.9671435356140137],\n",
       " ['ttd.drug:D03ERS', 0.9667762517929077]]"
      ]
     },
     "execution_count": 26,
     "metadata": {},
     "output_type": "execute_result"
    }
   ],
   "source": [
    "drugs_ranked[0:5]"
   ]
  },
  {
   "cell_type": "code",
   "execution_count": 27,
   "metadata": {},
   "outputs": [],
   "source": [
    "## Sort everything by closeness to SARS-CoV-2\n",
    "\n",
    "# Sort all the things"
   ]
  },
  {
   "cell_type": "code",
   "execution_count": 28,
   "metadata": {},
   "outputs": [
    {
     "name": "stderr",
     "output_type": "stream",
     "text": [
      "100%|██████████| 375365/375365 [00:18<00:00, 19760.77it/s]\n"
     ]
    }
   ],
   "source": [
    "sars_cov_2_emb = embeddings[sars_cov_2_idx]\n",
    "\n",
    "node_sim = []\n",
    "\n",
    "for idx in tqdm(range(len(node_names))):\n",
    "    this_emb = embeddings[idx]\n",
    "    node_sim.append(1 - spatial.distance.cosine(this_emb, sars_cov_2_emb))"
   ]
  },
  {
   "cell_type": "code",
   "execution_count": 29,
   "metadata": {},
   "outputs": [],
   "source": [
    "everything_ranked = [[x,y] for y, x in sorted(zip(node_sim,node_names), key=lambda pair: pair[0], reverse=True)]"
   ]
  },
  {
   "cell_type": "code",
   "execution_count": 30,
   "metadata": {},
   "outputs": [
    {
     "data": {
      "text/plain": [
       "[['CHEMBL.TARGET:CHEMBL4303835', 1.0],\n",
       " ['CORD:26762988147d906e873f16c6e03cbb2ad7c46ea1', 0.9859899878501892],\n",
       " ['CORD:19e18a7c27512439dac91fc1096937fd03496c13', 0.9857174754142761],\n",
       " ['MESH:D018883', 0.9851577877998352],\n",
       " ['CORD:e1d54d1ec033522012a4f994961fec6582c17ce6', 0.9846948385238647],\n",
       " ['MESH:D008570', 0.9845601320266724],\n",
       " ['CORD:PMC7088121', 0.984553337097168],\n",
       " ['CORD:b96d1a769045501e7ba79edf624608b6f2fe5b95', 0.9840669631958008],\n",
       " ['CORD:PMC7169570', 0.9838549494743347],\n",
       " ['CORD:PMC1592083', 0.9837960004806519]]"
      ]
     },
     "execution_count": 30,
     "metadata": {},
     "output_type": "execute_result"
    }
   ],
   "source": [
    "everything_ranked[0:10]"
   ]
  },
  {
   "cell_type": "code",
   "execution_count": null,
   "metadata": {},
   "outputs": [],
   "source": []
  }
 ],
 "metadata": {
  "kernelspec": {
   "display_name": "Python 3",
   "language": "python",
   "name": "python3"
  },
  "language_info": {
   "codemirror_mode": {
    "name": "ipython",
    "version": 3
   },
   "file_extension": ".py",
   "mimetype": "text/x-python",
   "name": "python",
   "nbconvert_exporter": "python",
   "pygments_lexer": "ipython3",
   "version": "3.8.3"
  }
 },
 "nbformat": 4,
 "nbformat_minor": 4
}
