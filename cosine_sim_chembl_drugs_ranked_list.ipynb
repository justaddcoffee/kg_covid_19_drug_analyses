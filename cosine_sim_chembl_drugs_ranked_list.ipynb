{
 "cells": [
  {
   "cell_type": "markdown",
   "metadata": {},
   "source": [
    "## Rank ChEMBL antivirals and all drugs using cosine similarity to SARS-CoV-2"
   ]
  },
  {
   "cell_type": "markdown",
   "metadata": {
    "pycharm": {
     "name": "#%% md\n"
    }
   },
   "source": [
    "In this notebook, we rank ChEMBL antiviral drugs and other sets of drugs for their suitability for COVID-19 repurposing using their cosine similarity to SARS-CoV-2 in latent space, using our KG embeddings."
   ]
  },
  {
   "cell_type": "markdown",
   "metadata": {
    "pycharm": {
     "name": "#%% md\n"
    }
   },
   "source": [
    "####  Some variables"
   ]
  },
  {
   "cell_type": "code",
   "execution_count": 125,
   "metadata": {},
   "outputs": [],
   "source": [
    "import os\n",
    "\n",
    "base_dl_dir = \"downloaded_data\"\n",
    "graph_data_dir = os.path.join(base_dl_dir, \"kg-covid-19-20201012\")\n",
    "embedding_data_dir = os.path.join(base_dl_dir, \"embeddings-20201012\")\n",
    "\n",
    "# graph stuff\n",
    "graph_out_file = os.path.join(graph_data_dir + \"/kg-covid-19.tar.gz\")\n",
    "nodes_file = os.path.join(graph_data_dir, \"merged-kg_nodes.tsv\")\n",
    "edges_file = os.path.join(graph_data_dir, \"merged-kg_edges.tsv\")\n",
    "sorted_edges_file = os.path.join(graph_data_dir, \"merged-kg_edges_SORTED.tsv\")\n",
    "graph_tar_url = \"https://kg-hub.berkeleybop.io/kg-covid-19/20201012/kg-covid-19.tar.gz\"\n",
    "\n",
    "# embeddings URLs\n",
    "base_kghub_url = \"http://kg-hub.berkeleybop.io/\"\n",
    "embeddings_url = os.path.join(base_kghub_url, \"embeddings/20201012/SkipGram/reduced_graph.csv.gz\")\n",
    "embedding_file = os.path.join(embedding_data_dir, \"SkipGram/reduced_graph.csv.gz\")\n",
    "\n",
    "# outfiles\n",
    "chembl_antiviral_ranked_dir = os.path.join(base_dl_dir, \"ranked-drug-lists\", \"cosine_sim\")\n",
    "os.makedirs(chembl_antiviral_ranked_dir, exist_ok=True)\n",
    "chembl_antiviral_ranked_outfile = os.path.join(chembl_antiviral_ranked_dir, \"chembl_antiviral_cosine_sim.tsv\")\n",
    "drugs_ranked_outfile = os.path.join(chembl_antiviral_ranked_dir, \"drug_cosine_sim\")\n",
    "top_x = 30 # also output file for top X ranks"
   ]
  },
  {
   "cell_type": "code",
   "execution_count": 4,
   "metadata": {},
   "outputs": [],
   "source": [
    "chembl_prefix = 'CHEMBL.COMPOUND'\n",
    "chembl_nodes_url = \"https://kg-hub.berkeleybop.io/kg-covid-19/20201012/transformed/ChEMBL/nodes.tsv\"\n",
    "chembl_nodes_file = os.path.join(chembl_antiviral_dir, \"nodes.tsv\")\n",
    "chembl_antiviral_file = os.path.join(chembl_antiviral_dir, \"sars_cov_2_compounds.txt\")"
   ]
  },
  {
   "cell_type": "code",
   "execution_count": 5,
   "metadata": {},
   "outputs": [],
   "source": [
    "sars_cov_2_gpi_dir = os.path.join(base_dl_dir, \"sars-cov-2-gpi\")\n",
    "sars_cov_2_gpi_file = os.path.join(sars_cov_2_gpi_dir, \"uniprot_sars-cov-2.gpi\")\n",
    "sars_cov_2_gpi_url = \"https://raw.githubusercontent.com/Knowledge-Graph-Hub/kg-covid-19/master/curated/ORFs/uniprot_sars-cov-2.gpi\""
   ]
  },
  {
   "cell_type": "code",
   "execution_count": 6,
   "metadata": {
    "pycharm": {
     "name": "#%%\n"
    }
   },
   "outputs": [],
   "source": [
    "sars_cov_2_curie = 'NCBITaxon:2697049'"
   ]
  },
  {
   "cell_type": "code",
   "execution_count": 7,
   "metadata": {},
   "outputs": [],
   "source": [
    "from pkg_resources import get_distribution\n",
    "assert(get_distribution(\"ensmallen-graph\").version == '0.4.4')\n",
    "assert(get_distribution(\"embiggen\").version == '0.6.0')"
   ]
  },
  {
   "cell_type": "markdown",
   "metadata": {},
   "source": [
    "#### Download the graph if necessary"
   ]
  },
  {
   "cell_type": "code",
   "execution_count": 8,
   "metadata": {
    "pycharm": {
     "is_executing": true
    }
   },
   "outputs": [],
   "source": [
    "import urllib\n",
    "import os\n",
    "os.makedirs(graph_data_dir, exist_ok=True)\n",
    "\n",
    "if not os.path.exists(nodes_file) or not os.path.exists(edges_file):\n",
    "    with urllib.request.urlopen(graph_tar_url) as response, \\\n",
    "        open(graph_out_file, 'wb') as out_file:\n",
    "            data = response.read()  # a `bytes` object\n",
    "            out_file.write(data)\n",
    "    os.system(\"tar -xvzf \" + graph_out_file + \" -C \" + graph_data_dir)"
   ]
  },
  {
   "cell_type": "markdown",
   "metadata": {},
   "source": [
    "#### Download embeddings if necessary"
   ]
  },
  {
   "cell_type": "code",
   "execution_count": 9,
   "metadata": {},
   "outputs": [],
   "source": [
    "os.makedirs(embedding_data_dir, exist_ok=True)\n",
    "\n",
    "if not os.path.exists(embedding_file):\n",
    "    with urllib.request.urlopen(embeddings_url) as response, \\\n",
    "        open(embedding_file, 'wb') as out_file:\n",
    "            data = response.read()  # a `bytes` object\n",
    "            out_file.write(data)"
   ]
  },
  {
   "cell_type": "markdown",
   "metadata": {
    "pycharm": {
     "name": "#%% md\n"
    }
   },
   "source": [
    "#### Make a graph with chembl holdout edges labeled"
   ]
  },
  {
   "cell_type": "code",
   "execution_count": 10,
   "metadata": {},
   "outputs": [],
   "source": [
    "import pandas as pd\n",
    "import os\n",
    "\n",
    "new_edge_file = os.path.join(graph_data_dir, 'edges_with_holdout_column.tsv')\n",
    "\n",
    "if not os.path.exists(new_edge_file): \n",
    "    edges = pd.read_csv(\n",
    "        graph_data_dir + \"/merged-kg_edges.tsv\",\n",
    "        sep=\"\\t\",\n",
    "        usecols=[1,3],\n",
    "        dtype={'subject': str, 'object': str}\n",
    "    )\n",
    "    \n",
    "    pos_node_curies_set = set(positive_nodes.curie)\n",
    "\n",
    "    chembl_to_sars_cov_2_edges = (\n",
    "        (edges.subject.str.contains(chembl_prefix) & (edges.object.isin(pos_node_curies_set))) | \n",
    "        (edges.object.str.contains(chembl_prefix) & (edges.subject.isin(pos_node_curies_set)))\n",
    "    )\n",
    "\n",
    "    edges['holdout_edge_label'] = [\n",
    "        'chembl_to_sars_cov_2' if value else 'normal'\n",
    "        for value in chembl_to_sars_cov_2_edges]\n",
    "\n",
    "\n",
    "    edges.to_csv(new_edge_file, sep=\"\\t\", index=False)"
   ]
  },
  {
   "cell_type": "code",
   "execution_count": 11,
   "metadata": {
    "pycharm": {
     "is_executing": true,
     "name": "#%%\n"
    },
    "scrolled": true
   },
   "outputs": [
    {
     "name": "stdout",
     "output_type": "stream",
     "text": [
      "CPU times: user 1min 3s, sys: 6.32 s, total: 1min 9s\n",
      "Wall time: 1min\n"
     ]
    }
   ],
   "source": [
    "%%time\n",
    "from ensmallen_graph import EnsmallenGraph\n",
    "graph = EnsmallenGraph.from_unsorted_csv(\n",
    "    name=\"kg-covid-19\",\n",
    "    edge_path = new_edge_file,\n",
    "    sources_column=\"subject\",\n",
    "    destinations_column=\"object\",\n",
    "    edge_types_column='holdout_edge_label',\n",
    "    directed=False,\n",
    "    node_path = graph_data_dir + \"/merged-kg_nodes.tsv\",\n",
    "    nodes_column = 'id',\n",
    "    node_types_column = 'category',\n",
    "    default_node_type = 'biolink:NamedThing'\n",
    ")"
   ]
  },
  {
   "cell_type": "code",
   "execution_count": 12,
   "metadata": {},
   "outputs": [
    {
     "name": "stdout",
     "output_type": "stream",
     "text": [
      "CPU times: user 1min 32s, sys: 2.23 s, total: 1min 34s\n",
      "Wall time: 1min 38s\n"
     ]
    }
   ],
   "source": [
    "%%time\n",
    "reduced_graph = graph.remove_components(edge_types=['chembl_to_sars_cov_2'])\n",
    "reduced_graph = reduced_graph.remove(singletons=True)"
   ]
  },
  {
   "cell_type": "markdown",
   "metadata": {},
   "source": [
    "#### Load the embeddings"
   ]
  },
  {
   "cell_type": "code",
   "execution_count": 13,
   "metadata": {
    "pycharm": {
     "is_executing": true
    }
   },
   "outputs": [],
   "source": [
    "import pandas as pd\n",
    "embeddings = pd.read_csv(embedding_file, index_col=0)"
   ]
  },
  {
   "cell_type": "markdown",
   "metadata": {
    "pycharm": {
     "name": "#%% md\n"
    }
   },
   "source": [
    "#### Load curies and names for nodes"
   ]
  },
  {
   "cell_type": "code",
   "execution_count": 15,
   "metadata": {
    "pycharm": {
     "is_executing": true
    }
   },
   "outputs": [],
   "source": [
    "import numpy as np\n",
    "node_curies = list(np.array(reduced_graph.get_node_names()))"
   ]
  },
  {
   "cell_type": "code",
   "execution_count": 16,
   "metadata": {
    "pycharm": {
     "name": "#%%\n"
    }
   },
   "outputs": [],
   "source": [
    "node_names = []\n",
    "\n",
    "node_curie_name_mapping = {}\n",
    "with open(nodes_file, 'r') as n:\n",
    "    header = n.readline().split(\"\\t\")\n",
    "    lines = n.readlines()\n",
    "    for line in lines:\n",
    "        fields = line.split(\"\\t\")\n",
    "        node_curie_name_mapping[fields[header.index(\"id\")]] = fields[header.index(\"name\")]\n",
    "\n",
    "for i, this_curie in enumerate(node_curies):\n",
    "    node_names.append(node_curie_name_mapping[this_curie] if this_curie in node_curie_name_mapping else '')"
   ]
  },
  {
   "cell_type": "code",
   "execution_count": 17,
   "metadata": {
    "pycharm": {
     "is_executing": true
    }
   },
   "outputs": [],
   "source": [
    "assert len(node_curies) == len(node_names)\n",
    "assert len(node_curies) == len(embeddings)"
   ]
  },
  {
   "cell_type": "markdown",
   "metadata": {
    "pycharm": {
     "name": "#%% md\n"
    }
   },
   "source": [
    "#### Get graph node representating SARS-CoV-2"
   ]
  },
  {
   "cell_type": "code",
   "execution_count": 18,
   "metadata": {
    "pycharm": {
     "is_executing": true
    }
   },
   "outputs": [],
   "source": [
    "sars_cov_2_idx = node_curies.index(sars_cov_2_curie)\n",
    "sars_cov_2_node = {\n",
    "    'name': 'SARS-CoV-2',\n",
    "    'curie': sars_cov_2_curie,\n",
    "    'node_id': node_curies.index(sars_cov_2_curie)\n",
    "    }"
   ]
  },
  {
   "cell_type": "markdown",
   "metadata": {},
   "source": [
    "#### method to compute matrix of cosine similarities"
   ]
  },
  {
   "cell_type": "code",
   "execution_count": 47,
   "metadata": {},
   "outputs": [],
   "source": [
    "from tqdm.auto import tqdm\n",
    "from scipy import spatial\n",
    "\n",
    "def get_cosine_sim(x: list, y: list, embeddings: np.ndarray, graph: EnsmallenGraph) ->  np.ndarray:\n",
    "    cosine_sim = np.full((len(x), len(y)), -1000.0000)\n",
    "\n",
    "    # precompute node idx to speed things up\n",
    "    x_node_idx = [graph.get_node_id(node_name) for node_name in tqdm(x, \"preloading x node indexes\")]\n",
    "    y_node_idx = [graph.get_node_id(node_name) for node_name in tqdm(y, \"preloading y node indexes\")]\n",
    "\n",
    "    for i, row_curie in tqdm(enumerate(x), \"computing cosine sim\", leave=False):\n",
    "        for j, col_curie in enumerate(y):\n",
    "            row_emb = embeddings[x_node_idx[i]]\n",
    "            col_emb = embeddings[y_node_idx[j]]\n",
    "            cosine_sim[i,j] = 1 - spatial.distance.cosine(row_emb, col_emb).flatten()[0]\n",
    "\n",
    "    return cosine_sim"
   ]
  },
  {
   "cell_type": "markdown",
   "metadata": {
    "pycharm": {
     "is_executing": true,
     "name": "#%% md\n"
    }
   },
   "source": [
    "### Rank ChEMBL antivirals by cosine similarity to SARS-CoV-2"
   ]
  },
  {
   "cell_type": "code",
   "execution_count": 20,
   "metadata": {
    "pycharm": {
     "is_executing": true
    }
   },
   "outputs": [],
   "source": [
    "if not os.path.exists(os.path.join(chembl_nodes_file)):\n",
    "    os.makedirs(chembl_antiviral_dir, exist_ok=True)\n",
    "    with urllib.request.urlopen(chembl_nodes_url) as response, \\\n",
    "        open(chembl_nodes_file, 'wb') as out_file:\n",
    "            data = response.read()  # a `bytes` object\n",
    "            out_file.write(data)"
   ]
  },
  {
   "cell_type": "code",
   "execution_count": 21,
   "metadata": {},
   "outputs": [],
   "source": [
    "import re\n",
    "\n",
    "chembl_antiviral_curies = []\n",
    "chembl_antiviral_names = []\n",
    "chembl_antiviral_smile = []\n",
    "\n",
    "with open(chembl_nodes_file, 'r') as f:\n",
    "    header = f.readline().split(\"\\t\")\n",
    "    lines = f.readlines()\n",
    "    for line in lines:\n",
    "        items = line.split(\"\\t\")\n",
    "        this_id = items[header.index(\"id\")]\n",
    "        this_name = items[header.index(\"name\")]\n",
    "        this_smile = items[header.index(\"canonical_smiles\")]\n",
    "        if re.match(chembl_prefix, this_id):\n",
    "            chembl_antiviral_curies.append(this_id)\n",
    "            chembl_antiviral_names.append(this_name)\n",
    "            chembl_antiviral_smile.append(this_smile)"
   ]
  },
  {
   "cell_type": "code",
   "execution_count": 48,
   "metadata": {
    "scrolled": true
   },
   "outputs": [
    {
     "data": {
      "application/vnd.jupyter.widget-view+json": {
       "model_id": "30d002f53bac42f8a5e6a8ed3837d9aa",
       "version_major": 2,
       "version_minor": 0
      },
      "text/plain": [
       "HBox(children=(FloatProgress(value=0.0, description='preloading x node indexes', max=6900.0, style=ProgressSty…"
      ]
     },
     "metadata": {},
     "output_type": "display_data"
    },
    {
     "name": "stdout",
     "output_type": "stream",
     "text": [
      "\n"
     ]
    },
    {
     "data": {
      "application/vnd.jupyter.widget-view+json": {
       "model_id": "301077d9369b459f97506f332ec0c966",
       "version_major": 2,
       "version_minor": 0
      },
      "text/plain": [
       "HBox(children=(FloatProgress(value=0.0, description='preloading y node indexes', max=1.0, style=ProgressStyle(…"
      ]
     },
     "metadata": {},
     "output_type": "display_data"
    },
    {
     "name": "stdout",
     "output_type": "stream",
     "text": [
      "\n"
     ]
    },
    {
     "data": {
      "application/vnd.jupyter.widget-view+json": {
       "model_id": "f7a61d8eddb74be0b37d3279aaa79c75",
       "version_major": 2,
       "version_minor": 0
      },
      "text/plain": [
       "HBox(children=(FloatProgress(value=1.0, bar_style='info', description='computing cosine sim', layout=Layout(wi…"
      ]
     },
     "metadata": {},
     "output_type": "display_data"
    }
   ],
   "source": [
    "chembl_antiviral_cosine_sim = get_cosine_sim(\n",
    "    chembl_antiviral_curies,\n",
    "    [sars_cov_2_node['curie']],\n",
    "    embeddings.to_numpy(),\n",
    "    reduced_graph\n",
    ")"
   ]
  },
  {
   "cell_type": "code",
   "execution_count": 41,
   "metadata": {
    "scrolled": false
   },
   "outputs": [
    {
     "data": {
      "image/png": "[encoded data removed]",
      "text/plain": [
       "<Figure size 432x288 with 1 Axes>"
      ]
     },
     "metadata": {
      "needs_background": "light"
     },
     "output_type": "display_data"
    }
   ],
   "source": [
    "import matplotlib.pyplot as plt\n",
    "import numpy as np\n",
    "\n",
    "plt.hist(chembl_antiviral_cosine_sim, bins=100)\n",
    "plt.title(\"Cosine similarity\\nChEMBL antivirals vs SARS-CoV-2\", fontsize=18)\n",
    "plt.show()"
   ]
  },
  {
   "cell_type": "code",
   "execution_count": 66,
   "metadata": {},
   "outputs": [],
   "source": [
    "chembl_antivirals_ranked = [[z,y,x] for x,y,z in sorted(\n",
    "    zip(\n",
    "        chembl_antiviral_cosine_sim.flatten(),\n",
    "        chembl_antiviral_curies,\n",
    "        chembl_antiviral_names\n",
    "        ),\n",
    "    key=lambda pair: pair[0], reverse=True)]"
   ]
  },
  {
   "cell_type": "code",
   "execution_count": 126,
   "metadata": {
    "scrolled": false
   },
   "outputs": [
    {
     "data": {
      "text/html": [
       "<div>\n",
       "<style scoped>\n",
       "    .dataframe tbody tr th:only-of-type {\n",
       "        vertical-align: middle;\n",
       "    }\n",
       "\n",
       "    .dataframe tbody tr th {\n",
       "        vertical-align: top;\n",
       "    }\n",
       "\n",
       "    .dataframe thead th {\n",
       "        text-align: right;\n",
       "    }\n",
       "</style>\n",
       "<table border=\"1\" class=\"dataframe\">\n",
       "  <thead>\n",
       "    <tr style=\"text-align: right;\">\n",
       "      <th></th>\n",
       "      <th>drug</th>\n",
       "      <th>curie</th>\n",
       "      <th>cosine sim</th>\n",
       "    </tr>\n",
       "  </thead>\n",
       "  <tbody>\n",
       "    <tr>\n",
       "      <th>0</th>\n",
       "      <td>BENZYLPENICILLIN</td>\n",
       "      <td>CHEMBL.COMPOUND:CHEMBL29</td>\n",
       "      <td>0.998231</td>\n",
       "    </tr>\n",
       "    <tr>\n",
       "      <th>1</th>\n",
       "      <td>LOPINAVIR</td>\n",
       "      <td>CHEMBL.COMPOUND:CHEMBL729</td>\n",
       "      <td>0.998120</td>\n",
       "    </tr>\n",
       "    <tr>\n",
       "      <th>2</th>\n",
       "      <td>RIBAVIRIN</td>\n",
       "      <td>CHEMBL.COMPOUND:CHEMBL1643</td>\n",
       "      <td>0.998042</td>\n",
       "    </tr>\n",
       "    <tr>\n",
       "      <th>3</th>\n",
       "      <td>PENTOBARBITAL</td>\n",
       "      <td>CHEMBL.COMPOUND:CHEMBL448</td>\n",
       "      <td>0.997835</td>\n",
       "    </tr>\n",
       "    <tr>\n",
       "      <th>4</th>\n",
       "      <td>CYCLOSPORINE</td>\n",
       "      <td>CHEMBL.COMPOUND:CHEMBL160</td>\n",
       "      <td>0.997831</td>\n",
       "    </tr>\n",
       "    <tr>\n",
       "      <th>5</th>\n",
       "      <td>HYDROXYCHLOROQUINE</td>\n",
       "      <td>CHEMBL.COMPOUND:CHEMBL1535</td>\n",
       "      <td>0.997778</td>\n",
       "    </tr>\n",
       "    <tr>\n",
       "      <th>6</th>\n",
       "      <td>CLINDAMYCIN</td>\n",
       "      <td>CHEMBL.COMPOUND:CHEMBL1753</td>\n",
       "      <td>0.997774</td>\n",
       "    </tr>\n",
       "    <tr>\n",
       "      <th>7</th>\n",
       "      <td>ASPIRIN</td>\n",
       "      <td>CHEMBL.COMPOUND:CHEMBL25</td>\n",
       "      <td>0.997564</td>\n",
       "    </tr>\n",
       "    <tr>\n",
       "      <th>8</th>\n",
       "      <td>REMDESIVIR</td>\n",
       "      <td>CHEMBL.COMPOUND:CHEMBL4065616</td>\n",
       "      <td>0.997490</td>\n",
       "    </tr>\n",
       "    <tr>\n",
       "      <th>9</th>\n",
       "      <td>CIPROFLOXACIN</td>\n",
       "      <td>CHEMBL.COMPOUND:CHEMBL8</td>\n",
       "      <td>0.997440</td>\n",
       "    </tr>\n",
       "    <tr>\n",
       "      <th>10</th>\n",
       "      <td>AZITHROMYCIN</td>\n",
       "      <td>CHEMBL.COMPOUND:CHEMBL529</td>\n",
       "      <td>0.997354</td>\n",
       "    </tr>\n",
       "    <tr>\n",
       "      <th>11</th>\n",
       "      <td>METHYLPREDNISOLONE</td>\n",
       "      <td>CHEMBL.COMPOUND:CHEMBL650</td>\n",
       "      <td>0.997341</td>\n",
       "    </tr>\n",
       "    <tr>\n",
       "      <th>12</th>\n",
       "      <td>OSELTAMIVIR</td>\n",
       "      <td>CHEMBL.COMPOUND:CHEMBL1229</td>\n",
       "      <td>0.997311</td>\n",
       "    </tr>\n",
       "    <tr>\n",
       "      <th>13</th>\n",
       "      <td>MOXIFLOXACIN</td>\n",
       "      <td>CHEMBL.COMPOUND:CHEMBL32</td>\n",
       "      <td>0.997271</td>\n",
       "    </tr>\n",
       "    <tr>\n",
       "      <th>14</th>\n",
       "      <td>PENICILLIN V</td>\n",
       "      <td>CHEMBL.COMPOUND:CHEMBL615</td>\n",
       "      <td>0.997264</td>\n",
       "    </tr>\n",
       "    <tr>\n",
       "      <th>15</th>\n",
       "      <td>HYDROCORTISONE</td>\n",
       "      <td>CHEMBL.COMPOUND:CHEMBL389621</td>\n",
       "      <td>0.997215</td>\n",
       "    </tr>\n",
       "    <tr>\n",
       "      <th>16</th>\n",
       "      <td>TRIMETHOPRIM</td>\n",
       "      <td>CHEMBL.COMPOUND:CHEMBL22</td>\n",
       "      <td>0.997206</td>\n",
       "    </tr>\n",
       "    <tr>\n",
       "      <th>17</th>\n",
       "      <td>PREDNISONE</td>\n",
       "      <td>CHEMBL.COMPOUND:CHEMBL635</td>\n",
       "      <td>0.997202</td>\n",
       "    </tr>\n",
       "    <tr>\n",
       "      <th>18</th>\n",
       "      <td>MANNITOL</td>\n",
       "      <td>CHEMBL.COMPOUND:CHEMBL689</td>\n",
       "      <td>0.997175</td>\n",
       "    </tr>\n",
       "    <tr>\n",
       "      <th>19</th>\n",
       "      <td>METHICILLIN</td>\n",
       "      <td>CHEMBL.COMPOUND:CHEMBL575</td>\n",
       "      <td>0.997169</td>\n",
       "    </tr>\n",
       "    <tr>\n",
       "      <th>20</th>\n",
       "      <td>ERGOCALCIFEROL</td>\n",
       "      <td>CHEMBL.COMPOUND:CHEMBL1536</td>\n",
       "      <td>0.997166</td>\n",
       "    </tr>\n",
       "    <tr>\n",
       "      <th>21</th>\n",
       "      <td>HEMATOXYLIN</td>\n",
       "      <td>CHEMBL.COMPOUND:CHEMBL477197</td>\n",
       "      <td>0.997115</td>\n",
       "    </tr>\n",
       "    <tr>\n",
       "      <th>22</th>\n",
       "      <td>AMOXICILLIN</td>\n",
       "      <td>CHEMBL.COMPOUND:CHEMBL1082</td>\n",
       "      <td>0.997100</td>\n",
       "    </tr>\n",
       "    <tr>\n",
       "      <th>23</th>\n",
       "      <td>CEFTRIAXONE</td>\n",
       "      <td>CHEMBL.COMPOUND:CHEMBL161</td>\n",
       "      <td>0.997054</td>\n",
       "    </tr>\n",
       "    <tr>\n",
       "      <th>24</th>\n",
       "      <td>ACETAMINOPHEN</td>\n",
       "      <td>CHEMBL.COMPOUND:CHEMBL112</td>\n",
       "      <td>0.997047</td>\n",
       "    </tr>\n",
       "    <tr>\n",
       "      <th>25</th>\n",
       "      <td>CITRIC ACID</td>\n",
       "      <td>CHEMBL.COMPOUND:CHEMBL1261</td>\n",
       "      <td>0.997001</td>\n",
       "    </tr>\n",
       "    <tr>\n",
       "      <th>26</th>\n",
       "      <td>PROPOFOL</td>\n",
       "      <td>CHEMBL.COMPOUND:CHEMBL526</td>\n",
       "      <td>0.996992</td>\n",
       "    </tr>\n",
       "    <tr>\n",
       "      <th>27</th>\n",
       "      <td>GUANIDINE</td>\n",
       "      <td>CHEMBL.COMPOUND:CHEMBL821</td>\n",
       "      <td>0.996935</td>\n",
       "    </tr>\n",
       "    <tr>\n",
       "      <th>28</th>\n",
       "      <td>ZANAMIVIR</td>\n",
       "      <td>CHEMBL.COMPOUND:CHEMBL222813</td>\n",
       "      <td>0.996922</td>\n",
       "    </tr>\n",
       "    <tr>\n",
       "      <th>29</th>\n",
       "      <td>XYLAZINE</td>\n",
       "      <td>CHEMBL.COMPOUND:CHEMBL297362</td>\n",
       "      <td>0.996886</td>\n",
       "    </tr>\n",
       "  </tbody>\n",
       "</table>\n",
       "</div>"
      ],
      "text/plain": [
       "                  drug                          curie  cosine sim\n",
       "0     BENZYLPENICILLIN       CHEMBL.COMPOUND:CHEMBL29    0.998231\n",
       "1            LOPINAVIR      CHEMBL.COMPOUND:CHEMBL729    0.998120\n",
       "2            RIBAVIRIN     CHEMBL.COMPOUND:CHEMBL1643    0.998042\n",
       "3        PENTOBARBITAL      CHEMBL.COMPOUND:CHEMBL448    0.997835\n",
       "4         CYCLOSPORINE      CHEMBL.COMPOUND:CHEMBL160    0.997831\n",
       "5   HYDROXYCHLOROQUINE     CHEMBL.COMPOUND:CHEMBL1535    0.997778\n",
       "6          CLINDAMYCIN     CHEMBL.COMPOUND:CHEMBL1753    0.997774\n",
       "7              ASPIRIN       CHEMBL.COMPOUND:CHEMBL25    0.997564\n",
       "8           REMDESIVIR  CHEMBL.COMPOUND:CHEMBL4065616    0.997490\n",
       "9        CIPROFLOXACIN        CHEMBL.COMPOUND:CHEMBL8    0.997440\n",
       "10        AZITHROMYCIN      CHEMBL.COMPOUND:CHEMBL529    0.997354\n",
       "11  METHYLPREDNISOLONE      CHEMBL.COMPOUND:CHEMBL650    0.997341\n",
       "12         OSELTAMIVIR     CHEMBL.COMPOUND:CHEMBL1229    0.997311\n",
       "13        MOXIFLOXACIN       CHEMBL.COMPOUND:CHEMBL32    0.997271\n",
       "14        PENICILLIN V      CHEMBL.COMPOUND:CHEMBL615    0.997264\n",
       "15      HYDROCORTISONE   CHEMBL.COMPOUND:CHEMBL389621    0.997215\n",
       "16        TRIMETHOPRIM       CHEMBL.COMPOUND:CHEMBL22    0.997206\n",
       "17          PREDNISONE      CHEMBL.COMPOUND:CHEMBL635    0.997202\n",
       "18            MANNITOL      CHEMBL.COMPOUND:CHEMBL689    0.997175\n",
       "19         METHICILLIN      CHEMBL.COMPOUND:CHEMBL575    0.997169\n",
       "20      ERGOCALCIFEROL     CHEMBL.COMPOUND:CHEMBL1536    0.997166\n",
       "21         HEMATOXYLIN   CHEMBL.COMPOUND:CHEMBL477197    0.997115\n",
       "22         AMOXICILLIN     CHEMBL.COMPOUND:CHEMBL1082    0.997100\n",
       "23         CEFTRIAXONE      CHEMBL.COMPOUND:CHEMBL161    0.997054\n",
       "24       ACETAMINOPHEN      CHEMBL.COMPOUND:CHEMBL112    0.997047\n",
       "25         CITRIC ACID     CHEMBL.COMPOUND:CHEMBL1261    0.997001\n",
       "26            PROPOFOL      CHEMBL.COMPOUND:CHEMBL526    0.996992\n",
       "27           GUANIDINE      CHEMBL.COMPOUND:CHEMBL821    0.996935\n",
       "28           ZANAMIVIR   CHEMBL.COMPOUND:CHEMBL222813    0.996922\n",
       "29            XYLAZINE   CHEMBL.COMPOUND:CHEMBL297362    0.996886"
      ]
     },
     "execution_count": 126,
     "metadata": {},
     "output_type": "execute_result"
    }
   ],
   "source": [
    "import re\n",
    "chembl_antivirals_ranked_pd = pd.DataFrame.from_records(chembl_antivirals_ranked, columns=[\"drug\", \"curie\", \"cosine sim\"])\n",
    "chembl_antivirals_ranked_pd.to_csv(chembl_antiviral_ranked_outfile, sep=\"\\t\", index=False)\n",
    "chembl_antivirals_ranked_pd[0:top_x].to_csv(\n",
    "    re.sub(\".tsv\", f\"_top{top_x}.tsv\", chembl_antiviral_ranked_outfile), sep=\"\\t\", index=False)\n",
    "chembl_antivirals_ranked_pd[0:top_x]"
   ]
  },
  {
   "cell_type": "markdown",
   "metadata": {
    "pycharm": {
     "is_executing": true,
     "name": "#%% md\n"
    }
   },
   "source": [
    "### Rank all drugs by cosine sim to SARS-CoV-2"
   ]
  },
  {
   "cell_type": "code",
   "execution_count": 29,
   "metadata": {
    "pycharm": {
     "is_executing": true
    }
   },
   "outputs": [],
   "source": [
    "assert len(reduced_graph.get_node_types()) == len(embeddings)"
   ]
  },
  {
   "cell_type": "code",
   "execution_count": 43,
   "metadata": {
    "pycharm": {
     "is_executing": true
    },
    "scrolled": true
   },
   "outputs": [
    {
     "data": {
      "application/vnd.jupyter.widget-view+json": {
       "model_id": "ce2e6534a8d84832a299ad24d4a27cc7",
       "version_major": 2,
       "version_minor": 0
      },
      "text/plain": [
       "HBox(children=(FloatProgress(value=0.0, description='preloading x node indexes', max=32016.0, style=ProgressSt…"
      ]
     },
     "metadata": {},
     "output_type": "display_data"
    },
    {
     "name": "stdout",
     "output_type": "stream",
     "text": [
      "\n"
     ]
    },
    {
     "data": {
      "application/vnd.jupyter.widget-view+json": {
       "model_id": "e159fa3bf52b4321819968a992e72ab7",
       "version_major": 2,
       "version_minor": 0
      },
      "text/plain": [
       "HBox(children=(FloatProgress(value=0.0, description='preloading y node indexes', max=1.0, style=ProgressStyle(…"
      ]
     },
     "metadata": {},
     "output_type": "display_data"
    },
    {
     "name": "stdout",
     "output_type": "stream",
     "text": [
      "\n"
     ]
    },
    {
     "data": {
      "application/vnd.jupyter.widget-view+json": {
       "model_id": "3ef13b435c1a43919a6af524048ad60a",
       "version_major": 2,
       "version_minor": 0
      },
      "text/plain": [
       "HBox(children=(FloatProgress(value=1.0, bar_style='info', description='computing cosine sim', layout=Layout(wi…"
      ]
     },
     "metadata": {},
     "output_type": "display_data"
    }
   ],
   "source": [
    "drug_idx = list(np.where(reduced_graph.get_node_types() == reduced_graph.get_node_type_names().index('biolink:Drug'))[0])\n",
    "drug_curies = [node_curies[i] for i in drug_idx]\n",
    "drug_cosine_sim = get_cosine_sim(\n",
    "    drug_curies,\n",
    "    [sars_cov_2_node['curie']],\n",
    "    embeddings.to_numpy(),\n",
    "    reduced_graph\n",
    "    )\n",
    "drug_names = [node_names[i] for i in drug_idx]"
   ]
  },
  {
   "cell_type": "code",
   "execution_count": 86,
   "metadata": {},
   "outputs": [
    {
     "data": {
      "image/png": "[encoded data removed]",
      "text/plain": [
       "<Figure size 432x288 with 1 Axes>"
      ]
     },
     "metadata": {
      "needs_background": "light"
     },
     "output_type": "display_data"
    }
   ],
   "source": [
    "import matplotlib.pyplot as plt\n",
    "import numpy as np\n",
    "\n",
    "plt.hist(drug_cosine_sim, bins=100)\n",
    "plt.title(\"Cosine similarity\\ndrugs vs SARS-CoV-2\", fontsize=18)\n",
    "plt.show()"
   ]
  },
  {
   "cell_type": "code",
   "execution_count": 71,
   "metadata": {},
   "outputs": [],
   "source": [
    "drugs_ranked = [[z,y,x] for x,y,z in sorted(\n",
    "    zip(\n",
    "        drug_cosine_sim.flatten(),\n",
    "        drug_curies,\n",
    "        drug_names\n",
    "        ),\n",
    "      key=lambda pair: pair[0], reverse=True)]"
   ]
  },
  {
   "cell_type": "markdown",
   "metadata": {},
   "source": [
    "### write out ranked drug lists"
   ]
  },
  {
   "cell_type": "code",
   "execution_count": 127,
   "metadata": {
    "pycharm": {
     "is_executing": true,
     "name": "#%%\n"
    },
    "scrolled": false
   },
   "outputs": [
    {
     "data": {
      "text/html": [
       "<div>\n",
       "<style scoped>\n",
       "    .dataframe tbody tr th:only-of-type {\n",
       "        vertical-align: middle;\n",
       "    }\n",
       "\n",
       "    .dataframe tbody tr th {\n",
       "        vertical-align: top;\n",
       "    }\n",
       "\n",
       "    .dataframe thead th {\n",
       "        text-align: right;\n",
       "    }\n",
       "</style>\n",
       "<table border=\"1\" class=\"dataframe\">\n",
       "  <thead>\n",
       "    <tr style=\"text-align: right;\">\n",
       "      <th></th>\n",
       "      <th>drug</th>\n",
       "      <th>curie</th>\n",
       "      <th>cosine sim</th>\n",
       "    </tr>\n",
       "  </thead>\n",
       "  <tbody>\n",
       "    <tr>\n",
       "      <th>0</th>\n",
       "      <td>eptinezumab</td>\n",
       "      <td>DrugCentral:5386</td>\n",
       "      <td>0.990896</td>\n",
       "    </tr>\n",
       "    <tr>\n",
       "      <th>1</th>\n",
       "      <td>fremanezumab</td>\n",
       "      <td>DrugCentral:5315</td>\n",
       "      <td>0.990588</td>\n",
       "    </tr>\n",
       "    <tr>\n",
       "      <th>2</th>\n",
       "      <td>Ace Inhibitors, Plain</td>\n",
       "      <td>PHARMGKB:PA164712308</td>\n",
       "      <td>0.989413</td>\n",
       "    </tr>\n",
       "    <tr>\n",
       "      <th>3</th>\n",
       "      <td>primidone</td>\n",
       "      <td>DrugCentral:2267</td>\n",
       "      <td>0.989266</td>\n",
       "    </tr>\n",
       "    <tr>\n",
       "      <th>4</th>\n",
       "      <td>ruxolitinib</td>\n",
       "      <td>DrugCentral:4190</td>\n",
       "      <td>0.989254</td>\n",
       "    </tr>\n",
       "    <tr>\n",
       "      <th>5</th>\n",
       "      <td>dolasetron</td>\n",
       "      <td>DRUGBANK:DB00757</td>\n",
       "      <td>0.988516</td>\n",
       "    </tr>\n",
       "    <tr>\n",
       "      <th>6</th>\n",
       "      <td>erlotinib</td>\n",
       "      <td>DrugCentral:1045</td>\n",
       "      <td>0.988334</td>\n",
       "    </tr>\n",
       "    <tr>\n",
       "      <th>7</th>\n",
       "      <td>dexlansoprazole</td>\n",
       "      <td>DrugCentral:4162</td>\n",
       "      <td>0.988295</td>\n",
       "    </tr>\n",
       "    <tr>\n",
       "      <th>8</th>\n",
       "      <td>ripasudil</td>\n",
       "      <td>DrugCentral:4938</td>\n",
       "      <td>0.988228</td>\n",
       "    </tr>\n",
       "    <tr>\n",
       "      <th>9</th>\n",
       "      <td>Gliotoxin</td>\n",
       "      <td>ttd.drug:D0N1XD</td>\n",
       "      <td>0.987917</td>\n",
       "    </tr>\n",
       "    <tr>\n",
       "      <th>10</th>\n",
       "      <td>bosutinib</td>\n",
       "      <td>DrugCentral:4359</td>\n",
       "      <td>0.987761</td>\n",
       "    </tr>\n",
       "    <tr>\n",
       "      <th>11</th>\n",
       "      <td>botulinum toxin type a</td>\n",
       "      <td>DRUGBANK:DB00083</td>\n",
       "      <td>0.987447</td>\n",
       "    </tr>\n",
       "    <tr>\n",
       "      <th>12</th>\n",
       "      <td>meprobamate</td>\n",
       "      <td>DrugCentral:1704</td>\n",
       "      <td>0.987445</td>\n",
       "    </tr>\n",
       "    <tr>\n",
       "      <th>13</th>\n",
       "      <td>clomifene</td>\n",
       "      <td>DrugCentral:700</td>\n",
       "      <td>0.987251</td>\n",
       "    </tr>\n",
       "    <tr>\n",
       "      <th>14</th>\n",
       "      <td>meldonium</td>\n",
       "      <td>DrugCentral:3995</td>\n",
       "      <td>0.987164</td>\n",
       "    </tr>\n",
       "    <tr>\n",
       "      <th>15</th>\n",
       "      <td>chlorpromazine</td>\n",
       "      <td>DrugCentral:621</td>\n",
       "      <td>0.987154</td>\n",
       "    </tr>\n",
       "    <tr>\n",
       "      <th>16</th>\n",
       "      <td>zolpidem</td>\n",
       "      <td>DrugCentral:2870</td>\n",
       "      <td>0.987034</td>\n",
       "    </tr>\n",
       "    <tr>\n",
       "      <th>17</th>\n",
       "      <td>interferon beta-1a</td>\n",
       "      <td>DRUGBANK:DB00060</td>\n",
       "      <td>0.986971</td>\n",
       "    </tr>\n",
       "    <tr>\n",
       "      <th>18</th>\n",
       "      <td>ciprofloxacin</td>\n",
       "      <td>DrugCentral:659</td>\n",
       "      <td>0.986924</td>\n",
       "    </tr>\n",
       "    <tr>\n",
       "      <th>19</th>\n",
       "      <td>JNJ-55308942</td>\n",
       "      <td>ttd.drug:D0OQ1A</td>\n",
       "      <td>0.986920</td>\n",
       "    </tr>\n",
       "    <tr>\n",
       "      <th>20</th>\n",
       "      <td>3-(2,6-diphenylpyridin-4-yl)phenol</td>\n",
       "      <td>ttd.drug:D02PDP</td>\n",
       "      <td>0.986814</td>\n",
       "    </tr>\n",
       "    <tr>\n",
       "      <th>21</th>\n",
       "      <td>eldecalcitol</td>\n",
       "      <td>DrugCentral:5169</td>\n",
       "      <td>0.986704</td>\n",
       "    </tr>\n",
       "    <tr>\n",
       "      <th>22</th>\n",
       "      <td>lumiracoxib</td>\n",
       "      <td>DRUGBANK:DB01283</td>\n",
       "      <td>0.986396</td>\n",
       "    </tr>\n",
       "    <tr>\n",
       "      <th>23</th>\n",
       "      <td>desipramine</td>\n",
       "      <td>DrugCentral:812</td>\n",
       "      <td>0.986058</td>\n",
       "    </tr>\n",
       "    <tr>\n",
       "      <th>24</th>\n",
       "      <td>Bococizumab</td>\n",
       "      <td>ttd.drug:D03DJT</td>\n",
       "      <td>0.985774</td>\n",
       "    </tr>\n",
       "    <tr>\n",
       "      <th>25</th>\n",
       "      <td>1-(4-Bromo-benzyl)-3-quinazolin-8-yl-urea</td>\n",
       "      <td>ttd.drug:D0D0DW</td>\n",
       "      <td>0.985704</td>\n",
       "    </tr>\n",
       "    <tr>\n",
       "      <th>26</th>\n",
       "      <td>brexpiprazole</td>\n",
       "      <td>DrugCentral:5014</td>\n",
       "      <td>0.985604</td>\n",
       "    </tr>\n",
       "    <tr>\n",
       "      <th>27</th>\n",
       "      <td>YAWF-NH2</td>\n",
       "      <td>ttd.drug:D0JX3P</td>\n",
       "      <td>0.985282</td>\n",
       "    </tr>\n",
       "    <tr>\n",
       "      <th>28</th>\n",
       "      <td>PknB inhibitor</td>\n",
       "      <td>ttd.drug:D04YQS</td>\n",
       "      <td>0.985167</td>\n",
       "    </tr>\n",
       "    <tr>\n",
       "      <th>29</th>\n",
       "      <td>Levopropoxyphene Napsylate Anhydrous</td>\n",
       "      <td>ttd.drug:D0HF0W</td>\n",
       "      <td>0.985096</td>\n",
       "    </tr>\n",
       "  </tbody>\n",
       "</table>\n",
       "</div>"
      ],
      "text/plain": [
       "                                         drug                 curie  \\\n",
       "0                                 eptinezumab      DrugCentral:5386   \n",
       "1                                fremanezumab      DrugCentral:5315   \n",
       "2                       Ace Inhibitors, Plain  PHARMGKB:PA164712308   \n",
       "3                                   primidone      DrugCentral:2267   \n",
       "4                                 ruxolitinib      DrugCentral:4190   \n",
       "5                                  dolasetron      DRUGBANK:DB00757   \n",
       "6                                   erlotinib      DrugCentral:1045   \n",
       "7                             dexlansoprazole      DrugCentral:4162   \n",
       "8                                   ripasudil      DrugCentral:4938   \n",
       "9                                   Gliotoxin       ttd.drug:D0N1XD   \n",
       "10                                  bosutinib      DrugCentral:4359   \n",
       "11                     botulinum toxin type a      DRUGBANK:DB00083   \n",
       "12                                meprobamate      DrugCentral:1704   \n",
       "13                                  clomifene       DrugCentral:700   \n",
       "14                                  meldonium      DrugCentral:3995   \n",
       "15                             chlorpromazine       DrugCentral:621   \n",
       "16                                   zolpidem      DrugCentral:2870   \n",
       "17                         interferon beta-1a      DRUGBANK:DB00060   \n",
       "18                              ciprofloxacin       DrugCentral:659   \n",
       "19                               JNJ-55308942       ttd.drug:D0OQ1A   \n",
       "20         3-(2,6-diphenylpyridin-4-yl)phenol       ttd.drug:D02PDP   \n",
       "21                               eldecalcitol      DrugCentral:5169   \n",
       "22                                lumiracoxib      DRUGBANK:DB01283   \n",
       "23                                desipramine       DrugCentral:812   \n",
       "24                                Bococizumab       ttd.drug:D03DJT   \n",
       "25  1-(4-Bromo-benzyl)-3-quinazolin-8-yl-urea       ttd.drug:D0D0DW   \n",
       "26                              brexpiprazole      DrugCentral:5014   \n",
       "27                                   YAWF-NH2       ttd.drug:D0JX3P   \n",
       "28                             PknB inhibitor       ttd.drug:D04YQS   \n",
       "29       Levopropoxyphene Napsylate Anhydrous       ttd.drug:D0HF0W   \n",
       "\n",
       "    cosine sim  \n",
       "0     0.990896  \n",
       "1     0.990588  \n",
       "2     0.989413  \n",
       "3     0.989266  \n",
       "4     0.989254  \n",
       "5     0.988516  \n",
       "6     0.988334  \n",
       "7     0.988295  \n",
       "8     0.988228  \n",
       "9     0.987917  \n",
       "10    0.987761  \n",
       "11    0.987447  \n",
       "12    0.987445  \n",
       "13    0.987251  \n",
       "14    0.987164  \n",
       "15    0.987154  \n",
       "16    0.987034  \n",
       "17    0.986971  \n",
       "18    0.986924  \n",
       "19    0.986920  \n",
       "20    0.986814  \n",
       "21    0.986704  \n",
       "22    0.986396  \n",
       "23    0.986058  \n",
       "24    0.985774  \n",
       "25    0.985704  \n",
       "26    0.985604  \n",
       "27    0.985282  \n",
       "28    0.985167  \n",
       "29    0.985096  "
      ]
     },
     "execution_count": 127,
     "metadata": {},
     "output_type": "execute_result"
    }
   ],
   "source": [
    "import re\n",
    "drugs_ranked_pd = pd.DataFrame.from_records(drugs_ranked, columns=[\"drug\", \"curie\", \"cosine sim\"])\n",
    "drugs_ranked_pd.to_csv(drugs_ranked_outfile, sep=\"\\t\", index=False)\n",
    "drugs_ranked_pd[0:top_x].to_csv(re.sub(\".tsv\", f\"_top{top_x}.tsv\", drugs_ranked_outfile), sep=\"\\t\", index=False)\n",
    "drugs_ranked_pd[0:top_x]"
   ]
  }
 ],
 "metadata": {
  "kernelspec": {
   "display_name": "Python 3",
   "language": "python",
   "name": "python3"
  },
  "language_info": {
   "codemirror_mode": {
    "name": "ipython",
    "version": 3
   },
   "file_extension": ".py",
   "mimetype": "text/x-python",
   "name": "python",
   "nbconvert_exporter": "python",
   "pygments_lexer": "ipython3",
   "version": "3.7.9"
  }
 },
 "nbformat": 4,
 "nbformat_minor": 4
}
