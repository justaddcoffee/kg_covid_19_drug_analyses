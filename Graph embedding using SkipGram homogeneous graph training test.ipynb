{
 "cells": [
  {
   "cell_type": "markdown",
   "metadata": {},
   "source": [
    "# Graph embedding using SkipGram\n",
    "\n",
    "This is an embedding of the whole graph, no training and validation split and all sources."
   ]
  },
  {
   "cell_type": "code",
   "execution_count": 38,
   "metadata": {},
   "outputs": [],
   "source": [
    "import silence_tensorflow.auto # Import needed to avoid TensorFlow warnings and general useless infos."
   ]
  },
  {
   "cell_type": "code",
   "execution_count": 39,
   "metadata": {},
   "outputs": [],
   "source": [
    "exp_name = \"80_20_training_test_epoch_500_delta_0.0001\"\n",
    "graph_data_dir = \"graph\""
   ]
  },
  {
   "cell_type": "markdown",
   "metadata": {},
   "source": [
    "## Loading the graphs\n",
    "We load the ppi graph from the repository as an undirected graph."
   ]
  },
  {
   "cell_type": "code",
   "execution_count": 40,
   "metadata": {},
   "outputs": [],
   "source": [
    "import urllib\n",
    "import os\n",
    "os.makedirs(graph_data_dir, exist_ok=True)\n",
    "if not os.path.exists(graph_data_dir + \"/kg-covid-19-skipgram-aug-2020.tar.gz\"):\n",
    "    with urllib.request.urlopen(\"https://zenodo.org/record/4011267/files/kg-covid-19-skipgram-aug-2020.tar.gz\") as response, \\\n",
    "        open(graph_data_dir + \"/kg-covid-19-skipgram-aug-2020.tar.gz\", 'wb') as out_file:\n",
    "            data = response.read()  # a `bytes` object\n",
    "            out_file.write(data)"
   ]
  },
  {
   "cell_type": "code",
   "execution_count": 41,
   "metadata": {
    "scrolled": true
   },
   "outputs": [
    {
     "data": {
      "text/plain": [
       "0"
      ]
     },
     "execution_count": 41,
     "metadata": {},
     "output_type": "execute_result"
    }
   ],
   "source": [
    "import os\n",
    "os.system(\"tar -xvzf \" + graph_data_dir + \"/kg-covid-19-skipgram-aug-2020.tar.gz -C \" + graph_data_dir)"
   ]
  },
  {
   "cell_type": "code",
   "execution_count": 42,
   "metadata": {},
   "outputs": [],
   "source": [
    "from ensmallen_graph import EnsmallenGraph\n",
    "\n",
    "graph = EnsmallenGraph.from_csv(\n",
    "    edge_path= graph_data_dir + \"/merged-kg_edges.tsv\",\n",
    "    sources_column=\"subject\",\n",
    "    destinations_column=\"object\",\n",
    "    directed=False,\n",
    "    default_edge_type=\"biolink:association\",\n",
    "    node_path= graph_data_dir + \"/merged-kg_nodes.tsv\",\n",
    "    nodes_column=\"id\",\n",
    "    node_types_column=\"category\",\n",
    "    default_node_type=\"biolink:NamedThing\",\n",
    "    ignore_duplicated_edges=True,\n",
    "    ignore_duplicated_nodes=True,\n",
    "    force_conversion_to_undirected=True\n",
    ")"
   ]
  },
  {
   "cell_type": "markdown",
   "metadata": {},
   "source": [
    "As first thing, we print a short report showing all the avalable graph details, including the number of edges, nodes, trap nodes and both the connected components and the strongly connected components."
   ]
  },
  {
   "cell_type": "code",
   "execution_count": 43,
   "metadata": {},
   "outputs": [
    {
     "data": {
      "text/plain": [
       "{'selfloops_rate': '0.000015391581103247148',\n",
       " 'connected_components_number': '8976',\n",
       " 'degrees_median': '6',\n",
       " 'traps_rate': '0.021906677500566116',\n",
       " 'strongly_connected_components_number': '8976',\n",
       " 'degrees_mode': '1',\n",
       " 'nodes_number': '375365',\n",
       " 'bidirectional_rate': '1',\n",
       " 'unique_edge_types_number': '0',\n",
       " 'degrees_max': '90378',\n",
       " 'unique_node_types_number': '36',\n",
       " 'is_directed': 'false',\n",
       " 'density': '0.00021902960686152735',\n",
       " 'degrees_min': '0',\n",
       " 'singleton_nodes': '8223',\n",
       " 'degrees_mean': '82.21604837957722',\n",
       " 'edges_number': '30861027'}"
      ]
     },
     "execution_count": 43,
     "metadata": {},
     "output_type": "execute_result"
    }
   ],
   "source": [
    "graph.report()"
   ]
  },
  {
   "cell_type": "markdown",
   "metadata": {},
   "source": [
    "The followings are check that are not necessary, but are offered as sanity checks:"
   ]
  },
  {
   "cell_type": "markdown",
   "metadata": {},
   "source": [
    "### Considered parameters\n",
    "We are going to use the following parameters:\n",
    "\n",
    "- **Walk lengths:** $100$ nodes.\n",
    "- **Batch size:** $2^{7} = 128$ walks per batch.\n",
    "- **Walk iterations:** $20$ iterations on the graph.\n",
    "- **Window size:** $4$ nodes, meaning $4$ on the left and $4$ on the right of the center nodes. Consider that the first *window_size* values on the left and the right of the walks will be trimmed.\n",
    "- **Return weight, inverse of $p$:** $1.0$.\n",
    "- **Explore weight, inverse of $q$:** $1.0$.\n",
    "- **Embedding size:** $100$.\n",
    "- **Negative samples:** For the porpose of the [NCE function negative samples](https://www.tensorflow.org/api_docs/python/tf/nn/nce_loss), we are going to use $10$. These are the number of negative classes to randomly sample per batch. This single sample of negative classes is evaluated for each element in the batch.\n",
    "- **Optimizer:** [Nadam](https://www.tensorflow.org/api_docs/python/tf/keras/optimizers/Nadam).\n",
    "- **Early stopping parameters:** We are going to use an Early Stopping criterion on the *validation loss*, with patience $5$ and delta $0.0001$.\n",
    "- **Epochs:** The model will be trained up to $1000$ epochs.\n",
    "- **Learning rate:** since tipically the loss function is quite convex for the embedding problem, we can use a relatively higher learning rate. We are going to us $0.1$ for this example, to get to a faster convergence: this might lead to skipping some better minima that might be identified with a lower learning rate, such as the default one which is $0.0001$."
   ]
  },
  {
   "cell_type": "code",
   "execution_count": 44,
   "metadata": {},
   "outputs": [],
   "source": [
    "training, validation = graph.connected_holdout(42, 0.8)"
   ]
  },
  {
   "cell_type": "code",
   "execution_count": 45,
   "metadata": {},
   "outputs": [
    {
     "data": {
      "text/plain": [
       "{'traps_rate': '0.021933318236916067',\n",
       " 'nodes_number': '375365',\n",
       " 'bidirectional_rate': '1',\n",
       " 'density': '0.0001752236883281372',\n",
       " 'strongly_connected_components_number': '8976',\n",
       " 'degrees_mean': '65.77283976929122',\n",
       " 'unique_node_types_number': '36',\n",
       " 'is_directed': 'false',\n",
       " 'degrees_min': '0',\n",
       " 'degrees_max': '71988',\n",
       " 'degrees_mode': '1',\n",
       " 'degrees_median': '5',\n",
       " 'singleton_nodes': '8233',\n",
       " 'edges_number': '24688822',\n",
       " 'unique_edge_types_number': '0',\n",
       " 'selfloops_rate': '0.000014743514291609376',\n",
       " 'connected_components_number': '8976'}"
      ]
     },
     "execution_count": 45,
     "metadata": {},
     "output_type": "execute_result"
    }
   ],
   "source": [
    "training.report()"
   ]
  },
  {
   "cell_type": "code",
   "execution_count": 46,
   "metadata": {},
   "outputs": [
    {
     "data": {
      "text/plain": [
       "{'singleton_nodes': '158280',\n",
       " 'selfloops_rate': '0.00001798384855979346',\n",
       " 'degrees_max': '18390',\n",
       " 'degrees_mode': '0',\n",
       " 'bidirectional_rate': '1',\n",
       " 'density': '0.000043805918533390134',\n",
       " 'connected_components_number': '162705',\n",
       " 'degrees_mean': '16.44320861028599',\n",
       " 'traps_rate': '0.42166957494705154',\n",
       " 'unique_node_types_number': '36',\n",
       " 'unique_edge_types_number': '0',\n",
       " 'is_directed': 'false',\n",
       " 'nodes_number': '375365',\n",
       " 'strongly_connected_components_number': '162705',\n",
       " 'degrees_median': '1',\n",
       " 'degrees_min': '0',\n",
       " 'edges_number': '6172205'}"
      ]
     },
     "execution_count": 46,
     "metadata": {},
     "output_type": "execute_result"
    }
   ],
   "source": [
    "validation.report()"
   ]
  },
  {
   "cell_type": "code",
   "execution_count": 47,
   "metadata": {},
   "outputs": [],
   "source": [
    "assert graph > training\n",
    "assert graph > validation\n",
    "assert (training + validation).contains(graph)\n",
    "assert graph.contains(training + validation)\n",
    "assert not training.overlaps(validation)\n",
    "assert not validation.overlaps(training)"
   ]
  },
  {
   "cell_type": "markdown",
   "metadata": {},
   "source": [
    "#### Setting up the parameters"
   ]
  },
  {
   "cell_type": "code",
   "execution_count": 48,
   "metadata": {},
   "outputs": [],
   "source": [
    "walk_length=100\n",
    "batch_size=2**9\n",
    "iterations=20\n",
    "window_size=4\n",
    "p=1.0\n",
    "q=1.0\n",
    "embedding_size=100\n",
    "negatives_samples=30\n",
    "patience=5\n",
    "delta=0.0001\n",
    "epochs=500\n",
    "learning_rate=0.1"
   ]
  },
  {
   "cell_type": "markdown",
   "metadata": {},
   "source": [
    "#### Creating the training and validation Keras sequences"
   ]
  },
  {
   "cell_type": "markdown",
   "metadata": {},
   "source": [
    "## Creating the SkipGram model\n",
    "We are going to setup the model to use, if available, multiple GPUs."
   ]
  },
  {
   "cell_type": "code",
   "execution_count": 49,
   "metadata": {},
   "outputs": [],
   "source": [
    "from embiggen import Node2VecSequence\n",
    "\n",
    "training_sequence = Node2VecSequence(\n",
    "    training,\n",
    "    walk_length=walk_length,\n",
    "    batch_size=batch_size,\n",
    "    iterations=iterations,\n",
    "    window_size=window_size,\n",
    "    return_weight=1/p,\n",
    "    explore_weight=1/q\n",
    ")\n",
    "\n",
    "validation_sequence = Node2VecSequence(\n",
    "    graph, # Here we use the entire graph. This will only be used for the early stopping.\n",
    "    walk_length=walk_length,\n",
    "    batch_size=batch_size,\n",
    "    iterations=iterations,\n",
    "    window_size=window_size,\n",
    "    return_weight=1/p,\n",
    "    explore_weight=1/q\n",
    ")"
   ]
  },
  {
   "cell_type": "code",
   "execution_count": 50,
   "metadata": {},
   "outputs": [
    {
     "name": "stdout",
     "output_type": "stream",
     "text": [
      "Model: \"SkipGram\"\n",
      "__________________________________________________________________________________________________\n",
      "Layer (type)                    Output Shape         Param #     Connected to                     \n",
      "==================================================================================================\n",
      "words_embedding (InputLayer)    [(None, 1)]          0                                            \n",
      "__________________________________________________________________________________________________\n",
      "embedding_2 (Embedding)         (None, 1, 100)       37536500    words_embedding[0][0]            \n",
      "__________________________________________________________________________________________________\n",
      "flatten_2 (Flatten)             (None, 100)          0           embedding_2[0][0]                \n",
      "__________________________________________________________________________________________________\n",
      "input_3 (InputLayer)            [(None, 8)]          0                                            \n",
      "__________________________________________________________________________________________________\n",
      "noise_contrastive_estimation_2  (None, 375365)       37911865    flatten_2[0][0]                  \n",
      "                                                                 input_3[0][0]                    \n",
      "==================================================================================================\n",
      "Total params: 75,448,365\n",
      "Trainable params: 75,448,365\n",
      "Non-trainable params: 0\n",
      "__________________________________________________________________________________________________\n"
     ]
    }
   ],
   "source": [
    "from tensorflow.distribute import MirroredStrategy\n",
    "from tensorflow.keras.optimizers import Nadam\n",
    "from embiggen import SkipGram\n",
    "\n",
    "strategy = MirroredStrategy()\n",
    "with strategy.scope():\n",
    "    model = SkipGram(\n",
    "        vocabulary_size=training.get_nodes_number(),\n",
    "        embedding_size=embedding_size,\n",
    "        window_size=window_size,\n",
    "    negatives_samples=negatives_samples,\n",
    "    optimizer=Nadam(learning_rate=learning_rate)\n",
    "    )\n",
    "\n",
    "model.summary()"
   ]
  },
  {
   "cell_type": "markdown",
   "metadata": {},
   "source": [
    "## Tuning the SkipGram model"
   ]
  },
  {
   "cell_type": "code",
   "execution_count": 51,
   "metadata": {},
   "outputs": [
    {
     "name": "stdout",
     "output_type": "stream",
     "text": [
      "Epoch 1/500\n",
      "718/718 [==============================] - 1272s 2s/step - loss: 53.2450 - val_loss: 37.3300\n",
      "Epoch 2/500\n",
      "718/718 [==============================] - 1267s 2s/step - loss: 30.0708 - val_loss: 34.1020\n",
      "Epoch 3/500\n",
      "718/718 [==============================] - 1265s 2s/step - loss: 29.1847 - val_loss: 30.3964\n",
      "Epoch 4/500\n",
      "718/718 [==============================] - 1261s 2s/step - loss: 25.3538 - val_loss: 27.8371\n",
      "Epoch 5/500\n",
      "718/718 [==============================] - 1267s 2s/step - loss: 23.3210 - val_loss: 25.9948\n",
      "Epoch 6/500\n",
      "718/718 [==============================] - 1266s 2s/step - loss: 22.4200 - val_loss: 25.6218\n",
      "Epoch 7/500\n",
      "718/718 [==============================] - 1266s 2s/step - loss: 21.3047 - val_loss: 24.0166\n",
      "Epoch 8/500\n",
      "718/718 [==============================] - 1265s 2s/step - loss: 20.1007 - val_loss: 22.9065\n",
      "Epoch 9/500\n",
      "718/718 [==============================] - 1269s 2s/step - loss: 19.5533 - val_loss: 22.4711\n",
      "Epoch 10/500\n",
      "718/718 [==============================] - 1267s 2s/step - loss: 18.3394 - val_loss: 21.6924\n",
      "Epoch 11/500\n",
      "718/718 [==============================] - 1262s 2s/step - loss: 17.9089 - val_loss: 21.1081\n",
      "Epoch 12/500\n",
      "718/718 [==============================] - 1264s 2s/step - loss: 17.4080 - val_loss: 20.6367\n",
      "Epoch 13/500\n",
      "718/718 [==============================] - 1254s 2s/step - loss: 16.8118 - val_loss: 20.7773\n",
      "Epoch 14/500\n",
      "718/718 [==============================] - 1268s 2s/step - loss: 16.7553 - val_loss: 20.1332\n",
      "Epoch 15/500\n",
      "718/718 [==============================] - 1263s 2s/step - loss: 16.0744 - val_loss: 19.7890\n",
      "Epoch 16/500\n",
      "718/718 [==============================] - 1260s 2s/step - loss: 16.0512 - val_loss: 19.1757\n",
      "Epoch 17/500\n",
      "718/718 [==============================] - 1263s 2s/step - loss: 15.7746 - val_loss: 19.3032\n",
      "Epoch 18/500\n",
      "718/718 [==============================] - 1262s 2s/step - loss: 15.5457 - val_loss: 19.1596\n",
      "Epoch 19/500\n",
      "718/718 [==============================] - 1263s 2s/step - loss: 15.1474 - val_loss: 19.1604\n",
      "Epoch 20/500\n",
      "718/718 [==============================] - 1261s 2s/step - loss: 15.3470 - val_loss: 18.7869\n",
      "Epoch 21/500\n",
      "718/718 [==============================] - 1267s 2s/step - loss: 15.0235 - val_loss: 18.5173\n",
      "Epoch 22/500\n",
      "718/718 [==============================] - 1262s 2s/step - loss: 14.6836 - val_loss: 17.9738\n",
      "Epoch 23/500\n",
      "718/718 [==============================] - 1261s 2s/step - loss: 14.3601 - val_loss: 18.7497\n",
      "Epoch 24/500\n",
      "718/718 [==============================] - 1259s 2s/step - loss: 14.5245 - val_loss: 17.6229\n",
      "Epoch 25/500\n",
      "718/718 [==============================] - 1263s 2s/step - loss: 14.4399 - val_loss: 18.1522\n",
      "Epoch 26/500\n",
      "718/718 [==============================] - 1257s 2s/step - loss: 14.1997 - val_loss: 18.0826\n",
      "Epoch 27/500\n",
      "718/718 [==============================] - 1260s 2s/step - loss: 13.8058 - val_loss: 17.8142\n",
      "Epoch 28/500\n",
      "718/718 [==============================] - 1265s 2s/step - loss: 13.9822 - val_loss: 17.5717\n",
      "Epoch 29/500\n",
      "718/718 [==============================] - 1264s 2s/step - loss: 13.6474 - val_loss: 17.2062\n",
      "Epoch 30/500\n",
      "718/718 [==============================] - 1257s 2s/step - loss: 13.4038 - val_loss: 17.0241\n",
      "Epoch 31/500\n",
      "718/718 [==============================] - 1264s 2s/step - loss: 13.7380 - val_loss: 17.4242\n",
      "Epoch 32/500\n",
      "718/718 [==============================] - 1263s 2s/step - loss: 13.7364 - val_loss: 16.6251\n",
      "Epoch 33/500\n",
      "718/718 [==============================] - 1262s 2s/step - loss: 13.7265 - val_loss: 17.1947\n",
      "Epoch 34/500\n",
      "718/718 [==============================] - 1261s 2s/step - loss: 13.8242 - val_loss: 17.4398\n",
      "Epoch 35/500\n",
      "718/718 [==============================] - 1265s 2s/step - loss: 13.7716 - val_loss: 17.2975\n",
      "Epoch 36/500\n",
      "718/718 [==============================] - 1262s 2s/step - loss: 13.6797 - val_loss: 17.0737\n",
      "Epoch 37/500\n",
      "718/718 [==============================] - 1259s 2s/step - loss: 13.3011 - val_loss: 16.5399\n",
      "Epoch 38/500\n",
      "718/718 [==============================] - 1261s 2s/step - loss: 13.3193 - val_loss: 16.4197\n",
      "Epoch 39/500\n",
      "718/718 [==============================] - 1262s 2s/step - loss: 12.9566 - val_loss: 16.1834\n",
      "Epoch 40/500\n",
      "718/718 [==============================] - 1263s 2s/step - loss: 12.9836 - val_loss: 16.2760\n",
      "Epoch 41/500\n",
      "718/718 [==============================] - 1268s 2s/step - loss: 12.9961 - val_loss: 16.0793\n",
      "Epoch 42/500\n",
      "718/718 [==============================] - 1258s 2s/step - loss: 12.8573 - val_loss: 16.1104\n",
      "Epoch 43/500\n",
      "718/718 [==============================] - 1264s 2s/step - loss: 12.9906 - val_loss: 16.3083\n",
      "Epoch 44/500\n",
      "718/718 [==============================] - 1267s 2s/step - loss: 12.9487 - val_loss: 16.1557\n",
      "Epoch 45/500\n",
      "718/718 [==============================] - 1258s 2s/step - loss: 12.9308 - val_loss: 15.9174\n",
      "Epoch 46/500\n",
      "718/718 [==============================] - 1265s 2s/step - loss: 12.9191 - val_loss: 16.7759\n",
      "Epoch 47/500\n",
      "718/718 [==============================] - 1261s 2s/step - loss: 12.8865 - val_loss: 16.7911\n",
      "Epoch 48/500\n",
      "718/718 [==============================] - 1264s 2s/step - loss: 13.4426 - val_loss: 16.7735\n",
      "Epoch 49/500\n",
      "718/718 [==============================] - 1263s 2s/step - loss: 13.3781 - val_loss: 17.3094\n",
      "Epoch 50/500\n",
      "718/718 [==============================] - 1264s 2s/step - loss: 13.5950 - val_loss: 16.5016\n"
     ]
    }
   ],
   "source": [
    "from tensorflow.keras.callbacks import EarlyStopping\n",
    "\n",
    "history = model.fit(\n",
    "    training_sequence,\n",
    "    steps_per_epoch=training_sequence.steps_per_epoch,\n",
    "    validation_data=validation_sequence,\n",
    "    validation_steps=validation_sequence.steps_per_epoch,\n",
    "    epochs=epochs,\n",
    "    callbacks=[\n",
    "        EarlyStopping(\n",
    "            \"val_loss\",\n",
    "            min_delta=delta,\n",
    "            patience=patience,\n",
    "            restore_best_weights=True\n",
    "        )\n",
    "    ]\n",
    ")"
   ]
  },
  {
   "cell_type": "code",
   "execution_count": 52,
   "metadata": {},
   "outputs": [],
   "source": [
    "### Saving the model weights\n",
    "# We save the obtained model weights:"
   ]
  },
  {
   "cell_type": "code",
   "execution_count": 53,
   "metadata": {},
   "outputs": [],
   "source": [
    "model.save_weights(f\"{model.name}_\" + exp_name + \"_weights.h5\")"
   ]
  },
  {
   "cell_type": "markdown",
   "metadata": {},
   "source": [
    "### Visualizing the training history\n",
    "We can visualize the performance of the model during the training process as follows:"
   ]
  },
  {
   "cell_type": "code",
   "execution_count": 54,
   "metadata": {},
   "outputs": [
    {
     "data": {
      "image/png": "[encoded data removed]",
      "text/plain": [
       "<Figure size 360x360 with 1 Axes>"
      ]
     },
     "metadata": {
      "needs_background": "light"
     },
     "output_type": "display_data"
    }
   ],
   "source": [
    "from plot_keras_history import plot_history\n",
    "\n",
    "plot_history(history)"
   ]
  },
  {
   "cell_type": "markdown",
   "metadata": {},
   "source": [
    "There may be some hiccups in the plot of the history if the model is reloaded from stored weights: [this is a known Keras issue](https://github.com/keras-team/keras/issues/4875) and is not related to either the holdouts used or the model."
   ]
  },
  {
   "cell_type": "markdown",
   "metadata": {},
   "source": [
    "## Saving the obtained embeddings\n",
    "Finally we save our hard earned model embeddings. In another notebook we will show how to do link prediction on the obtained embedding."
   ]
  },
  {
   "cell_type": "code",
   "execution_count": 55,
   "metadata": {},
   "outputs": [],
   "source": [
    "import numpy as np\n",
    "\n",
    "np.save(f\"{model.name}_\" + exp_name + \"_embedding.npy\", model.embedding)"
   ]
  }
 ],
 "metadata": {
  "kernelspec": {
   "display_name": "Python 3",
   "language": "python",
   "name": "python3"
  },
  "language_info": {
   "codemirror_mode": {
    "name": "ipython",
    "version": 3
   },
   "file_extension": ".py",
   "mimetype": "text/x-python",
   "name": "python",
   "nbconvert_exporter": "python",
   "pygments_lexer": "ipython3",
   "version": "3.8.3"
  }
 },
 "nbformat": 4,
 "nbformat_minor": 4
}
