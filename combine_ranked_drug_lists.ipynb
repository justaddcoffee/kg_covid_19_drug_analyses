{
 "cells": [
  {
   "cell_type": "markdown",
   "metadata": {},
   "source": [
    "### Notebook to combine ranked lists using Borda voting"
   ]
  },
  {
   "cell_type": "code",
   "execution_count": 1,
   "metadata": {},
   "outputs": [],
   "source": [
    "import os\n",
    "ranked_list_dir = \"./downloaded_data/ranked-drug-lists/\"\n",
    "ranked_list_file_info = [\n",
    "    {'file': os.path.join(ranked_list_dir, \"chembl_antiviral_cosine_sim.tsv\"),\n",
    "     'sep': \",\", 'drug_field': 0,\n",
    "     'header': False\n",
    "    },\n",
    "    {'file': os.path.join(ranked_list_dir, \"RANKING_cNMF_top-50.tab\"), \n",
    "     'sep': \"\\t\", 'drug_field': 1,\n",
    "     'header': True\n",
    "    },\n",
    "    {'file': os.path.join(ranked_list_dir, \"RANKING_pStepKernel_top-100.tab\"),\n",
    "     'sep': \"\\t\", 'drug_field': 1,\n",
    "     'header': True\n",
    "    },\n",
    "]\n",
    "ranked_list_borda_output = os.path.join(ranked_list_dir, \"ranked_list_borda_output.tsv\")"
   ]
  },
  {
   "cell_type": "code",
   "execution_count": 2,
   "metadata": {},
   "outputs": [],
   "source": [
    "import itertools\n",
    "import collections\n",
    "\n",
    "def borda(ballot):\n",
    "    n = len(ballot) - 1\n",
    "    score = itertools.count(n, step = -1)\n",
    "    result = {}\n",
    "    for item in ballot:\n",
    "        result[item] = next(score)/float(n)\n",
    "    return result\n",
    "\n",
    "def tally(ballots):\n",
    "    result = collections.defaultdict(int)\n",
    "    for ballot in ballots:\n",
    "        for pref,score in borda(ballot).items():\n",
    "            result[pref]+=score\n",
    "    result = dict(result)\n",
    "    return result\n",
    "\n",
    "def make_ballots(files_info, downcase=True, drop_blanks=True):\n",
    "    ballot_strings_list = []\n",
    "    for file_info in files_info:\n",
    "        this_ballot_drugs = []\n",
    "        with open(file_info['file']) as f:\n",
    "            if 'header' in file_info and file_info['header']:\n",
    "                header = f.readline()\n",
    "            for line in f:\n",
    "                this_drug = line.split(file_info['sep'])[file_info['drug_field']]\n",
    "                if downcase:\n",
    "                    this_drug = this_drug.lower()\n",
    "                if not drop_blanks or (drop_blanks and this_drug != ''):\n",
    "                    this_ballot_drugs.append(this_drug)\n",
    "        ballot_strings_list.append(this_ballot_drugs)\n",
    "    return ballot_strings_list"
   ]
  },
  {
   "cell_type": "code",
   "execution_count": 3,
   "metadata": {},
   "outputs": [],
   "source": [
    "ballots = make_ballots(ranked_list_file_info)"
   ]
  },
  {
   "cell_type": "code",
   "execution_count": 4,
   "metadata": {
    "scrolled": true
   },
   "outputs": [],
   "source": [
    "tallied_ballots = tally(ballots)"
   ]
  },
  {
   "cell_type": "code",
   "execution_count": 5,
   "metadata": {},
   "outputs": [],
   "source": [
    "tallied_ballots_sorted = [[k,v] for k, v in sorted(tallied_ballots.items(), key=lambda item: item[1], reverse=True)]"
   ]
  },
  {
   "cell_type": "code",
   "execution_count": 6,
   "metadata": {},
   "outputs": [],
   "source": [
    "with open(ranked_list_borda_output, 'w') as out:\n",
    "    for item in tallied_ballots_sorted:\n",
    "        out.write(\"\\t\".join([str(item[0]), str(item[1])]) + \"\\n\")"
   ]
  }
 ],
 "metadata": {
  "kernelspec": {
   "display_name": "Python 3",
   "language": "python",
   "name": "python3"
  },
  "language_info": {
   "codemirror_mode": {
    "name": "ipython",
    "version": 3
   },
   "file_extension": ".py",
   "mimetype": "text/x-python",
   "name": "python",
   "nbconvert_exporter": "python",
   "pygments_lexer": "ipython3",
   "version": "3.7.9"
  }
 },
 "nbformat": 4,
 "nbformat_minor": 4
}
