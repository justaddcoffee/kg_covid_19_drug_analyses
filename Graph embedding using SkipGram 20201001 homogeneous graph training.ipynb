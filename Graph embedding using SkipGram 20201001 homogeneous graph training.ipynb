{
 "cells": [
  {
   "cell_type": "markdown",
   "metadata": {},
   "source": [
    "# Graph embedding using SkipGram\n",
    "\n",
    "This is an embedding of the whole graph, no training and validation split and all sources."
   ]
  },
  {
   "cell_type": "code",
   "execution_count": 1,
   "metadata": {},
   "outputs": [],
   "source": [
    "import silence_tensorflow.auto # Import needed to avoid TensorFlow warnings and general useless infos."
   ]
  },
  {
   "cell_type": "code",
   "execution_count": 2,
   "metadata": {},
   "outputs": [],
   "source": [
    "exp_name = \"80_20_kg_covid_19_20201001_training_test_epoch_500_delta_0.0001\"\n",
    "graph_data_dir = \"graph_20201001\""
   ]
  },
  {
   "cell_type": "markdown",
   "metadata": {},
   "source": [
    "## Loading the graphs\n",
    "We load the kg-covid-19 graph from the repository as an undirected graph."
   ]
  },
  {
   "cell_type": "code",
   "execution_count": 3,
   "metadata": {},
   "outputs": [],
   "source": [
    "import urllib\n",
    "import os\n",
    "os.makedirs(graph_data_dir, exist_ok=True)\n",
    "if not os.path.exists(graph_data_dir + \"/kg-covid-19.tar.gz\"):\n",
    "    with urllib.request.urlopen(\"https://kg-hub.berkeleybop.io/kg-covid-19/20201001/kg-covid-19.tar.gz\") as response, \\\n",
    "        open(graph_data_dir + \"/kg-covid-19.tar.gz\", 'wb') as out_file:\n",
    "            data = response.read()  # a `bytes` object\n",
    "            out_file.write(data)"
   ]
  },
  {
   "cell_type": "code",
   "execution_count": 4,
   "metadata": {
    "scrolled": false
   },
   "outputs": [
    {
     "data": {
      "text/plain": [
       "0"
      ]
     },
     "execution_count": 4,
     "metadata": {},
     "output_type": "execute_result"
    }
   ],
   "source": [
    "import os\n",
    "os.system(\"tar -xvzf \" + graph_data_dir + \"/kg-covid-19.tar.gz -C \" + graph_data_dir)"
   ]
  },
  {
   "cell_type": "markdown",
   "metadata": {},
   "source": [
    "#### only need to do this once, b/c we'll load the sorted.tsv from now on once it is made below"
   ]
  },
  {
   "cell_type": "code",
   "execution_count": 5,
   "metadata": {},
   "outputs": [
    {
     "name": "stdout",
     "output_type": "stream",
     "text": [
      "CPU times: user 0 ns, sys: 4 ms, total: 4 ms\n",
      "Wall time: 468 ms\n"
     ]
    }
   ],
   "source": [
    "%%time\n",
    "from ensmallen_graph import EnsmallenGraph\n",
    "\n",
    "if not os.path.exists(\"kg_covid_19_sorted.tsv\"):\n",
    "    graph = EnsmallenGraph.from_unsorted_csv(\n",
    "        edge_path = graph_data_dir + \"/merged-kg_edges.tsv\",\n",
    "        sources_column=\"subject\",\n",
    "        destinations_column=\"object\",\n",
    "        directed=False,\n",
    "        node_path = graph_data_dir + \"/merged-kg_nodes.tsv\",\n",
    "        nodes_column = 'id',\n",
    "        node_types_column = 'category',\n",
    "        default_node_type = 'biolink:NamedThing'\n",
    "    )\n",
    "\n",
    "    graph.dump_edges(\"kg_covid_19_sorted.tsv\",\n",
    "        sources_column=\"subject\",\n",
    "        destinations_column=\"object\")"
   ]
  },
  {
   "cell_type": "markdown",
   "metadata": {},
   "source": [
    "As first thing, we print a short report showing all the avalable graph details, including the number of edges, nodes, trap nodes and both the connected components and the strongly connected components."
   ]
  },
  {
   "cell_type": "code",
   "execution_count": 6,
   "metadata": {},
   "outputs": [
    {
     "data": {
      "text/plain": [
       "{'unique_node_types_number': '37',\n",
       " 'density': '0.037284237441157525',\n",
       " 'unique_edge_types_number': '0',\n",
       " 'nodes_number': '377577',\n",
       " 'self_loops_number': '481',\n",
       " 'directed': 'false',\n",
       " 'singletons': '8314',\n",
       " 'edges_number': '30949369',\n",
       " 'self_loops_rate': '0.00001554151233261008',\n",
       " 'degree_mean': '81.96836406878597'}"
      ]
     },
     "execution_count": 6,
     "metadata": {},
     "output_type": "execute_result"
    }
   ],
   "source": [
    "from ensmallen_graph import EnsmallenGraph\n",
    " \n",
    "graph = EnsmallenGraph.from_sorted_csv(\n",
    "    edge_path = \"kg_covid_19_sorted.tsv\",\n",
    "    sources_column=\"subject\",\n",
    "    destinations_column=\"object\",\n",
    "    directed=False,\n",
    "    nodes_number=377577,  # should be = or > than actual number\n",
    "    edges_number=30949369,   # same ^\n",
    "    # cached_edges_number=int(30949369/100*5), # deprecated\n",
    "    node_path = graph_data_dir + \"/merged-kg_nodes.tsv\",\n",
    "    nodes_column = 'id',\n",
    "    node_types_column = 'category',\n",
    "    default_node_type = 'biolink:NamedThing'\n",
    ")\n",
    "\n",
    "graph.report()"
   ]
  },
  {
   "cell_type": "markdown",
   "metadata": {},
   "source": [
    "The followings are check that are not necessary, but are offered as sanity checks:"
   ]
  },
  {
   "cell_type": "markdown",
   "metadata": {},
   "source": [
    "### Considered parameters\n",
    "We are going to use the following parameters:\n",
    "\n",
    "- **Walk lengths:** $100$ nodes.\n",
    "- **Batch size:** $2^{7} = 128$ walks per batch.\n",
    "- **Walk iterations:** $20$ iterations on the graph.\n",
    "- **Window size:** $4$ nodes, meaning $4$ on the left and $4$ on the right of the center nodes. Consider that the first *window_size* values on the left and the right of the walks will be trimmed.\n",
    "- **Return weight, inverse of $p$:** $1.0$.\n",
    "- **Explore weight, inverse of $q$:** $1.0$.\n",
    "- **Embedding size:** $100$.\n",
    "- **Negative samples:** For the porpose of the [NCE function negative samples](https://www.tensorflow.org/api_docs/python/tf/nn/nce_loss), we are going to use $10$. These are the number of negative classes to randomly sample per batch. This single sample of negative classes is evaluated for each element in the batch.\n",
    "- **Optimizer:** [Nadam](https://www.tensorflow.org/api_docs/python/tf/keras/optimizers/Nadam).\n",
    "- **Early stopping parameters:** We are going to use an Early Stopping criterion on the *validation loss*, with patience $5$ and delta $0.0001$.\n",
    "- **Epochs:** The model will be trained up to $1000$ epochs.\n",
    "- **Learning rate:** default"
   ]
  },
  {
   "cell_type": "code",
   "execution_count": 7,
   "metadata": {},
   "outputs": [
    {
     "name": "stdout",
     "output_type": "stream",
     "text": [
      "CPU times: user 3min 33s, sys: 888 ms, total: 3min 34s\n",
      "Wall time: 3min 33s\n"
     ]
    }
   ],
   "source": [
    "%%time\n",
    "training, validation = graph.connected_holdout(0.80, seed=42)"
   ]
  },
  {
   "cell_type": "code",
   "execution_count": 8,
   "metadata": {},
   "outputs": [
    {
     "data": {
      "text/plain": [
       "{'degree_mean': '65.5746880768691',\n",
       " 'edges_number': '24759494',\n",
       " 'nodes_number': '377577',\n",
       " 'self_loops_number': '370',\n",
       " 'directed': 'false',\n",
       " 'self_loops_rate': '0.000014943762582547123',\n",
       " 'singletons': '8324',\n",
       " 'unique_edge_types_number': '0',\n",
       " 'unique_node_types_number': '37',\n",
       " 'density': '0.029827388507304143'}"
      ]
     },
     "execution_count": 8,
     "metadata": {},
     "output_type": "execute_result"
    }
   ],
   "source": [
    "training.report()"
   ]
  },
  {
   "cell_type": "code",
   "execution_count": 9,
   "metadata": {},
   "outputs": [
    {
     "data": {
      "text/plain": [
       "{'edges_number': '6189875',\n",
       " 'singletons': '156519',\n",
       " 'unique_node_types_number': '37',\n",
       " 'density': '0.007456848933853383',\n",
       " 'unique_edge_types_number': '0',\n",
       " 'directed': 'false',\n",
       " 'self_loops_number': '111',\n",
       " 'nodes_number': '377577',\n",
       " 'degree_mean': '16.39367599191688',\n",
       " 'self_loops_rate': '0.000017932510753448172'}"
      ]
     },
     "execution_count": 9,
     "metadata": {},
     "output_type": "execute_result"
    }
   ],
   "source": [
    "validation.report()"
   ]
  },
  {
   "cell_type": "code",
   "execution_count": 10,
   "metadata": {},
   "outputs": [
    {
     "name": "stdout",
     "output_type": "stream",
     "text": [
      "CPU times: user 0 ns, sys: 0 ns, total: 0 ns\n",
      "Wall time: 6.2 µs\n"
     ]
    }
   ],
   "source": [
    "%%time\n",
    "coherence_check=False\n",
    "if coherence_check:\n",
    "    assert graph.contains(training)\n",
    "    assert graph.contains(validation)\n",
    "    assert (training | validation).contains(graph)\n",
    "    assert graph.contains(training | validation)\n",
    "    assert not training.overlaps(validation)\n",
    "    assert not validation.overlaps(training)"
   ]
  },
  {
   "cell_type": "markdown",
   "metadata": {},
   "source": [
    "#### Setting up the parameters"
   ]
  },
  {
   "cell_type": "code",
   "execution_count": 11,
   "metadata": {},
   "outputs": [],
   "source": [
    "walk_length=100\n",
    "batch_size=2**9\n",
    "iterations=20\n",
    "window_size=4\n",
    "p=1.0\n",
    "q=1.0\n",
    "embedding_size=100\n",
    "negatives_samples=30\n",
    "patience=5\n",
    "delta=0.0001\n",
    "epochs=500"
   ]
  },
  {
   "cell_type": "markdown",
   "metadata": {},
   "source": [
    "#### Creating the training and validation Keras sequences"
   ]
  },
  {
   "cell_type": "markdown",
   "metadata": {},
   "source": [
    "## Creating the SkipGram model\n",
    "We are going to setup the model to use, if available, multiple GPUs."
   ]
  },
  {
   "cell_type": "code",
   "execution_count": 12,
   "metadata": {},
   "outputs": [],
   "source": [
    "from embiggen import Node2VecSequence\n",
    "\n",
    "training_sequence = Node2VecSequence(\n",
    "    training,\n",
    "    walk_length=walk_length,\n",
    "    batch_size=batch_size,\n",
    "    iterations=iterations,\n",
    "    window_size=window_size,\n",
    "    return_weight=1/p,\n",
    "    explore_weight=1/q\n",
    ")\n",
    "\n",
    "validation_sequence = Node2VecSequence(\n",
    "    graph, # Here we use the entire graph. This will only be used for the early stopping.\n",
    "    walk_length=walk_length,\n",
    "    batch_size=batch_size,\n",
    "    iterations=iterations,\n",
    "    window_size=window_size,\n",
    "    return_weight=1/p,\n",
    "    explore_weight=1/q\n",
    ")"
   ]
  },
  {
   "cell_type": "code",
   "execution_count": 13,
   "metadata": {},
   "outputs": [
    {
     "name": "stdout",
     "output_type": "stream",
     "text": [
      "Model: \"SkipGram\"\n",
      "__________________________________________________________________________________________________\n",
      "Layer (type)                    Output Shape         Param #     Connected to                     \n",
      "==================================================================================================\n",
      "words_embedding (InputLayer)    [(None, 1)]          0                                            \n",
      "__________________________________________________________________________________________________\n",
      "embedding (Embedding)           (None, 1, 100)       37757700    words_embedding[0][0]            \n",
      "__________________________________________________________________________________________________\n",
      "flatten (Flatten)               (None, 100)          0           embedding[0][0]                  \n",
      "__________________________________________________________________________________________________\n",
      "input_1 (InputLayer)            [(None, 8)]          0                                            \n",
      "__________________________________________________________________________________________________\n",
      "noise_contrastive_estimation (N (None, 377577)       38135277    flatten[0][0]                    \n",
      "                                                                 input_1[0][0]                    \n",
      "==================================================================================================\n",
      "Total params: 75,892,977\n",
      "Trainable params: 75,892,977\n",
      "Non-trainable params: 0\n",
      "__________________________________________________________________________________________________\n"
     ]
    }
   ],
   "source": [
    "from tensorflow.distribute import MirroredStrategy\n",
    "from tensorflow.keras.optimizers import Nadam\n",
    "from embiggen import SkipGram\n",
    "\n",
    "# strategy = MirroredStrategy()\n",
    "# with strategy.scope():\n",
    "model = SkipGram(\n",
    "    vocabulary_size=training.get_nodes_number(),\n",
    "    embedding_size=embedding_size,\n",
    "    window_size=window_size,\n",
    "    negative_samples=negatives_samples,\n",
    ")\n",
    "\n",
    "model.summary()"
   ]
  },
  {
   "cell_type": "markdown",
   "metadata": {},
   "source": [
    "## Tuning the SkipGram model"
   ]
  },
  {
   "cell_type": "code",
   "execution_count": 14,
   "metadata": {
    "scrolled": true
   },
   "outputs": [
    {
     "name": "stdout",
     "output_type": "stream",
     "text": [
      "Epoch 1/500\n",
      "722/722 [==============================] - 1185s 2s/step - loss: 177.0404 - val_loss: 195.2658\n",
      "Epoch 2/500\n",
      "722/722 [==============================] - 1172s 2s/step - loss: 127.0025 - val_loss: 185.6311\n",
      "Epoch 3/500\n",
      "722/722 [==============================] - 1186s 2s/step - loss: 112.6488 - val_loss: 177.6938\n",
      "Epoch 4/500\n",
      "722/722 [==============================] - 1190s 2s/step - loss: 102.9787 - val_loss: 171.8963\n",
      "Epoch 5/500\n",
      "722/722 [==============================] - 1184s 2s/step - loss: 97.0606 - val_loss: 169.7232\n",
      "Epoch 6/500\n",
      "722/722 [==============================] - 1191s 2s/step - loss: 91.4214 - val_loss: 165.0681\n",
      "Epoch 7/500\n",
      "722/722 [==============================] - 1200s 2s/step - loss: 85.7749 - val_loss: 160.7493\n",
      "Epoch 8/500\n",
      "722/722 [==============================] - 1188s 2s/step - loss: 80.8782 - val_loss: 157.4284\n",
      "Epoch 9/500\n",
      "722/722 [==============================] - 1186s 2s/step - loss: 76.6870 - val_loss: 155.1093\n",
      "Epoch 10/500\n",
      "722/722 [==============================] - 1172s 2s/step - loss: 72.7291 - val_loss: 154.3144\n",
      "Epoch 11/500\n",
      "722/722 [==============================] - 1192s 2s/step - loss: 69.1586 - val_loss: 151.0172\n",
      "Epoch 12/500\n",
      "722/722 [==============================] - 1178s 2s/step - loss: 68.5963 - val_loss: 149.2450\n",
      "Epoch 13/500\n",
      "722/722 [==============================] - 1153s 2s/step - loss: 66.2891 - val_loss: 147.4717\n",
      "Epoch 14/500\n",
      "722/722 [==============================] - 1133s 2s/step - loss: 63.7467 - val_loss: 146.6458\n",
      "Epoch 15/500\n",
      "722/722 [==============================] - 1163s 2s/step - loss: 61.6600 - val_loss: 144.8796\n",
      "Epoch 16/500\n",
      "722/722 [==============================] - 1183s 2s/step - loss: 59.0795 - val_loss: 144.6854\n",
      "Epoch 17/500\n",
      "722/722 [==============================] - 1176s 2s/step - loss: 58.2354 - val_loss: 142.7420\n",
      "Epoch 18/500\n",
      "722/722 [==============================] - 1181s 2s/step - loss: 56.1221 - val_loss: 141.3105\n",
      "Epoch 19/500\n",
      "722/722 [==============================] - 1163s 2s/step - loss: 54.5268 - val_loss: 141.5835\n",
      "Epoch 20/500\n",
      "722/722 [==============================] - 1158s 2s/step - loss: 54.3761 - val_loss: 139.6857\n",
      "Epoch 21/500\n",
      "722/722 [==============================] - 1162s 2s/step - loss: 53.9717 - val_loss: 138.8510\n",
      "Epoch 22/500\n",
      "722/722 [==============================] - 1151s 2s/step - loss: 51.3287 - val_loss: 137.1853\n",
      "Epoch 23/500\n",
      "722/722 [==============================] - 1151s 2s/step - loss: 50.2208 - val_loss: 136.7104\n",
      "Epoch 24/500\n",
      "722/722 [==============================] - 1122s 2s/step - loss: 49.5195 - val_loss: 137.5914\n",
      "Epoch 25/500\n",
      "722/722 [==============================] - 1117s 2s/step - loss: 49.2918 - val_loss: 136.5285\n",
      "Epoch 26/500\n",
      "722/722 [==============================] - 1153s 2s/step - loss: 46.9947 - val_loss: 135.1216\n",
      "Epoch 27/500\n",
      "722/722 [==============================] - 1170s 2s/step - loss: 45.8924 - val_loss: 134.3396\n",
      "Epoch 28/500\n",
      "722/722 [==============================] - 1165s 2s/step - loss: 45.4580 - val_loss: 133.6142\n",
      "Epoch 29/500\n",
      "722/722 [==============================] - 1164s 2s/step - loss: 45.9461 - val_loss: 132.4473\n",
      "Epoch 30/500\n",
      "722/722 [==============================] - 1162s 2s/step - loss: 44.2330 - val_loss: 131.9300\n",
      "Epoch 31/500\n",
      "722/722 [==============================] - 1161s 2s/step - loss: 42.7315 - val_loss: 131.3833\n",
      "Epoch 32/500\n",
      "722/722 [==============================] - 1153s 2s/step - loss: 43.5322 - val_loss: 132.0428\n",
      "Epoch 33/500\n",
      "722/722 [==============================] - 1150s 2s/step - loss: 42.4124 - val_loss: 131.4429\n",
      "Epoch 34/500\n",
      "722/722 [==============================] - 1139s 2s/step - loss: 41.8367 - val_loss: 130.4257\n",
      "Epoch 35/500\n",
      "722/722 [==============================] - 1161s 2s/step - loss: 41.0076 - val_loss: 129.4177\n",
      "Epoch 36/500\n",
      "722/722 [==============================] - 1166s 2s/step - loss: 39.4450 - val_loss: 128.9564\n",
      "Epoch 37/500\n",
      "722/722 [==============================] - 1165s 2s/step - loss: 40.5749 - val_loss: 128.5097\n",
      "Epoch 38/500\n",
      "722/722 [==============================] - 1167s 2s/step - loss: 39.5538 - val_loss: 128.8467\n",
      "Epoch 39/500\n",
      "722/722 [==============================] - 1162s 2s/step - loss: 39.4102 - val_loss: 127.8916\n",
      "Epoch 40/500\n",
      "722/722 [==============================] - 1165s 2s/step - loss: 38.9171 - val_loss: 127.1681\n",
      "Epoch 41/500\n",
      "722/722 [==============================] - 1175s 2s/step - loss: 37.8455 - val_loss: 126.8322\n",
      "Epoch 42/500\n",
      "722/722 [==============================] - 1166s 2s/step - loss: 38.2031 - val_loss: 126.3699\n",
      "Epoch 43/500\n",
      "722/722 [==============================] - 1165s 2s/step - loss: 36.1693 - val_loss: 127.0073\n",
      "Epoch 44/500\n",
      "722/722 [==============================] - 1169s 2s/step - loss: 36.9348 - val_loss: 125.3184\n",
      "Epoch 45/500\n",
      "722/722 [==============================] - 1168s 2s/step - loss: 35.6997 - val_loss: 126.4715\n",
      "Epoch 46/500\n",
      "722/722 [==============================] - 1161s 2s/step - loss: 34.7793 - val_loss: 124.4073\n",
      "Epoch 47/500\n",
      "722/722 [==============================] - 1160s 2s/step - loss: 34.5850 - val_loss: 124.1461\n",
      "Epoch 48/500\n",
      "722/722 [==============================] - 1163s 2s/step - loss: 33.3471 - val_loss: 124.5718\n",
      "Epoch 49/500\n",
      "722/722 [==============================] - 1169s 2s/step - loss: 33.9031 - val_loss: 124.3922\n",
      "Epoch 50/500\n",
      "722/722 [==============================] - 1173s 2s/step - loss: 33.5044 - val_loss: 123.4929\n",
      "Epoch 51/500\n",
      "722/722 [==============================] - 1162s 2s/step - loss: 33.5300 - val_loss: 123.2428\n",
      "Epoch 52/500\n",
      "722/722 [==============================] - 1171s 2s/step - loss: 31.6984 - val_loss: 122.3828\n",
      "Epoch 53/500\n",
      "722/722 [==============================] - 1154s 2s/step - loss: 32.2525 - val_loss: 122.4915\n",
      "Epoch 54/500\n",
      "722/722 [==============================] - 1156s 2s/step - loss: 32.1785 - val_loss: 122.6336\n",
      "Epoch 55/500\n",
      "722/722 [==============================] - 1168s 2s/step - loss: 31.2406 - val_loss: 121.4705\n",
      "Epoch 56/500\n",
      "722/722 [==============================] - 1167s 2s/step - loss: 30.7025 - val_loss: 122.2434\n",
      "Epoch 57/500\n",
      "722/722 [==============================] - 1153s 2s/step - loss: 31.2321 - val_loss: 121.5010\n",
      "Epoch 58/500\n",
      "722/722 [==============================] - 1156s 2s/step - loss: 29.5616 - val_loss: 121.2891\n",
      "Epoch 59/500\n",
      "722/722 [==============================] - 1136s 2s/step - loss: 30.8541 - val_loss: 121.4075\n",
      "Epoch 60/500\n",
      "722/722 [==============================] - 1165s 2s/step - loss: 29.0599 - val_loss: 120.7732\n",
      "Epoch 61/500\n",
      "722/722 [==============================] - 1179s 2s/step - loss: 28.8802 - val_loss: 120.4231\n",
      "Epoch 62/500\n",
      "722/722 [==============================] - 1171s 2s/step - loss: 28.6076 - val_loss: 120.3230\n",
      "Epoch 63/500\n",
      "722/722 [==============================] - 1177s 2s/step - loss: 27.7692 - val_loss: 120.4196\n",
      "Epoch 64/500\n",
      "722/722 [==============================] - 1174s 2s/step - loss: 27.5410 - val_loss: 120.7233\n",
      "Epoch 65/500\n",
      "722/722 [==============================] - 1172s 2s/step - loss: 28.2925 - val_loss: 119.3862\n",
      "Epoch 66/500\n",
      "722/722 [==============================] - 1179s 2s/step - loss: 27.0034 - val_loss: 119.3514\n",
      "Epoch 67/500\n",
      "722/722 [==============================] - 1182s 2s/step - loss: 28.3376 - val_loss: 119.4148\n",
      "Epoch 68/500\n",
      "722/722 [==============================] - 1178s 2s/step - loss: 28.6474 - val_loss: 119.0464\n",
      "Epoch 69/500\n",
      "722/722 [==============================] - 1174s 2s/step - loss: 27.1120 - val_loss: 117.9632\n",
      "Epoch 70/500\n",
      "722/722 [==============================] - 1182s 2s/step - loss: 26.9283 - val_loss: 118.5232\n",
      "Epoch 71/500\n",
      "722/722 [==============================] - 1183s 2s/step - loss: 25.4220 - val_loss: 118.0708\n",
      "Epoch 72/500\n",
      "722/722 [==============================] - 1175s 2s/step - loss: 26.4965 - val_loss: 118.8485\n",
      "Epoch 73/500\n",
      "722/722 [==============================] - 1178s 2s/step - loss: 26.2620 - val_loss: 118.0462\n",
      "Epoch 74/500\n",
      "722/722 [==============================] - 1169s 2s/step - loss: 24.6758 - val_loss: 117.3785\n",
      "Epoch 75/500\n",
      "722/722 [==============================] - 1173s 2s/step - loss: 24.9744 - val_loss: 117.2301\n",
      "Epoch 76/500\n",
      "722/722 [==============================] - 1162s 2s/step - loss: 24.7008 - val_loss: 116.9945\n",
      "Epoch 77/500\n"
     ]
    },
    {
     "name": "stdout",
     "output_type": "stream",
     "text": [
      "722/722 [==============================] - 1167s 2s/step - loss: 24.0975 - val_loss: 116.6870\n",
      "Epoch 78/500\n",
      "722/722 [==============================] - 1169s 2s/step - loss: 23.8374 - val_loss: 116.4813\n",
      "Epoch 79/500\n",
      "722/722 [==============================] - 1182s 2s/step - loss: 23.6059 - val_loss: 115.8010\n",
      "Epoch 80/500\n",
      "722/722 [==============================] - 1181s 2s/step - loss: 24.5165 - val_loss: 116.3202\n",
      "Epoch 81/500\n",
      "722/722 [==============================] - 1176s 2s/step - loss: 23.5118 - val_loss: 117.1147\n",
      "Epoch 82/500\n",
      "722/722 [==============================] - 1172s 2s/step - loss: 22.8529 - val_loss: 116.3565\n",
      "Epoch 83/500\n",
      "722/722 [==============================] - 1171s 2s/step - loss: 23.0504 - val_loss: 116.6978\n",
      "Epoch 84/500\n",
      "722/722 [==============================] - 1175s 2s/step - loss: 22.9848 - val_loss: 116.7648\n"
     ]
    }
   ],
   "source": [
    "from tensorflow.keras.callbacks import EarlyStopping\n",
    "\n",
    "history = model.fit(\n",
    "    training_sequence,\n",
    "    steps_per_epoch=training_sequence.steps_per_epoch,\n",
    "    validation_data=validation_sequence,\n",
    "    validation_steps=validation_sequence.steps_per_epoch,\n",
    "    epochs=epochs,\n",
    "    callbacks=[\n",
    "        EarlyStopping(\n",
    "            \"val_loss\",\n",
    "            min_delta=delta,\n",
    "            patience=patience,\n",
    "            restore_best_weights=True\n",
    "        )\n",
    "    ]\n",
    ")"
   ]
  },
  {
   "cell_type": "markdown",
   "metadata": {},
   "source": [
    "### Saving the model weights"
   ]
  },
  {
   "cell_type": "code",
   "execution_count": 15,
   "metadata": {},
   "outputs": [],
   "source": [
    "model.save_weights(f\"{model.name}_\" + exp_name + \"_weights.h5\")"
   ]
  },
  {
   "cell_type": "markdown",
   "metadata": {},
   "source": [
    "### Visualizing the training history\n",
    "We can visualize the performance of the model during the training process as follows:"
   ]
  },
  {
   "cell_type": "code",
   "execution_count": 16,
   "metadata": {},
   "outputs": [
    {
     "data": {
      "image/png": "[encoded data removed]",
      "text/plain": [
       "<Figure size 360x360 with 1 Axes>"
      ]
     },
     "metadata": {
      "needs_background": "light"
     },
     "output_type": "display_data"
    }
   ],
   "source": [
    "from plot_keras_history import plot_history\n",
    "\n",
    "plot_history(history)"
   ]
  },
  {
   "cell_type": "markdown",
   "metadata": {},
   "source": [
    "There may be some hiccups in the plot of the history if the model is reloaded from stored weights: [this is a known Keras issue](https://github.com/keras-team/keras/issues/4875) and is not related to either the holdouts used or the model."
   ]
  },
  {
   "cell_type": "markdown",
   "metadata": {},
   "source": [
    "## Saving the obtained embeddings\n",
    "Finally we save our hard earned model embeddings. In another notebook we will show how to do link prediction on the obtained embedding."
   ]
  },
  {
   "cell_type": "code",
   "execution_count": 17,
   "metadata": {},
   "outputs": [],
   "source": [
    "import numpy as np\n",
    "\n",
    "np.save(f\"{model.name}_\" + exp_name + \"_embedding.npy\", model.embedding)"
   ]
  }
 ],
 "metadata": {
  "kernelspec": {
   "display_name": "Python 3",
   "language": "python",
   "name": "python3"
  },
  "language_info": {
   "codemirror_mode": {
    "name": "ipython",
    "version": 3
   },
   "file_extension": ".py",
   "mimetype": "text/x-python",
   "name": "python",
   "nbconvert_exporter": "python",
   "pygments_lexer": "ipython3",
   "version": "3.8.3"
  }
 },
 "nbformat": 4,
 "nbformat_minor": 4
}
