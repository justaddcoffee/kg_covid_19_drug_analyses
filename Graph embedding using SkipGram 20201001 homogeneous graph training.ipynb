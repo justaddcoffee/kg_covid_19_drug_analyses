{
 "cells": [
  {
   "cell_type": "markdown",
   "metadata": {},
   "source": [
    "# Graph embedding using SkipGram\n",
    "\n",
    "This is an embedding of the whole graph, no training and validation split and all sources."
   ]
  },
  {
   "cell_type": "code",
   "execution_count": 1,
   "metadata": {},
   "outputs": [],
   "source": [
    "import silence_tensorflow.auto # Import needed to avoid TensorFlow warnings and general useless infos."
   ]
  },
  {
   "cell_type": "code",
   "execution_count": 2,
   "metadata": {},
   "outputs": [],
   "source": [
    "exp_name = \"80_20_kg_covid_19_20201001_training_test_epoch_500_delta_0.0001\"\n",
    "graph_data_dir = \"graph_20201001\""
   ]
  },
  {
   "cell_type": "markdown",
   "metadata": {},
   "source": [
    "## Loading the graphs\n",
    "We load the kg-covid-19 graph from the repository as an undirected graph."
   ]
  },
  {
   "cell_type": "code",
   "execution_count": 3,
   "metadata": {},
   "outputs": [],
   "source": [
    "import urllib\n",
    "import os\n",
    "os.makedirs(graph_data_dir, exist_ok=True)\n",
    "if not os.path.exists(graph_data_dir + \"/kg-covid-19.tar.gz\"):\n",
    "    with urllib.request.urlopen(\"https://kg-hub.berkeleybop.io/kg-covid-19/20201001/kg-covid-19.tar.gz\") as response, \\\n",
    "        open(graph_data_dir + \"/kg-covid-19.tar.gz\", 'wb') as out_file:\n",
    "            data = response.read()  # a `bytes` object\n",
    "            out_file.write(data)"
   ]
  },
  {
   "cell_type": "code",
   "execution_count": 4,
   "metadata": {
    "scrolled": false
   },
   "outputs": [
    {
     "data": {
      "text/plain": [
       "0"
      ]
     },
     "execution_count": 4,
     "metadata": {},
     "output_type": "execute_result"
    }
   ],
   "source": [
    "import os\n",
    "os.system(\"tar -xvzf \" + graph_data_dir + \"/kg-covid-19.tar.gz -C \" + graph_data_dir)"
   ]
  },
  {
   "cell_type": "markdown",
   "metadata": {},
   "source": [
    "#### only need to do this once, b/c we'll load the sorted.tsv from now on once it is made below"
   ]
  },
  {
   "cell_type": "code",
   "execution_count": 5,
   "metadata": {},
   "outputs": [
    {
     "name": "stdout",
     "output_type": "stream",
     "text": [
      "CPU times: user 0 ns, sys: 4 ms, total: 4 ms\n",
      "Wall time: 468 ms\n"
     ]
    }
   ],
   "source": [
    "%%time\n",
    "from ensmallen_graph import EnsmallenGraph\n",
    "\n",
    "if not os.path.exists(\"kg_covid_19_sorted.tsv\"):\n",
    "    graph = EnsmallenGraph.from_unsorted_csv(\n",
    "        edge_path = graph_data_dir + \"/merged-kg_edges.tsv\",\n",
    "        sources_column=\"subject\",\n",
    "        destinations_column=\"object\",\n",
    "        directed=False,\n",
    "        node_path = graph_data_dir + \"/merged-kg_nodes.tsv\",\n",
    "        nodes_column = 'id',\n",
    "        node_types_column = 'category',\n",
    "        default_node_type = 'biolink:NamedThing'\n",
    "    )\n",
    "\n",
    "    graph.dump_edges(\"kg_covid_19_sorted.tsv\",\n",
    "        sources_column=\"subject\",\n",
    "        destinations_column=\"object\")"
   ]
  },
  {
   "cell_type": "markdown",
   "metadata": {},
   "source": [
    "As first thing, we print a short report showing all the avalable graph details, including the number of edges, nodes, trap nodes and both the connected components and the strongly connected components."
   ]
  },
  {
   "cell_type": "code",
   "execution_count": 6,
   "metadata": {},
   "outputs": [
    {
     "data": {
      "text/plain": [
       "{'unique_node_types_number': '37',\n",
       " 'density': '0.037284237441157525',\n",
       " 'unique_edge_types_number': '0',\n",
       " 'nodes_number': '377577',\n",
       " 'self_loops_number': '481',\n",
       " 'directed': 'false',\n",
       " 'singletons': '8314',\n",
       " 'edges_number': '30949369',\n",
       " 'self_loops_rate': '0.00001554151233261008',\n",
       " 'degree_mean': '81.96836406878597'}"
      ]
     },
     "execution_count": 6,
     "metadata": {},
     "output_type": "execute_result"
    }
   ],
   "source": [
    "from ensmallen_graph import EnsmallenGraph\n",
    " \n",
    "graph = EnsmallenGraph.from_sorted_csv(\n",
    "    edge_path = \"kg_covid_19_sorted.tsv\",\n",
    "    sources_column=\"subject\",\n",
    "    destinations_column=\"object\",\n",
    "    directed=False,\n",
    "    nodes_number=377577,  # should be = or > than actual number\n",
    "    edges_number=30949369,   # same ^\n",
    "    cached_edges_number=int(30949369/100*5),\n",
    "    node_path = graph_data_dir + \"/merged-kg_nodes.tsv\",\n",
    "    nodes_column = 'id',\n",
    "    node_types_column = 'category',\n",
    "    default_node_type = 'biolink:NamedThing'\n",
    ")\n",
    "\n",
    "graph.report()"
   ]
  },
  {
   "cell_type": "markdown",
   "metadata": {},
   "source": [
    "The followings are check that are not necessary, but are offered as sanity checks:"
   ]
  },
  {
   "cell_type": "markdown",
   "metadata": {},
   "source": [
    "### Considered parameters\n",
    "We are going to use the following parameters:\n",
    "\n",
    "- **Walk lengths:** $100$ nodes.\n",
    "- **Batch size:** $2^{7} = 128$ walks per batch.\n",
    "- **Walk iterations:** $20$ iterations on the graph.\n",
    "- **Window size:** $4$ nodes, meaning $4$ on the left and $4$ on the right of the center nodes. Consider that the first *window_size* values on the left and the right of the walks will be trimmed.\n",
    "- **Return weight, inverse of $p$:** $1.0$.\n",
    "- **Explore weight, inverse of $q$:** $1.0$.\n",
    "- **Embedding size:** $100$.\n",
    "- **Negative samples:** For the porpose of the [NCE function negative samples](https://www.tensorflow.org/api_docs/python/tf/nn/nce_loss), we are going to use $10$. These are the number of negative classes to randomly sample per batch. This single sample of negative classes is evaluated for each element in the batch.\n",
    "- **Optimizer:** [Nadam](https://www.tensorflow.org/api_docs/python/tf/keras/optimizers/Nadam).\n",
    "- **Early stopping parameters:** We are going to use an Early Stopping criterion on the *validation loss*, with patience $5$ and delta $0.0001$.\n",
    "- **Epochs:** The model will be trained up to $1000$ epochs.\n",
    "- **Learning rate:** default"
   ]
  },
  {
   "cell_type": "code",
   "execution_count": 7,
   "metadata": {},
   "outputs": [
    {
     "name": "stdout",
     "output_type": "stream",
     "text": [
      "CPU times: user 3min 33s, sys: 888 ms, total: 3min 34s\n",
      "Wall time: 3min 33s\n"
     ]
    }
   ],
   "source": [
    "%%time\n",
    "training, validation = graph.connected_holdout(0.80, seed=42)"
   ]
  },
  {
   "cell_type": "code",
   "execution_count": 8,
   "metadata": {},
   "outputs": [
    {
     "data": {
      "text/plain": [
       "{'degree_mean': '65.5746880768691',\n",
       " 'edges_number': '24759494',\n",
       " 'nodes_number': '377577',\n",
       " 'self_loops_number': '370',\n",
       " 'directed': 'false',\n",
       " 'self_loops_rate': '0.000014943762582547123',\n",
       " 'singletons': '8324',\n",
       " 'unique_edge_types_number': '0',\n",
       " 'unique_node_types_number': '37',\n",
       " 'density': '0.029827388507304143'}"
      ]
     },
     "execution_count": 8,
     "metadata": {},
     "output_type": "execute_result"
    }
   ],
   "source": [
    "training.report()"
   ]
  },
  {
   "cell_type": "code",
   "execution_count": 9,
   "metadata": {},
   "outputs": [
    {
     "data": {
      "text/plain": [
       "{'edges_number': '6189875',\n",
       " 'singletons': '156519',\n",
       " 'unique_node_types_number': '37',\n",
       " 'density': '0.007456848933853383',\n",
       " 'unique_edge_types_number': '0',\n",
       " 'directed': 'false',\n",
       " 'self_loops_number': '111',\n",
       " 'nodes_number': '377577',\n",
       " 'degree_mean': '16.39367599191688',\n",
       " 'self_loops_rate': '0.000017932510753448172'}"
      ]
     },
     "execution_count": 9,
     "metadata": {},
     "output_type": "execute_result"
    }
   ],
   "source": [
    "validation.report()"
   ]
  },
  {
   "cell_type": "code",
   "execution_count": 10,
   "metadata": {},
   "outputs": [
    {
     "name": "stdout",
     "output_type": "stream",
     "text": [
      "CPU times: user 0 ns, sys: 0 ns, total: 0 ns\n",
      "Wall time: 6.2 µs\n"
     ]
    }
   ],
   "source": [
    "%%time\n",
    "coherence_check=False\n",
    "if coherence_check:\n",
    "    assert graph.contains(training)\n",
    "    assert graph.contains(validation)\n",
    "    assert (training | validation).contains(graph)\n",
    "    assert graph.contains(training | validation)\n",
    "    assert not training.overlaps(validation)\n",
    "    assert not validation.overlaps(training)"
   ]
  },
  {
   "cell_type": "markdown",
   "metadata": {},
   "source": [
    "#### Setting up the parameters"
   ]
  },
  {
   "cell_type": "code",
   "execution_count": 11,
   "metadata": {},
   "outputs": [],
   "source": [
    "walk_length=100\n",
    "batch_size=2**9\n",
    "iterations=20\n",
    "window_size=4\n",
    "p=1.0\n",
    "q=1.0\n",
    "embedding_size=100\n",
    "negatives_samples=30\n",
    "patience=5\n",
    "delta=0.0001\n",
    "epochs=500"
   ]
  },
  {
   "cell_type": "markdown",
   "metadata": {},
   "source": [
    "#### Creating the training and validation Keras sequences"
   ]
  },
  {
   "cell_type": "markdown",
   "metadata": {},
   "source": [
    "## Creating the SkipGram model\n",
    "We are going to setup the model to use, if available, multiple GPUs."
   ]
  },
  {
   "cell_type": "code",
   "execution_count": 12,
   "metadata": {},
   "outputs": [],
   "source": [
    "from embiggen import Node2VecSequence\n",
    "\n",
    "training_sequence = Node2VecSequence(\n",
    "    training,\n",
    "    walk_length=walk_length,\n",
    "    batch_size=batch_size,\n",
    "    iterations=iterations,\n",
    "    window_size=window_size,\n",
    "    return_weight=1/p,\n",
    "    explore_weight=1/q\n",
    ")\n",
    "\n",
    "validation_sequence = Node2VecSequence(\n",
    "    graph, # Here we use the entire graph. This will only be used for the early stopping.\n",
    "    walk_length=walk_length,\n",
    "    batch_size=batch_size,\n",
    "    iterations=iterations,\n",
    "    window_size=window_size,\n",
    "    return_weight=1/p,\n",
    "    explore_weight=1/q\n",
    ")"
   ]
  },
  {
   "cell_type": "code",
   "execution_count": 13,
   "metadata": {},
   "outputs": [
    {
     "name": "stdout",
     "output_type": "stream",
     "text": [
      "Model: \"SkipGram\"\n",
      "__________________________________________________________________________________________________\n",
      "Layer (type)                    Output Shape         Param #     Connected to                     \n",
      "==================================================================================================\n",
      "words_embedding (InputLayer)    [(None, 1)]          0                                            \n",
      "__________________________________________________________________________________________________\n",
      "embedding (Embedding)           (None, 1, 100)       37757700    words_embedding[0][0]            \n",
      "__________________________________________________________________________________________________\n",
      "flatten (Flatten)               (None, 100)          0           embedding[0][0]                  \n",
      "__________________________________________________________________________________________________\n",
      "input_1 (InputLayer)            [(None, 8)]          0                                            \n",
      "__________________________________________________________________________________________________\n",
      "noise_contrastive_estimation (N (None, 377577)       38135277    flatten[0][0]                    \n",
      "                                                                 input_1[0][0]                    \n",
      "==================================================================================================\n",
      "Total params: 75,892,977\n",
      "Trainable params: 75,892,977\n",
      "Non-trainable params: 0\n",
      "__________________________________________________________________________________________________\n"
     ]
    }
   ],
   "source": [
    "from tensorflow.distribute import MirroredStrategy\n",
    "from tensorflow.keras.optimizers import Nadam\n",
    "from embiggen import SkipGram\n",
    "\n",
    "# strategy = MirroredStrategy()\n",
    "# with strategy.scope():\n",
    "model = SkipGram(\n",
    "    vocabulary_size=training.get_nodes_number(),\n",
    "    embedding_size=embedding_size,\n",
    "    window_size=window_size,\n",
    "    negative_samples=negatives_samples,\n",
    ")\n",
    "\n",
    "model.summary()"
   ]
  },
  {
   "cell_type": "markdown",
   "metadata": {},
   "source": [
    "## Tuning the SkipGram model"
   ]
  },
  {
   "cell_type": "code",
   "execution_count": null,
   "metadata": {},
   "outputs": [
    {
     "name": "stdout",
     "output_type": "stream",
     "text": [
      "Epoch 1/500\n",
      "722/722 [==============================] - 1185s 2s/step - loss: 177.0404 - val_loss: 195.2658\n",
      "Epoch 2/500\n",
      "722/722 [==============================] - 1172s 2s/step - loss: 127.0025 - val_loss: 185.6311\n",
      "Epoch 3/500\n",
      "228/722 [========>.....................] - ETA: 8:35 - loss: 114.2613"
     ]
    }
   ],
   "source": [
    "from tensorflow.keras.callbacks import EarlyStopping\n",
    "\n",
    "history = model.fit(\n",
    "    training_sequence,\n",
    "    steps_per_epoch=training_sequence.steps_per_epoch,\n",
    "    validation_data=validation_sequence,\n",
    "    validation_steps=validation_sequence.steps_per_epoch,\n",
    "    epochs=epochs,\n",
    "    callbacks=[\n",
    "        EarlyStopping(\n",
    "            \"val_loss\",\n",
    "            min_delta=delta,\n",
    "            patience=patience,\n",
    "            restore_best_weights=True\n",
    "        )\n",
    "    ]\n",
    ")"
   ]
  },
  {
   "cell_type": "markdown",
   "metadata": {},
   "source": [
    "### Saving the model weights"
   ]
  },
  {
   "cell_type": "code",
   "execution_count": null,
   "metadata": {},
   "outputs": [],
   "source": [
    "model.save_weights(f\"{model.name}_\" + exp_name + \"_weights.h5\")"
   ]
  },
  {
   "cell_type": "markdown",
   "metadata": {},
   "source": [
    "### Visualizing the training history\n",
    "We can visualize the performance of the model during the training process as follows:"
   ]
  },
  {
   "cell_type": "code",
   "execution_count": null,
   "metadata": {},
   "outputs": [],
   "source": [
    "from plot_keras_history import plot_history\n",
    "\n",
    "plot_history(history)"
   ]
  },
  {
   "cell_type": "markdown",
   "metadata": {},
   "source": [
    "There may be some hiccups in the plot of the history if the model is reloaded from stored weights: [this is a known Keras issue](https://github.com/keras-team/keras/issues/4875) and is not related to either the holdouts used or the model."
   ]
  },
  {
   "cell_type": "markdown",
   "metadata": {},
   "source": [
    "## Saving the obtained embeddings\n",
    "Finally we save our hard earned model embeddings. In another notebook we will show how to do link prediction on the obtained embedding."
   ]
  },
  {
   "cell_type": "code",
   "execution_count": null,
   "metadata": {},
   "outputs": [],
   "source": [
    "import numpy as np\n",
    "\n",
    "np.save(f\"{model.name}_\" + exp_name + \"_embedding.npy\", model.embedding)"
   ]
  }
 ],
 "metadata": {
  "kernelspec": {
   "display_name": "Python 3",
   "language": "python",
   "name": "python3"
  },
  "language_info": {
   "codemirror_mode": {
    "name": "ipython",
    "version": 3
   },
   "file_extension": ".py",
   "mimetype": "text/x-python",
   "name": "python",
   "nbconvert_exporter": "python",
   "pygments_lexer": "ipython3",
   "version": "3.8.3"
  }
 },
 "nbformat": 4,
 "nbformat_minor": 4
}
