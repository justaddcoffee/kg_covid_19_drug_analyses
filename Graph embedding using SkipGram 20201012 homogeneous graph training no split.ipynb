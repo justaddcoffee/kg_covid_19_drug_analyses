{
 "cells": [
  {
   "cell_type": "markdown",
   "metadata": {},
   "source": [
    "# Graph embedding using SkipGram\n",
    "\n",
    "This is an embedding of the whole graph, 80/20 training and validation split and all sources\n",
    "\n",
    "kg-covid-19:\n",
    "version 20201012\n",
    "\n",
    "Name: ensmallen-graph\n",
    "Version: 0.4.4\n",
    "\n",
    "Name: embiggen\n",
    "Version: 0.6.0"
   ]
  },
  {
   "cell_type": "code",
   "execution_count": 1,
   "metadata": {},
   "outputs": [],
   "source": [
    "from pkg_resources import get_distribution\n",
    "assert(get_distribution(\"ensmallen-graph\").version == '0.4.4')  # identical to 0.4.3 except for addition of some methods like get_edge_id()\n",
    "assert(get_distribution(\"embiggen\").version == '0.6.0')"
   ]
  },
  {
   "cell_type": "code",
   "execution_count": 2,
   "metadata": {},
   "outputs": [],
   "source": [
    "import os\n",
    "\n",
    "exp_name = \"no_split_kg_covid_19_20201012_training_test_epoch_500_delta_0.0001\"\n",
    "s3_path = \"s3://kg-hub-public-data/embeddings/20201012/\"  # keep trailing slash\n",
    "\n",
    "base_dl_dir = \"downloaded_data\"\n",
    "graph_data_dir = os.path.join(base_dl_dir, \"kg-covid-19-20201012\")\n",
    "embedding_data_dir = os.path.join(base_dl_dir, \"embeddings-20201012\")\n",
    "\n",
    "# graph stuff\n",
    "graph_out_file = os.path.join(graph_data_dir + \"/kg-covid-19.tar.gz\")\n",
    "nodes_file = os.path.join(graph_data_dir, \"merged-kg_nodes.tsv\")\n",
    "edges_file = os.path.join(graph_data_dir, \"merged-kg_edges.tsv\")\n",
    "sorted_edges_file = os.path.join(graph_data_dir, \"merged-kg_edges_SORTED.tsv\")\n",
    "graph_tar_url = \"https://kg-hub.berkeleybop.io/kg-covid-19/20201012/kg-covid-19.tar.gz\"\n",
    "\n",
    "# embeddings URLs\n",
    "base_kghub_url = \"http://kg-hub.berkeleybop.io/\"\n",
    "embeddings_url = os.path.join(base_kghub_url, \"embeddings/20201012/SkipGram_80_20_kg_covid_19_20201012_training_test_epoch_500_delta_0.0001_embedding.npy\")\n",
    "embedding_file = os.path.join(embedding_data_dir, \"SkipGram_embedding.npy\")\n",
    "\n",
    "# params\n",
    "seed = 42\n",
    "train_percentage = 0.8\n",
    "patience = 6"
   ]
  },
  {
   "cell_type": "code",
   "execution_count": 3,
   "metadata": {},
   "outputs": [],
   "source": [
    "import silence_tensorflow.auto # Import needed to avoid TensorFlow warnings and general useless infos."
   ]
  },
  {
   "cell_type": "markdown",
   "metadata": {},
   "source": [
    "## Loading the graphs\n",
    "We load the kg-covid-19 graph from the repository as an undirected graph."
   ]
  },
  {
   "cell_type": "code",
   "execution_count": 4,
   "metadata": {},
   "outputs": [],
   "source": [
    "# get the graphs, if necessary\n",
    "\n",
    "import urllib\n",
    "import os\n",
    "os.makedirs(graph_data_dir, exist_ok=True)\n",
    "\n",
    "if not os.path.exists(nodes_file) or not os.path.exists(edges_file):\n",
    "    with urllib.request.urlopen(graph_tar_url) as response, \\\n",
    "        open(graph_out_file, 'wb') as out_file:\n",
    "            data = response.read()  # a `bytes` object\n",
    "            out_file.write(data)\n",
    "    os.system(\"tar -xvzf \" + graph_out_file + \" -C \" + graph_data_dir)"
   ]
  },
  {
   "cell_type": "markdown",
   "metadata": {},
   "source": [
    "#### only need to do this once, b/c we'll load the sorted.tsv from now on once it is made below"
   ]
  },
  {
   "cell_type": "code",
   "execution_count": 5,
   "metadata": {},
   "outputs": [
    {
     "name": "stdout",
     "output_type": "stream",
     "text": [
      "CPU times: user 0 ns, sys: 0 ns, total: 0 ns\n",
      "Wall time: 1.88 ms\n"
     ]
    }
   ],
   "source": [
    "%%time\n",
    "from ensmallen_graph import EnsmallenGraph\n",
    "\n",
    "if not os.path.exists(sorted_edges_file):\n",
    "    graph = EnsmallenGraph.from_unsorted_csv(\n",
    "        edge_path = graph_data_dir + \"/merged-kg_edges.tsv\",\n",
    "        sources_column=\"subject\",\n",
    "        destinations_column=\"object\",\n",
    "        directed=False,\n",
    "        node_path = graph_data_dir + \"/merged-kg_nodes.tsv\",\n",
    "        nodes_column = 'id',\n",
    "        node_types_column = 'category',\n",
    "        default_node_type = 'biolink:NamedThing'\n",
    "    )\n",
    "\n",
    "    graph.dump_edges(sorted_edges_file,\n",
    "        sources_column=\"subject\",\n",
    "        destinations_column=\"object\")"
   ]
  },
  {
   "cell_type": "code",
   "execution_count": 6,
   "metadata": {
    "scrolled": true
   },
   "outputs": [
    {
     "data": {
      "text/plain": [
       "{'edges_number': '31223434',\n",
       " 'singletons': '8355',\n",
       " 'has_node_types': 'true',\n",
       " 'directed': 'false',\n",
       " 'density': '0.010673045865565448',\n",
       " 'name': 'Graph',\n",
       " 'unique_edge_types_number': '0',\n",
       " 'has_weights': 'false',\n",
       " 'degree_mean': '69.73158748096104',\n",
       " 'nodes_number': '447766',\n",
       " 'has_edge_types': 'false',\n",
       " 'self_loops_rate': '0.000015373068830289457',\n",
       " 'undirected_edges_number': '15611957',\n",
       " 'self_loops_number': '480',\n",
       " 'unique_node_types_number': '42'}"
      ]
     },
     "execution_count": 6,
     "metadata": {},
     "output_type": "execute_result"
    }
   ],
   "source": [
    "from ensmallen_graph import EnsmallenGraph\n",
    " \n",
    "graph = EnsmallenGraph.from_sorted_csv(\n",
    "    edge_path = sorted_edges_file,\n",
    "    sources_column=\"subject\",\n",
    "    destinations_column=\"object\",\n",
    "    directed=False,\n",
    "    nodes_number=447766,  # should be = or > than actual number\n",
    "    edges_number=42000000,   # same ^\n",
    "    node_path = nodes_file,\n",
    "    nodes_column = 'id',\n",
    "    node_types_column = 'category',\n",
    "    default_node_type = 'biolink:NamedThing'\n",
    ")\n",
    "\n",
    "graph.report()"
   ]
  },
  {
   "cell_type": "code",
   "execution_count": 7,
   "metadata": {},
   "outputs": [],
   "source": [
    "graph.enable_fast_walk()"
   ]
  },
  {
   "cell_type": "markdown",
   "metadata": {},
   "source": [
    "The followings are check that are not necessary, but are offered as sanity checks:"
   ]
  },
  {
   "cell_type": "markdown",
   "metadata": {},
   "source": [
    "### Considered parameters\n",
    "We are going to use the following parameters:\n",
    "\n",
    "- **Walk lengths:** $100$ nodes.\n",
    "- **Batch size:** $2^{7} = 128$ walks per batch.\n",
    "- **Walk iterations:** $20$ iterations on the graph.\n",
    "- **Window size:** $4$ nodes, meaning $4$ on the left and $4$ on the right of the center nodes. Consider that the first *window_size* values on the left and the right of the walks will be trimmed.\n",
    "- **Return weight, inverse of $p$:** $1.0$.\n",
    "- **Explore weight, inverse of $q$:** $1.0$.\n",
    "- **Embedding size:** $100$.\n",
    "- **Negative samples:** For the porpose of the [NCE function negative samples](https://www.tensorflow.org/api_docs/python/tf/nn/nce_loss), we are going to use $10$. These are the number of negative classes to randomly sample per batch. This single sample of negative classes is evaluated for each element in the batch.\n",
    "- **Optimizer:** [Nadam](https://www.tensorflow.org/api_docs/python/tf/keras/optimizers/Nadam).\n",
    "- **Early stopping parameters:** We are going to use an Early Stopping criterion on the *validation loss*, with patience $5$ and delta $0.0001$.\n",
    "- **Epochs:** The model will be trained up to $1000$ epochs.\n",
    "- **Learning rate:** default"
   ]
  },
  {
   "cell_type": "markdown",
   "metadata": {},
   "source": [
    "#### Setting up the parameters"
   ]
  },
  {
   "cell_type": "code",
   "execution_count": 8,
   "metadata": {},
   "outputs": [],
   "source": [
    "walk_length=100\n",
    "batch_size=2**9\n",
    "iterations=20\n",
    "window_size=4\n",
    "p=1.0\n",
    "q=1.0\n",
    "embedding_size=100\n",
    "negative_samples=30\n",
    "patience=5\n",
    "delta=0.0001\n",
    "epochs=500\n",
    "learning_rate=0.1"
   ]
  },
  {
   "cell_type": "markdown",
   "metadata": {},
   "source": [
    "#### Creating the training and validation Keras sequences"
   ]
  },
  {
   "cell_type": "markdown",
   "metadata": {},
   "source": [
    "## Creating the SkipGram model\n",
    "We are going to setup the model to use, if available, multiple GPUs."
   ]
  },
  {
   "cell_type": "code",
   "execution_count": 9,
   "metadata": {},
   "outputs": [],
   "source": [
    "from embiggen import Node2VecSequence\n",
    "\n",
    "graph_sequence = Node2VecSequence(\n",
    "    graph,\n",
    "    walk_length=walk_length,\n",
    "    batch_size=batch_size,\n",
    "    iterations=iterations,\n",
    "    window_size=window_size,\n",
    "    return_weight=1/p,\n",
    "    explore_weight=1/q\n",
    ")"
   ]
  },
  {
   "cell_type": "code",
   "execution_count": 10,
   "metadata": {},
   "outputs": [
    {
     "name": "stdout",
     "output_type": "stream",
     "text": [
      "Model: \"SkipGram\"\n",
      "__________________________________________________________________________________________________\n",
      "Layer (type)                    Output Shape         Param #     Connected to                     \n",
      "==================================================================================================\n",
      "words_embedding (InputLayer)    [(None, 1)]          0                                            \n",
      "__________________________________________________________________________________________________\n",
      "embedding (Embedding)           (None, 1, 100)       44776600    words_embedding[0][0]            \n",
      "__________________________________________________________________________________________________\n",
      "flatten (Flatten)               (None, 100)          0           embedding[0][0]                  \n",
      "__________________________________________________________________________________________________\n",
      "input_1 (InputLayer)            [(None, 8)]          0                                            \n",
      "__________________________________________________________________________________________________\n",
      "noise_contrastive_estimation (N (None, 447766)       45224366    flatten[0][0]                    \n",
      "                                                                 input_1[0][0]                    \n",
      "==================================================================================================\n",
      "Total params: 90,000,966\n",
      "Trainable params: 90,000,966\n",
      "Non-trainable params: 0\n",
      "__________________________________________________________________________________________________\n"
     ]
    }
   ],
   "source": [
    "from tensorflow.distribute import MirroredStrategy\n",
    "from tensorflow.keras.optimizers import Nadam\n",
    "from embiggen import SkipGram\n",
    "\n",
    "# strategy = MirroredStrategy()\n",
    "# with strategy.scope():\n",
    "model = SkipGram(\n",
    "    vocabulary_size=graph.get_nodes_number(),\n",
    "    embedding_size=embedding_size,\n",
    "    window_size=window_size,\n",
    "    negative_samples=negative_samples,\n",
    "    optimizer=Nadam(learning_rate)\n",
    ")\n",
    "\n",
    "model.summary()"
   ]
  },
  {
   "cell_type": "markdown",
   "metadata": {},
   "source": [
    "## Tuning the SkipGram model"
   ]
  },
  {
   "cell_type": "code",
   "execution_count": 11,
   "metadata": {},
   "outputs": [
    {
     "name": "stdout",
     "output_type": "stream",
     "text": [
      "Epoch 1/500\n",
      "859/859 [==============================] - 879s 1s/step - loss: 123.2891\n",
      "Epoch 2/500\n",
      "859/859 [==============================] - 863s 1s/step - loss: 101.3660\n",
      "Epoch 3/500\n",
      "859/859 [==============================] - 857s 998ms/step - loss: 91.2328\n",
      "Epoch 4/500\n",
      "859/859 [==============================] - 854s 995ms/step - loss: 84.7336\n",
      "Epoch 5/500\n",
      "859/859 [==============================] - 850s 990ms/step - loss: 79.6762\n",
      "Epoch 6/500\n",
      "859/859 [==============================] - 848s 988ms/step - loss: 77.1776\n",
      "Epoch 7/500\n",
      "859/859 [==============================] - 853s 993ms/step - loss: 72.3052\n",
      "Epoch 8/500\n",
      "859/859 [==============================] - 845s 984ms/step - loss: 70.1852\n",
      "Epoch 9/500\n",
      "859/859 [==============================] - 844s 983ms/step - loss: 68.0439\n",
      "Epoch 10/500\n",
      "859/859 [==============================] - 839s 977ms/step - loss: 63.7876\n",
      "Epoch 11/500\n",
      "859/859 [==============================] - 834s 971ms/step - loss: 62.7742\n",
      "Epoch 12/500\n",
      "859/859 [==============================] - 839s 977ms/step - loss: 61.8371\n",
      "Epoch 13/500\n",
      "859/859 [==============================] - 838s 975ms/step - loss: 59.4220\n",
      "Epoch 14/500\n",
      "859/859 [==============================] - 839s 976ms/step - loss: 59.0564\n",
      "Epoch 15/500\n",
      "859/859 [==============================] - 846s 985ms/step - loss: 55.6096\n",
      "Epoch 16/500\n",
      "859/859 [==============================] - 846s 984ms/step - loss: 54.0312\n",
      "Epoch 17/500\n",
      "859/859 [==============================] - 841s 979ms/step - loss: 53.3002\n",
      "Epoch 18/500\n",
      "859/859 [==============================] - 835s 972ms/step - loss: 52.3356\n",
      "Epoch 19/500\n",
      "859/859 [==============================] - 835s 972ms/step - loss: 51.7796\n",
      "Epoch 20/500\n",
      "859/859 [==============================] - 825s 961ms/step - loss: 50.2121\n",
      "Epoch 21/500\n",
      "859/859 [==============================] - 835s 971ms/step - loss: 48.5452\n",
      "Epoch 22/500\n",
      "859/859 [==============================] - 834s 971ms/step - loss: 48.4866\n",
      "Epoch 23/500\n",
      "859/859 [==============================] - 836s 973ms/step - loss: 47.9224\n",
      "Epoch 24/500\n",
      "859/859 [==============================] - 828s 964ms/step - loss: 47.2556\n",
      "Epoch 25/500\n",
      "859/859 [==============================] - 829s 965ms/step - loss: 46.9874\n",
      "Epoch 26/500\n",
      "859/859 [==============================] - 827s 962ms/step - loss: 45.4095\n",
      "Epoch 27/500\n",
      "859/859 [==============================] - 833s 970ms/step - loss: 44.8619\n",
      "Epoch 28/500\n",
      "859/859 [==============================] - 833s 970ms/step - loss: 44.1798\n",
      "Epoch 29/500\n",
      "859/859 [==============================] - 830s 966ms/step - loss: 43.0460\n",
      "Epoch 30/500\n",
      "859/859 [==============================] - 827s 962ms/step - loss: 41.4629\n",
      "Epoch 31/500\n",
      "859/859 [==============================] - 825s 961ms/step - loss: 42.1113\n",
      "Epoch 32/500\n",
      "859/859 [==============================] - 829s 965ms/step - loss: 41.3176\n",
      "Epoch 33/500\n",
      "859/859 [==============================] - 828s 964ms/step - loss: 40.0101\n",
      "Epoch 34/500\n",
      "859/859 [==============================] - 825s 960ms/step - loss: 39.8614\n",
      "Epoch 35/500\n",
      "859/859 [==============================] - 825s 961ms/step - loss: 38.8487\n",
      "Epoch 36/500\n",
      "859/859 [==============================] - 823s 958ms/step - loss: 38.9537\n",
      "Epoch 37/500\n",
      "859/859 [==============================] - 828s 964ms/step - loss: 37.0451\n",
      "Epoch 38/500\n",
      "859/859 [==============================] - 832s 969ms/step - loss: 38.2602\n",
      "Epoch 39/500\n",
      "859/859 [==============================] - 827s 963ms/step - loss: 36.9261\n",
      "Epoch 40/500\n",
      "859/859 [==============================] - 832s 968ms/step - loss: 36.7378\n",
      "Epoch 41/500\n",
      "859/859 [==============================] - 831s 967ms/step - loss: 34.9095\n",
      "Epoch 42/500\n",
      "859/859 [==============================] - 834s 971ms/step - loss: 34.0512\n",
      "Epoch 43/500\n",
      "859/859 [==============================] - 827s 963ms/step - loss: 35.0624\n",
      "Epoch 44/500\n",
      "859/859 [==============================] - 829s 965ms/step - loss: 34.6686\n",
      "Epoch 45/500\n",
      "859/859 [==============================] - 836s 973ms/step - loss: 33.8695\n",
      "Epoch 46/500\n",
      "859/859 [==============================] - 827s 962ms/step - loss: 32.5261\n",
      "Epoch 47/500\n",
      "859/859 [==============================] - 830s 966ms/step - loss: 34.1470\n",
      "Epoch 48/500\n",
      "859/859 [==============================] - 826s 962ms/step - loss: 33.8615\n",
      "Epoch 49/500\n",
      "859/859 [==============================] - 821s 956ms/step - loss: 32.6575\n",
      "Epoch 50/500\n",
      "859/859 [==============================] - 829s 965ms/step - loss: 32.3599\n",
      "Epoch 51/500\n",
      "859/859 [==============================] - 839s 977ms/step - loss: 31.4905\n",
      "Epoch 52/500\n",
      "859/859 [==============================] - 828s 964ms/step - loss: 32.7568\n",
      "Epoch 53/500\n",
      "859/859 [==============================] - 823s 959ms/step - loss: 31.7105\n",
      "Epoch 54/500\n",
      "859/859 [==============================] - 830s 967ms/step - loss: 32.1034\n",
      "Epoch 55/500\n",
      "859/859 [==============================] - 821s 955ms/step - loss: 32.0805\n",
      "Epoch 56/500\n",
      "859/859 [==============================] - 827s 962ms/step - loss: 32.5747\n"
     ]
    }
   ],
   "source": [
    "from tensorflow.keras.callbacks import EarlyStopping, ReduceLROnPlateau\n",
    "\n",
    "\n",
    "history = model.fit(\n",
    "    graph_sequence,\n",
    "    steps_per_epoch=graph_sequence.steps_per_epoch,\n",
    "    epochs=epochs,\n",
    "    callbacks=[\n",
    "        EarlyStopping(\n",
    "            monitor=\"loss\",\n",
    "            min_delta=delta,\n",
    "            patience=patience,\n",
    "            restore_best_weights=True\n",
    "        ),\n",
    "        ReduceLROnPlateau(\n",
    "            monitor=\"loss\",\n",
    "            patience=patience//2,\n",
    "            min_delta=delta\n",
    "        )\n",
    "    ]\n",
    ")"
   ]
  },
  {
   "cell_type": "markdown",
   "metadata": {},
   "source": [
    "### Saving the model weights"
   ]
  },
  {
   "cell_type": "code",
   "execution_count": 12,
   "metadata": {},
   "outputs": [],
   "source": [
    "weights_file = f\"{model.name}_\" + exp_name + \"_weights.h5\"\n",
    "model.save_weights(weights_file)"
   ]
  },
  {
   "cell_type": "markdown",
   "metadata": {},
   "source": [
    "### Visualizing the training history\n",
    "We can visualize the performance of the model during the training process as follows:"
   ]
  },
  {
   "cell_type": "code",
   "execution_count": 13,
   "metadata": {},
   "outputs": [
    {
     "data": {
      "image/png": "[encoded data removed]",
      "text/plain": [
       "<Figure size 720x360 with 2 Axes>"
      ]
     },
     "metadata": {
      "needs_background": "light"
     },
     "output_type": "display_data"
    }
   ],
   "source": [
    "from plot_keras_history import plot_history\n",
    "\n",
    "plot_history(history)"
   ]
  },
  {
   "cell_type": "markdown",
   "metadata": {},
   "source": [
    "There may be some hiccups in the plot of the history if the model is reloaded from stored weights: [this is a known Keras issue](https://github.com/keras-team/keras/issues/4875) and is not related to either the holdouts used or the model."
   ]
  },
  {
   "cell_type": "markdown",
   "metadata": {},
   "source": [
    "## Saving the obtained embeddings\n",
    "Finally we save our hard earned model embeddings. In another notebook we will show how to do link prediction on the obtained embedding."
   ]
  },
  {
   "cell_type": "code",
   "execution_count": 14,
   "metadata": {},
   "outputs": [],
   "source": [
    "import numpy as np\n",
    "new_embedding_file = f\"{model.name}_\" + exp_name + \"_embedding.npy\"\n",
    "np.save(new_embedding_file, model.embedding)"
   ]
  },
  {
   "cell_type": "markdown",
   "metadata": {},
   "source": [
    "## Upload the weights and embeddings"
   ]
  },
  {
   "cell_type": "code",
   "execution_count": 15,
   "metadata": {},
   "outputs": [
    {
     "data": {
      "text/plain": [
       "0"
      ]
     },
     "execution_count": 15,
     "metadata": {},
     "output_type": "execute_result"
    }
   ],
   "source": [
    "os.system(f\"s3cmd put --acl-public --cf-invalidate {new_embedding_file} {s3_path}\")"
   ]
  },
  {
   "cell_type": "code",
   "execution_count": 16,
   "metadata": {},
   "outputs": [
    {
     "data": {
      "text/plain": [
       "0"
      ]
     },
     "execution_count": 16,
     "metadata": {},
     "output_type": "execute_result"
    }
   ],
   "source": [
    "os.system(f\"s3cmd put --acl-public --cf-invalidate {weights_file} {s3_path}\")"
   ]
  }
 ],
 "metadata": {
  "kernelspec": {
   "display_name": "Python 3",
   "language": "python",
   "name": "python3"
  },
  "language_info": {
   "codemirror_mode": {
    "name": "ipython",
    "version": 3
   },
   "file_extension": ".py",
   "mimetype": "text/x-python",
   "name": "python",
   "nbconvert_exporter": "python",
   "pygments_lexer": "ipython3",
   "version": "3.8.3"
  }
 },
 "nbformat": 4,
 "nbformat_minor": 4
}
