{
 "cells": [
  {
   "cell_type": "markdown",
   "metadata": {},
   "source": [
    "# Graph embedding using SkipGram\n",
    "\n",
    "This is an embedding of the whole graph, 80/20 training and validation split and all sources\n",
    "\n",
    "kg-covid-19:\n",
    "version 20201012\n",
    "\n",
    "Name: ensmallen-graph\n",
    "Version: 0.4.4\n",
    "\n",
    "Name: embiggen\n",
    "Version: 0.6.0"
   ]
  },
  {
   "cell_type": "code",
   "execution_count": 1,
   "metadata": {},
   "outputs": [],
   "source": [
    "from pkg_resources import get_distribution\n",
    "assert(get_distribution(\"ensmallen-graph\").version == '0.4.4')  # identical to 0.4.3 except for addition of some methods like get_edge_id()\n",
    "assert(get_distribution(\"embiggen\").version == '0.6.0')"
   ]
  },
  {
   "cell_type": "code",
   "execution_count": 2,
   "metadata": {},
   "outputs": [],
   "source": [
    "import os\n",
    "\n",
    "exp_name = \"80_20_kg_covid_19_20201012_training_test_epoch_500_delta_0.0001\"\n",
    "s3_path = \"s3://kg-hub-public-data/embeddings/20201012/\"  # keep trailing slash\n",
    "\n",
    "base_dl_dir = \"downloaded_data\"\n",
    "graph_data_dir = os.path.join(base_dl_dir, \"kg-covid-19-20201012\")\n",
    "embedding_data_dir = os.path.join(base_dl_dir, \"embeddings-20201012\")\n",
    "\n",
    "# graph stuff\n",
    "graph_out_file = os.path.join(graph_data_dir + \"/kg-covid-19.tar.gz\")\n",
    "nodes_file = os.path.join(graph_data_dir, \"merged-kg_nodes.tsv\")\n",
    "edges_file = os.path.join(graph_data_dir, \"merged-kg_edges.tsv\")\n",
    "sorted_edges_file = os.path.join(graph_data_dir, \"merged-kg_edges_SORTED.tsv\")\n",
    "graph_tar_url = \"https://kg-hub.berkeleybop.io/kg-covid-19/20201012/kg-covid-19.tar.gz\"\n",
    "\n",
    "# embeddings URLs\n",
    "base_kghub_url = \"http://kg-hub.berkeleybop.io/\"\n",
    "embeddings_url = os.path.join(base_kghub_url, \"embeddings/20201012/SkipGram_80_20_kg_covid_19_20201012_training_test_epoch_500_delta_0.0001_embedding.npy\")\n",
    "embedding_file = os.path.join(embedding_data_dir, \"SkipGram_embedding.npy\")\n",
    "\n",
    "# params\n",
    "seed = 42\n",
    "train_percentage = 0.8\n",
    "patience = 6"
   ]
  },
  {
   "cell_type": "code",
   "execution_count": 3,
   "metadata": {},
   "outputs": [],
   "source": [
    "import silence_tensorflow.auto # Import needed to avoid TensorFlow warnings and general useless infos."
   ]
  },
  {
   "cell_type": "markdown",
   "metadata": {},
   "source": [
    "## Loading the graphs\n",
    "We load the kg-covid-19 graph from the repository as an undirected graph."
   ]
  },
  {
   "cell_type": "code",
   "execution_count": 4,
   "metadata": {},
   "outputs": [],
   "source": [
    "# get the graphs, if necessary\n",
    "\n",
    "import urllib\n",
    "import os\n",
    "os.makedirs(graph_data_dir, exist_ok=True)\n",
    "\n",
    "if not os.path.exists(nodes_file) or not os.path.exists(edges_file):\n",
    "    with urllib.request.urlopen(graph_tar_url) as response, \\\n",
    "        open(graph_out_file, 'wb') as out_file:\n",
    "            data = response.read()  # a `bytes` object\n",
    "            out_file.write(data)\n",
    "    os.system(\"tar -xvzf \" + graph_out_file + \" -C \" + graph_data_dir)"
   ]
  },
  {
   "cell_type": "markdown",
   "metadata": {},
   "source": [
    "#### only need to do this once, b/c we'll load the sorted.tsv from now on once it is made below"
   ]
  },
  {
   "cell_type": "code",
   "execution_count": 5,
   "metadata": {},
   "outputs": [
    {
     "name": "stdout",
     "output_type": "stream",
     "text": [
      "CPU times: user 4 ms, sys: 0 ns, total: 4 ms\n",
      "Wall time: 1.12 ms\n"
     ]
    }
   ],
   "source": [
    "%%time\n",
    "from ensmallen_graph import EnsmallenGraph\n",
    "\n",
    "if not os.path.exists(sorted_edges_file):\n",
    "    graph = EnsmallenGraph.from_unsorted_csv(\n",
    "        edge_path = graph_data_dir + \"/merged-kg_edges.tsv\",\n",
    "        sources_column=\"subject\",\n",
    "        destinations_column=\"object\",\n",
    "        directed=False,\n",
    "        node_path = graph_data_dir + \"/merged-kg_nodes.tsv\",\n",
    "        nodes_column = 'id',\n",
    "        node_types_column = 'category',\n",
    "        default_node_type = 'biolink:NamedThing'\n",
    "    )\n",
    "\n",
    "    graph.dump_edges(sorted_edges_file,\n",
    "        sources_column=\"subject\",\n",
    "        destinations_column=\"object\")"
   ]
  },
  {
   "cell_type": "code",
   "execution_count": 6,
   "metadata": {
    "scrolled": false
   },
   "outputs": [
    {
     "data": {
      "text/plain": [
       "{'has_edge_types': 'false',\n",
       " 'has_node_types': 'true',\n",
       " 'self_loops_number': '480',\n",
       " 'degree_mean': '69.73158748096104',\n",
       " 'has_weights': 'false',\n",
       " 'unique_node_types_number': '42',\n",
       " 'density': '0.010673045865565448',\n",
       " 'directed': 'false',\n",
       " 'nodes_number': '447766',\n",
       " 'singletons': '8355',\n",
       " 'unique_edge_types_number': '0',\n",
       " 'edges_number': '31223434',\n",
       " 'self_loops_rate': '0.000015373068830289457'}"
      ]
     },
     "execution_count": 6,
     "metadata": {},
     "output_type": "execute_result"
    }
   ],
   "source": [
    "from ensmallen_graph import EnsmallenGraph\n",
    " \n",
    "graph = EnsmallenGraph.from_sorted_csv(\n",
    "    edge_path = sorted_edges_file,\n",
    "    sources_column=\"subject\",\n",
    "    destinations_column=\"object\",\n",
    "    directed=False,\n",
    "    nodes_number=447766,  # should be = or > than actual number\n",
    "    edges_number=42000000,   # same ^\n",
    "    node_path = nodes_file,\n",
    "    nodes_column = 'id',\n",
    "    node_types_column = 'category',\n",
    "    default_node_type = 'biolink:NamedThing'\n",
    ")\n",
    "\n",
    "graph.report()"
   ]
  },
  {
   "cell_type": "code",
   "execution_count": 7,
   "metadata": {},
   "outputs": [],
   "source": [
    "graph.enable_fast_walk()"
   ]
  },
  {
   "cell_type": "code",
   "execution_count": 8,
   "metadata": {},
   "outputs": [
    {
     "name": "stdout",
     "output_type": "stream",
     "text": [
      "CPU times: user 54.3 s, sys: 260 ms, total: 54.6 s\n",
      "Wall time: 54.3 s\n"
     ]
    }
   ],
   "source": [
    "%%time\n",
    "pos_training, pos_validation = graph.connected_holdout(train_size=train_percentage, random_state=seed)"
   ]
  },
  {
   "cell_type": "code",
   "execution_count": 9,
   "metadata": {},
   "outputs": [
    {
     "data": {
      "text/plain": [
       "{'density': '0.008538436282258687',\n",
       " 'unique_edge_types_number': '0',\n",
       " 'self_loops_rate': '0.00001473252500345694',\n",
       " 'directed': 'false',\n",
       " 'nodes_number': '447766',\n",
       " 'self_loops_number': '368',\n",
       " 'degree_mean': '55.78526730479759',\n",
       " 'edges_number': '24978746',\n",
       " 'has_node_types': 'true',\n",
       " 'singletons': '8363',\n",
       " 'unique_node_types_number': '42',\n",
       " 'has_edge_types': 'false',\n",
       " 'has_weights': 'false'}"
      ]
     },
     "execution_count": 9,
     "metadata": {},
     "output_type": "execute_result"
    }
   ],
   "source": [
    "pos_training.report()"
   ]
  },
  {
   "cell_type": "code",
   "execution_count": 10,
   "metadata": {},
   "outputs": [
    {
     "data": {
      "text/plain": [
       "{'edges_number': '6244688',\n",
       " 'density': '0.002134609583306762',\n",
       " 'has_weights': 'false',\n",
       " 'singletons': '211295',\n",
       " 'has_edge_types': 'false',\n",
       " 'degree_mean': '13.946320176163443',\n",
       " 'self_loops_rate': '0.000017935243522174367',\n",
       " 'has_node_types': 'true',\n",
       " 'nodes_number': '447766',\n",
       " 'unique_node_types_number': '42',\n",
       " 'directed': 'false',\n",
       " 'self_loops_number': '112',\n",
       " 'unique_edge_types_number': '0'}"
      ]
     },
     "execution_count": 10,
     "metadata": {},
     "output_type": "execute_result"
    }
   ],
   "source": [
    "pos_validation.report()"
   ]
  },
  {
   "cell_type": "code",
   "execution_count": 11,
   "metadata": {},
   "outputs": [
    {
     "name": "stdout",
     "output_type": "stream",
     "text": [
      "CPU times: user 0 ns, sys: 0 ns, total: 0 ns\n",
      "Wall time: 5.48 µs\n"
     ]
    }
   ],
   "source": [
    "%%time\n",
    "coherence_check=False\n",
    "if coherence_check:\n",
    "    assert graph.contains(pos_training)\n",
    "    assert graph.contains(pos_validation)\n",
    "    assert (pos_training | pos_validation).contains(graph)\n",
    "    assert graph.contains(pos_training | pos_validation)\n",
    "    assert not pos_training.overlaps(pos_validation)\n",
    "    assert not pos_validation.overlaps(pos_training)"
   ]
  },
  {
   "cell_type": "code",
   "execution_count": 12,
   "metadata": {},
   "outputs": [],
   "source": [
    "graph.enable_fast_walk()"
   ]
  },
  {
   "cell_type": "markdown",
   "metadata": {},
   "source": [
    "The followings are check that are not necessary, but are offered as sanity checks:"
   ]
  },
  {
   "cell_type": "markdown",
   "metadata": {},
   "source": [
    "### Considered parameters\n",
    "We are going to use the following parameters:\n",
    "\n",
    "- **Walk lengths:** $100$ nodes.\n",
    "- **Batch size:** $2^{7} = 128$ walks per batch.\n",
    "- **Walk iterations:** $20$ iterations on the graph.\n",
    "- **Window size:** $4$ nodes, meaning $4$ on the left and $4$ on the right of the center nodes. Consider that the first *window_size* values on the left and the right of the walks will be trimmed.\n",
    "- **Return weight, inverse of $p$:** $1.0$.\n",
    "- **Explore weight, inverse of $q$:** $1.0$.\n",
    "- **Embedding size:** $100$.\n",
    "- **Negative samples:** For the porpose of the [NCE function negative samples](https://www.tensorflow.org/api_docs/python/tf/nn/nce_loss), we are going to use $10$. These are the number of negative classes to randomly sample per batch. This single sample of negative classes is evaluated for each element in the batch.\n",
    "- **Optimizer:** [Nadam](https://www.tensorflow.org/api_docs/python/tf/keras/optimizers/Nadam).\n",
    "- **Early stopping parameters:** We are going to use an Early Stopping criterion on the *validation loss*, with patience $5$ and delta $0.0001$.\n",
    "- **Epochs:** The model will be trained up to $1000$ epochs.\n",
    "- **Learning rate:** default"
   ]
  },
  {
   "cell_type": "markdown",
   "metadata": {},
   "source": [
    "#### Setting up the parameters"
   ]
  },
  {
   "cell_type": "code",
   "execution_count": 13,
   "metadata": {},
   "outputs": [],
   "source": [
    "walk_length=100\n",
    "batch_size=2**9\n",
    "iterations=20\n",
    "window_size=4\n",
    "p=1.0\n",
    "q=1.0\n",
    "embedding_size=100\n",
    "negative_samples=30\n",
    "patience=5\n",
    "delta=0.0001\n",
    "epochs=500\n",
    "learning_rate=0.1"
   ]
  },
  {
   "cell_type": "markdown",
   "metadata": {},
   "source": [
    "#### Creating the training and validation Keras sequences"
   ]
  },
  {
   "cell_type": "markdown",
   "metadata": {},
   "source": [
    "## Creating the SkipGram model\n",
    "We are going to setup the model to use, if available, multiple GPUs."
   ]
  },
  {
   "cell_type": "code",
   "execution_count": 14,
   "metadata": {},
   "outputs": [],
   "source": [
    "from embiggen import Node2VecSequence\n",
    "\n",
    "training_sequence = Node2VecSequence(\n",
    "    pos_training,\n",
    "    walk_length=walk_length,\n",
    "    batch_size=batch_size,\n",
    "    iterations=iterations,\n",
    "    window_size=window_size,\n",
    "    return_weight=1/p,\n",
    "    explore_weight=1/q\n",
    ")\n",
    "\n",
    "validation_sequence = Node2VecSequence(\n",
    "    graph, # Here we use the entire graph. This will only be used for the early stopping.\n",
    "    walk_length=walk_length,\n",
    "    batch_size=batch_size,\n",
    "    iterations=iterations,\n",
    "    window_size=window_size,\n",
    "    return_weight=1/p,\n",
    "    explore_weight=1/q\n",
    ")"
   ]
  },
  {
   "cell_type": "code",
   "execution_count": 15,
   "metadata": {},
   "outputs": [
    {
     "name": "stdout",
     "output_type": "stream",
     "text": [
      "Model: \"SkipGram\"\n",
      "__________________________________________________________________________________________________\n",
      "Layer (type)                    Output Shape         Param #     Connected to                     \n",
      "==================================================================================================\n",
      "words_embedding (InputLayer)    [(None, 1)]          0                                            \n",
      "__________________________________________________________________________________________________\n",
      "embedding (Embedding)           (None, 1, 100)       44776600    words_embedding[0][0]            \n",
      "__________________________________________________________________________________________________\n",
      "flatten (Flatten)               (None, 100)          0           embedding[0][0]                  \n",
      "__________________________________________________________________________________________________\n",
      "input_1 (InputLayer)            [(None, 8)]          0                                            \n",
      "__________________________________________________________________________________________________\n",
      "noise_contrastive_estimation (N (None, 447766)       45224366    flatten[0][0]                    \n",
      "                                                                 input_1[0][0]                    \n",
      "==================================================================================================\n",
      "Total params: 90,000,966\n",
      "Trainable params: 90,000,966\n",
      "Non-trainable params: 0\n",
      "__________________________________________________________________________________________________\n"
     ]
    }
   ],
   "source": [
    "from tensorflow.distribute import MirroredStrategy\n",
    "from tensorflow.keras.optimizers import Nadam\n",
    "from embiggen import SkipGram\n",
    "\n",
    "# strategy = MirroredStrategy()\n",
    "# with strategy.scope():\n",
    "model = SkipGram(\n",
    "    vocabulary_size=pos_training.get_nodes_number(),\n",
    "    embedding_size=embedding_size,\n",
    "    window_size=window_size,\n",
    "    negative_samples=negative_samples,\n",
    ")\n",
    "\n",
    "model.summary()"
   ]
  },
  {
   "cell_type": "markdown",
   "metadata": {},
   "source": [
    "## Tuning the SkipGram model"
   ]
  },
  {
   "cell_type": "code",
   "execution_count": 16,
   "metadata": {
    "scrolled": true
   },
   "outputs": [
    {
     "name": "stdout",
     "output_type": "stream",
     "text": [
      "Epoch 1/500\n",
      "859/859 [==============================] - 1340s 2s/step - loss: 170.0102 - val_loss: 223.7214\n",
      "Epoch 2/500\n",
      "859/859 [==============================] - 1317s 2s/step - loss: 133.3663 - val_loss: 218.2658\n",
      "Epoch 3/500\n",
      "859/859 [==============================] - 1301s 2s/step - loss: 116.6074 - val_loss: 212.2680\n",
      "Epoch 4/500\n",
      "859/859 [==============================] - 1301s 2s/step - loss: 106.9031 - val_loss: 207.4704\n",
      "Epoch 5/500\n",
      "859/859 [==============================] - 1289s 2s/step - loss: 98.6537 - val_loss: 205.0742\n",
      "Epoch 6/500\n",
      "859/859 [==============================] - 1290s 2s/step - loss: 93.1800 - val_loss: 200.8456\n",
      "Epoch 7/500\n",
      "859/859 [==============================] - 1284s 1s/step - loss: 87.6427 - val_loss: 198.9984\n",
      "Epoch 8/500\n",
      "859/859 [==============================] - 1285s 1s/step - loss: 82.1579 - val_loss: 196.6932\n",
      "Epoch 9/500\n",
      "859/859 [==============================] - 1286s 1s/step - loss: 79.2029 - val_loss: 196.1370\n",
      "Epoch 10/500\n",
      "859/859 [==============================] - 1287s 1s/step - loss: 74.4025 - val_loss: 194.2264\n",
      "Epoch 11/500\n",
      "859/859 [==============================] - 1285s 1s/step - loss: 72.7545 - val_loss: 192.1244\n",
      "Epoch 12/500\n",
      "859/859 [==============================] - 1282s 1s/step - loss: 68.4407 - val_loss: 190.5515\n",
      "Epoch 13/500\n",
      "859/859 [==============================] - 1281s 1s/step - loss: 65.7470 - val_loss: 189.7609\n",
      "Epoch 14/500\n",
      "859/859 [==============================] - 1278s 1s/step - loss: 64.0757 - val_loss: 188.4990\n",
      "Epoch 15/500\n",
      "859/859 [==============================] - 1279s 1s/step - loss: 62.2102 - val_loss: 187.9364\n",
      "Epoch 16/500\n",
      "859/859 [==============================] - 1276s 1s/step - loss: 61.1434 - val_loss: 186.3035\n",
      "Epoch 17/500\n",
      "859/859 [==============================] - 1267s 1s/step - loss: 58.1256 - val_loss: 185.0154\n",
      "Epoch 18/500\n",
      "859/859 [==============================] - 1277s 1s/step - loss: 57.2469 - val_loss: 184.4953\n",
      "Epoch 19/500\n",
      "859/859 [==============================] - 1285s 1s/step - loss: 55.9408 - val_loss: 184.2733\n",
      "Epoch 20/500\n",
      "859/859 [==============================] - 1290s 2s/step - loss: 54.6058 - val_loss: 183.2889\n",
      "Epoch 21/500\n",
      "859/859 [==============================] - 1285s 1s/step - loss: 53.2451 - val_loss: 183.3968\n",
      "Epoch 22/500\n",
      "859/859 [==============================] - 1275s 1s/step - loss: 52.2844 - val_loss: 182.6858\n",
      "Epoch 23/500\n",
      "859/859 [==============================] - 1268s 1s/step - loss: 49.9343 - val_loss: 182.8486\n",
      "Epoch 24/500\n",
      "859/859 [==============================] - 1280s 1s/step - loss: 50.0869 - val_loss: 181.3896\n",
      "Epoch 25/500\n",
      "859/859 [==============================] - 1283s 1s/step - loss: 50.3945 - val_loss: 181.0226\n",
      "Epoch 26/500\n",
      "859/859 [==============================] - 1286s 1s/step - loss: 48.5504 - val_loss: 180.9623\n",
      "Epoch 27/500\n",
      "859/859 [==============================] - 1294s 2s/step - loss: 48.9864 - val_loss: 181.8920\n",
      "Epoch 28/500\n",
      "859/859 [==============================] - 1290s 2s/step - loss: 47.6408 - val_loss: 180.6600\n",
      "Epoch 29/500\n",
      "859/859 [==============================] - 1300s 2s/step - loss: 48.3325 - val_loss: 180.3253\n",
      "Epoch 30/500\n",
      "859/859 [==============================] - 1308s 2s/step - loss: 46.9635 - val_loss: 180.1873\n",
      "Epoch 31/500\n",
      "859/859 [==============================] - 1278s 1s/step - loss: 47.6606 - val_loss: 180.8462\n",
      "Epoch 32/500\n",
      "859/859 [==============================] - 1286s 1s/step - loss: 47.0241 - val_loss: 180.1095\n",
      "Epoch 33/500\n",
      "859/859 [==============================] - 1296s 2s/step - loss: 47.7254 - val_loss: 180.6556\n",
      "Epoch 34/500\n",
      "859/859 [==============================] - 1289s 2s/step - loss: 47.2791 - val_loss: 180.5076\n",
      "Epoch 35/500\n",
      "859/859 [==============================] - 1287s 1s/step - loss: 47.6721 - val_loss: 180.8781\n",
      "Epoch 36/500\n",
      "859/859 [==============================] - 1276s 1s/step - loss: 46.8763 - val_loss: 180.2983\n",
      "Epoch 37/500\n",
      "859/859 [==============================] - 1278s 1s/step - loss: 49.3982 - val_loss: 181.1708\n"
     ]
    }
   ],
   "source": [
    "from tensorflow.keras.callbacks import EarlyStopping, ReduceLROnPlateau\n",
    "\n",
    "history = model.fit(\n",
    "    training_sequence,\n",
    "    steps_per_epoch=training_sequence.steps_per_epoch,\n",
    "    validation_data=validation_sequence,\n",
    "    validation_steps=validation_sequence.steps_per_epoch,\n",
    "    epochs=epochs,\n",
    "    callbacks=[\n",
    "        EarlyStopping(\n",
    "            \"val_loss\",\n",
    "            min_delta=delta,\n",
    "            patience=patience,\n",
    "            restore_best_weights=True\n",
    "        ),\n",
    "        ReduceLROnPlateau(\n",
    "            monitor=\"loss\",\n",
    "            patience=patience//2,\n",
    "            min_delta=delta\n",
    "        )        \n",
    "    ]\n",
    ")"
   ]
  },
  {
   "cell_type": "markdown",
   "metadata": {},
   "source": [
    "### Saving the model weights"
   ]
  },
  {
   "cell_type": "code",
   "execution_count": 17,
   "metadata": {},
   "outputs": [],
   "source": [
    "weights_file = f\"{model.name}_\" + exp_name + \"_weights.h5\"\n",
    "model.save_weights(weights_file)"
   ]
  },
  {
   "cell_type": "markdown",
   "metadata": {},
   "source": [
    "### Visualizing the training history\n",
    "We can visualize the performance of the model during the training process as follows:"
   ]
  },
  {
   "cell_type": "code",
   "execution_count": 18,
   "metadata": {
    "scrolled": true
   },
   "outputs": [
    {
     "data": {
      "image/png": "[encoded data removed]",
      "text/plain": [
       "<Figure size 720x360 with 2 Axes>"
      ]
     },
     "metadata": {
      "needs_background": "light"
     },
     "output_type": "display_data"
    }
   ],
   "source": [
    "from plot_keras_history import plot_history\n",
    "\n",
    "plot_history(history)"
   ]
  },
  {
   "cell_type": "markdown",
   "metadata": {},
   "source": [
    "There may be some hiccups in the plot of the history if the model is reloaded from stored weights: [this is a known Keras issue](https://github.com/keras-team/keras/issues/4875) and is not related to either the holdouts used or the model."
   ]
  },
  {
   "cell_type": "markdown",
   "metadata": {},
   "source": [
    "## Saving the obtained embeddings\n",
    "Finally we save our hard earned model embeddings. In another notebook we will show how to do link prediction on the obtained embedding."
   ]
  },
  {
   "cell_type": "code",
   "execution_count": 19,
   "metadata": {},
   "outputs": [],
   "source": [
    "import numpy as np\n",
    "embedding_file = f\"{model.name}_\" + exp_name + \"_embedding.npy\"\n",
    "np.save(embedding_file, model.embedding)"
   ]
  },
  {
   "cell_type": "markdown",
   "metadata": {},
   "source": [
    "## Upload the weights and embeddings"
   ]
  },
  {
   "cell_type": "code",
   "execution_count": 20,
   "metadata": {},
   "outputs": [
    {
     "data": {
      "text/plain": [
       "0"
      ]
     },
     "execution_count": 20,
     "metadata": {},
     "output_type": "execute_result"
    }
   ],
   "source": [
    "os.system(f\"s3cmd put --acl-public --cf-invalidate {embedding_file} {s3_path}\")"
   ]
  },
  {
   "cell_type": "code",
   "execution_count": 21,
   "metadata": {},
   "outputs": [
    {
     "data": {
      "text/plain": [
       "0"
      ]
     },
     "execution_count": 21,
     "metadata": {},
     "output_type": "execute_result"
    }
   ],
   "source": [
    "os.system(f\"s3cmd put --acl-public --cf-invalidate {weights_file} {s3_path}\")"
   ]
  }
 ],
 "metadata": {
  "kernelspec": {
   "display_name": "Python 3",
   "language": "python",
   "name": "python3"
  },
  "language_info": {
   "codemirror_mode": {
    "name": "ipython",
    "version": 3
   },
   "file_extension": ".py",
   "mimetype": "text/x-python",
   "name": "python",
   "nbconvert_exporter": "python",
   "pygments_lexer": "ipython3",
   "version": "3.8.3"
  }
 },
 "nbformat": 4,
 "nbformat_minor": 4
}
