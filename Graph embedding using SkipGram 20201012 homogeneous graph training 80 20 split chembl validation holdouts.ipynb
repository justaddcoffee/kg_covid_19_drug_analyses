{
 "cells": [
  {
   "cell_type": "markdown",
   "metadata": {},
   "source": [
    "# Graph embedding using SkipGram\n",
    "\n",
    "This is an embedding of the whole graph, 80/20 training and validation split and all sources\n",
    "\n",
    "kg-covid-19:\n",
    "version 20201012\n",
    "\n",
    "Name: ensmallen-graph\n",
    "Version: 0.4.4\n",
    "\n",
    "Name: embiggen\n",
    "Version: 0.6.0"
   ]
  },
  {
   "cell_type": "code",
   "execution_count": 14,
   "metadata": {},
   "outputs": [],
   "source": [
    "from pkg_resources import get_distribution\n",
    "assert(get_distribution(\"ensmallen-graph\").version == '0.4.4')  # identical to 0.4.3 except for addition of some methods like get_edge_id()\n",
    "assert(get_distribution(\"embiggen\").version == '0.6.0')"
   ]
  },
  {
   "cell_type": "code",
   "execution_count": 15,
   "metadata": {},
   "outputs": [],
   "source": [
    "import os\n",
    "\n",
    "exp_name = \"80_20_kg_covid_19_20201012_training_test_epoch_500_delta_0.0001_updated_holdouts\"\n",
    "s3_path = \"s3://kg-hub-public-data/embeddings/20201012/\"  # keep trailing slash\n",
    "\n",
    "base_dl_dir = \"downloaded_data\"\n",
    "graph_data_dir = os.path.join(base_dl_dir, \"kg-covid-19-20201012\")\n",
    "embedding_data_dir = os.path.join(base_dl_dir, \"embeddings-20201012\")\n",
    "\n",
    "# graph stuff\n",
    "graph_out_file = os.path.join(graph_data_dir + \"/kg-covid-19.tar.gz\")\n",
    "nodes_file = os.path.join(graph_data_dir, \"merged-kg_nodes.tsv\")\n",
    "edges_file = os.path.join(graph_data_dir, \"merged-kg_edges.tsv\")\n",
    "sorted_edges_file = os.path.join(graph_data_dir, \"merged-kg_edges_SORTED.tsv\")\n",
    "graph_tar_url = \"https://kg-hub.berkeleybop.io/kg-covid-19/20201012/kg-covid-19.tar.gz\"\n",
    "\n",
    "# embeddings URLs\n",
    "base_kghub_url = \"http://kg-hub.berkeleybop.io/\"\n",
    "embeddings_url = os.path.join(base_kghub_url, \"embeddings/20201012/SkipGram_80_20_kg_covid_19_20201012_training_test_epoch_500_delta_0.0001_embedding.npy\")\n",
    "embedding_file = os.path.join(embedding_data_dir, \"SkipGram_embedding.npy\")\n",
    "\n",
    "# params\n",
    "seed = 42\n",
    "train_percentage = 0.8"
   ]
  },
  {
   "cell_type": "code",
   "execution_count": 16,
   "metadata": {},
   "outputs": [],
   "source": [
    "import silence_tensorflow.auto # Import needed to avoid TensorFlow warnings and general useless infos."
   ]
  },
  {
   "cell_type": "markdown",
   "metadata": {},
   "source": [
    "## Loading the graphs\n",
    "We load the kg-covid-19 graph from the repository as an undirected graph."
   ]
  },
  {
   "cell_type": "code",
   "execution_count": 17,
   "metadata": {},
   "outputs": [],
   "source": [
    "# get the graphs, if necessary\n",
    "\n",
    "import urllib\n",
    "import os\n",
    "os.makedirs(graph_data_dir, exist_ok=True)\n",
    "\n",
    "if not os.path.exists(nodes_file) or not os.path.exists(edges_file):\n",
    "    with urllib.request.urlopen(graph_tar_url) as response, \\\n",
    "        open(graph_out_file, 'wb') as out_file:\n",
    "            data = response.read()  # a `bytes` object\n",
    "            out_file.write(data)\n",
    "    os.system(\"tar -xvzf \" + graph_out_file + \" -C \" + graph_data_dir)"
   ]
  },
  {
   "cell_type": "markdown",
   "metadata": {},
   "source": [
    "#### only need to do this once, b/c we'll load the sorted.tsv from now on once it is made below"
   ]
  },
  {
   "cell_type": "code",
   "execution_count": 18,
   "metadata": {},
   "outputs": [],
   "source": [
    "import pandas as pd\n",
    "edges = pd.read_csv(graph_data_dir + \"/merged-kg_edges.tsv\", \"\\t\")"
   ]
  },
  {
   "cell_type": "code",
   "execution_count": 19,
   "metadata": {},
   "outputs": [],
   "source": [
    "sars_cov_2_curie = 'NCBITaxon:2697049'\n",
    "chembl_prefix = 'CHEMBL.COMPOUND'"
   ]
  },
  {
   "cell_type": "code",
   "execution_count": 20,
   "metadata": {},
   "outputs": [],
   "source": [
    "chembl_to_sars_cov_2_edges = (\n",
    "    (edges.subject.str.contains(chembl_prefix) & (edges.object == sars_cov_2_curie)) | \n",
    "    (edges.object.str.contains(chembl_prefix) & (edges.subject == sars_cov_2_curie))\n",
    ")"
   ]
  },
  {
   "cell_type": "code",
   "execution_count": 21,
   "metadata": {},
   "outputs": [],
   "source": [
    "edges['holdout_edge_label'] = [\n",
    "    'chembl_to_sars_cov_2' if value else 'normal'\n",
    "    for value in chembl_to_sars_cov_2_edges]"
   ]
  },
  {
   "cell_type": "code",
   "execution_count": 22,
   "metadata": {},
   "outputs": [],
   "source": [
    "import os\n",
    "new_edge_file = os.path.join(graph_data_dir, 'edges_with_holdout_column.tsv')\n",
    "edges.to_csv(new_edge_file, sep=\"\\t\", index=False)"
   ]
  },
  {
   "cell_type": "code",
   "execution_count": 23,
   "metadata": {},
   "outputs": [],
   "source": [
    "from ensmallen_graph import EnsmallenGraph\n",
    "graph = EnsmallenGraph.from_unsorted_csv(\n",
    "    name=\"kg-covid-19\",\n",
    "    edge_path = new_edge_file,\n",
    "    sources_column=\"subject\",\n",
    "    destinations_column=\"object\",\n",
    "    edge_types_column='holdout_edge_label',\n",
    "    directed=False,\n",
    "    node_path = graph_data_dir + \"/merged-kg_nodes.tsv\",\n",
    "    nodes_column = 'id',\n",
    "    node_types_column = 'category',\n",
    "    default_node_type = 'biolink:NamedThing'\n",
    ")"
   ]
  },
  {
   "cell_type": "code",
   "execution_count": 24,
   "metadata": {},
   "outputs": [
    {
     "data": {
      "text/plain": [
       "The undirected graph kg-covid-19 has 447766 nodes with 42 different node types:  the 5 most common are biolink:Publication (nodes number 129930), biolink:OntologyClass (nodes number 108266), biolink:Drug (nodes number 32120), biolink:ChemicalSubstance (nodes number 27157) and biolink:Disease (nodes number 24236), of which 8355 are singletons, and 15611957 unweighted edges with 2 different edge types: normal and chembl_to_sars_cov_2, of which 480 are self-loops. The graph is dense as it has a density of 0.01067 and has 9107 connected components, where the component with most nodes has 435728 nodes and the component with the least nodes has 1 nodes. The graph median node degree is 4, the mean node degree is 69.73 and the node degree mode is 1. The top 5 most central nodes are MESH:D014780 (degree 90378), MESH:D006801 (degree 78249), WD:Q30 (degree 65223), MESH:D014777 (degree 54155) and MESH:D017934 (degree 45196)."
      ]
     },
     "execution_count": 24,
     "metadata": {},
     "output_type": "execute_result"
    }
   ],
   "source": [
    "graph"
   ]
  },
  {
   "cell_type": "code",
   "execution_count": 25,
   "metadata": {},
   "outputs": [],
   "source": [
    "reduced_graph = graph.remove_components(edge_types=['chembl_to_sars_cov_2'])\n",
    "reduced_graph = reduced_graph.remove(singletons=True)"
   ]
  },
  {
   "cell_type": "code",
   "execution_count": 26,
   "metadata": {},
   "outputs": [
    {
     "data": {
      "text/plain": [
       "The undirected graph kg-covid-19 has 435728 nodes with 40 different node types:  the 5 most common are biolink:Publication (nodes number 129492), biolink:OntologyClass (nodes number 104951), biolink:Drug (nodes number 32016), biolink:ChemicalSubstance (nodes number 27152) and biolink:Disease (nodes number 22281) and 15608444 unweighted edges with 2 different edge types: normal and chembl_to_sars_cov_2, of which 314 are self-loops. The graph is dense as it has a density of 0.03548 and is connected, as it has a single component. The graph median node degree is 4, the mean node degree is 71.64 and the node degree mode is 1. The top 5 most central nodes are MESH:D014780 (degree 90378), MESH:D006801 (degree 78249), WD:Q30 (degree 65223), MESH:D014777 (degree 54155) and MESH:D017934 (degree 45196)."
      ]
     },
     "execution_count": 26,
     "metadata": {},
     "output_type": "execute_result"
    }
   ],
   "source": [
    "reduced_graph"
   ]
  },
  {
   "cell_type": "markdown",
   "metadata": {},
   "source": [
    "## Creating the SkipGram model\n",
    "We are going to setup the model to use, if available, multiple GPUs."
   ]
  },
  {
   "cell_type": "code",
   "execution_count": 27,
   "metadata": {
    "scrolled": true
   },
   "outputs": [],
   "source": [
    "from cache_decorator import Cache\n",
    "from tensorflow.distribute import MirroredStrategy\n",
    "from tensorflow.keras.optimizers import Nadam\n",
    "from embiggen import SkipGram\n",
    "from tensorflow.keras.callbacks import EarlyStopping, ReduceLROnPlateau\n",
    "from embiggen import Node2VecSequence\n",
    "\n",
    "\n",
    "@Cache(\n",
    "    cache_path=\"{cache_dir}/SkipGram/{_hash}_{holdout_idx}.csv.gz\",\n",
    "    cache_dir=embedding_data_dir,\n",
    "    args_to_ignore=['train_graph']\n",
    ")\n",
    "def compute_skipgram_embedding(\n",
    "    train_graph: EnsmallenGraph,\n",
    "    holdout_idx: int,\n",
    "    walk_length: int = 100,\n",
    "    batch_size: int = 2**9,\n",
    "    iterations: int = 20,\n",
    "    return_weight: float = 1.0,\n",
    "    explore_weight: float = 1.0,\n",
    "    embedding_size: int = 100,\n",
    "    window_size: int = 4,\n",
    "    negative_samples: int = 7,\n",
    "    patience: int = 6,\n",
    "    delta: float = 0.1,\n",
    "    epochs: int = 500\n",
    "):\n",
    "    \"\"\"Return dataframe with node embedding obtained with SkipGram for train_graph\n",
    "    \n",
    "    Given a graph, learn embeddings and return dataframe with node embeddings\n",
    "    \n",
    "    Parameters\n",
    "    -----\n",
    "    train_graph: EnsmallenGraph\n",
    "    holdout_idx: int, \n",
    "        an int to identify the holdout\n",
    "    walk_length: int = 100,\n",
    "        how many nodes for each walk\n",
    "    batch_size: int = 2**9,\n",
    "        how many walks for each batch\n",
    "    iterations: int = 20,\n",
    "        how many walks per node\n",
    "    return_weight: float = 1.0,\n",
    "        node2vec param, equal to 1/p\n",
    "    explore_weight: float = 1.0,\n",
    "        node2vec param, equal to 1/q\n",
    "    embedding_size: int = 100,\n",
    "        dimensions for embedding\n",
    "    window_size: int = 4,\n",
    "        SkipGram window size\n",
    "    negative_samples: int = 7,\n",
    "        how many negative samples that NCE function needs to sample\n",
    "    patience: int = 6,\n",
    "        how many epochs to wait for loss fxn to improve by [delta]\n",
    "    delta: float = 0.1\n",
    "        change in loss fxn to be considered an improvement\n",
    "        \n",
    "    Return:\n",
    "    -------\n",
    "    pd.DataFrame containing an embedding for each node in train_graph\n",
    "    \"\"\"\n",
    "    training_sequence = Node2VecSequence(\n",
    "        train_graph,\n",
    "        walk_length=walk_length,\n",
    "        batch_size=batch_size,\n",
    "        iterations=iterations,\n",
    "        window_size=window_size,\n",
    "        return_weight=return_weight,\n",
    "        explore_weight=explore_weight,\n",
    "        support_mirror_strategy=True\n",
    "    )\n",
    "\n",
    "    strategy = MirroredStrategy()\n",
    "    with strategy.scope():\n",
    "        model = SkipGram(\n",
    "            vocabulary_size=train_graph.get_nodes_number(),\n",
    "            embedding_size=embedding_size,\n",
    "            window_size=window_size,\n",
    "            negative_samples=negative_samples,\n",
    "        )\n",
    "\n",
    "    history = model.fit(\n",
    "        training_sequence,\n",
    "        steps_per_epoch=training_sequence.steps_per_epoch,\n",
    "        epochs=epochs,\n",
    "        callbacks=[\n",
    "            EarlyStopping(\n",
    "                \"loss\",\n",
    "                min_delta=delta,\n",
    "                patience=patience,\n",
    "                restore_best_weights=True\n",
    "            ),\n",
    "            ReduceLROnPlateau(\n",
    "                monitor=\"loss\",\n",
    "                patience=patience//2,\n",
    "                min_delta=delta\n",
    "            )\n",
    "        ]\n",
    "    )\n",
    "    return model.get_embedding_dataframe(train_graph.get_nodes_reverse_mapping())"
   ]
  },
  {
   "cell_type": "code",
   "execution_count": 28,
   "metadata": {},
   "outputs": [],
   "source": [
    "# https://github.com/monarch-initiative/syntheticLethalityNetwork/tree/embedding_sli/sli_embedding_and_ranking/models\n",
    "# https://github.com/monarch-initiative/syntheticLethalityNetwork/blob/embedding_sli/Positive%20SLI%20Embedding%2C%20Link%20Prediction%20and%20Ranking.ipynb"
   ]
  },
  {
   "cell_type": "markdown",
   "metadata": {},
   "source": [
    "# Link prediction models"
   ]
  },
  {
   "cell_type": "code",
   "execution_count": 31,
   "metadata": {},
   "outputs": [],
   "source": [
    "from typing import List, Dict, Tuple\n",
    "import numpy as np\n",
    "\n",
    "def create_ranking(edges: List[Tuple[str, str]], predictions: np.ndarray) -> Dict:\n",
    "    \"\"\"Return ranking of edges and predictions.\n",
    "\n",
    "    Parameters\n",
    "    ---------------------\n",
    "    edges: List[Tuple[str, str]],\n",
    "        Edges to be predicted.\n",
    "    predictions: np.ndarray,\n",
    "        Predictions of the model.\n",
    "\n",
    "    Returns\n",
    "    ---------------------\n",
    "    Dictionary of the ranking.\n",
    "    \"\"\"\n",
    "    return dict(zip(edges, predictions))"
   ]
  },
  {
   "cell_type": "code",
   "execution_count": 39,
   "metadata": {},
   "outputs": [],
   "source": [
    "from tensorflow.keras.models import Sequential\n",
    "from tensorflow.keras.layers import Dense, Input, BatchNormalization, Dropout\n",
    "from tensorflow.keras import regularizers\n",
    "from tensorflow.keras.metrics import AUC, Recall, Precision\n",
    "\n",
    "@Cache(    \n",
    "    cache_path=\"model_predictions/mlp/{embedding_model}/{holdout}_{_hash}.csv.gz\",\n",
    "    cache_dir=embedding_data_dir,\n",
    "    args_to_ignore=[\"train_X\", \"train_y\", \"test_X\", \"graph_test_X\", \"edges\", \"batch_size\"]\n",
    ")\n",
    "def mlp(\n",
    "    holdout: int,\n",
    "    embedding_model: str,\n",
    "    epochs: int,\n",
    "    batch_size: int,\n",
    "    patience: int,\n",
    "    min_delta: float,\n",
    "    train_X: np.ndarray,\n",
    "    train_y: np.ndarray,\n",
    "    test_X: np.ndarray,\n",
    "    graph_test_X: np.ndarray,\n",
    "    edges: List[Tuple[str, str]]\n",
    ") -> Tuple[np.ndarray, np.ndarray, RandomForestClassifier]:\n",
    "    \"\"\"Return random forest predictions on the given values.\n",
    "\n",
    "    Parameters\n",
    "    ----------------------\n",
    "    holdout: int,\n",
    "        Number of the holdout.\n",
    "    change_edge_type_weight: float,\n",
    "        Weight for changing the edge type.\n",
    "    embedding_model: str,\n",
    "        Name of the embedding model.\n",
    "    train_X: np.ndarray,\n",
    "        Data to use as input for training process.\n",
    "    train_y: np.ndarray,\n",
    "        Data to use as output for the training process.\n",
    "    test_X: np.ndarray,\n",
    "        Data to use as input for the testing process.\n",
    "    graph_test_X: np.ndarray,\n",
    "        Data to use for the ranking of the edges.\n",
    "    edges: List[Tuple[str, str]],\n",
    "        Edge names to be ranked.\n",
    "\n",
    "    Returns\n",
    "    ----------------------\n",
    "    Tuple with training and test predictions.\n",
    "    \"\"\"\n",
    "    model = Sequential([\n",
    "        Input(train_X.shape[1:]),\n",
    "        Dense(128, activation=\"relu\"),\n",
    "        Dense(32, activation=\"relu\",\n",
    "              activity_regularizer=regularizers.l1_l2(l1=1e-5, l2=1e-4)),\n",
    "        Dropout(0.5),\n",
    "        Dense(8, activation=\"relu\"),\n",
    "        Dense(1, activation=\"sigmoid\")\n",
    "    ])\n",
    "    model.compile(\n",
    "        loss=\"binary_crossentropy\",\n",
    "        optimizer=\"nadam\",\n",
    "        metrics=[\n",
    "            AUC(curve=\"PR\", name=\"auprc\"),\n",
    "            AUC(curve=\"ROC\", name=\"auroc\"),\n",
    "            Recall(name=\"Recall\"),\n",
    "            Precision(name=\"Precision\"),            \n",
    "            \"accuracy\"\n",
    "        ]\n",
    "    )\n",
    "    model.fit(\n",
    "        (train_X, train_y),\n",
    "        batch_size=batch_size,\n",
    "        validation_data=valid,\n",
    "        epochs=epochs,\n",
    "        callbacks=[\n",
    "            EarlyStopping(\"val_loss\", patience=patience, min_delta=min_delta)\n",
    "        ]\n",
    "    )\n",
    "    model.fit(train_X, train_y)\n",
    "    train_pred = model.predict_proba(train_X)[:, 1]\n",
    "    test_pred = model.predict_proba(test_X)[:, 1]\n",
    "    return train_pred, test_pred, create_ranking(edges, model.predict_proba(graph_test_X)[:, 1])\n",
    "        "
   ]
  },
  {
   "cell_type": "code",
   "execution_count": 34,
   "metadata": {},
   "outputs": [],
   "source": [
    "\n",
    "\"\"\"Submodule offering method to execute cached random forest.\"\"\"\n",
    "from typing import Tuple, Dict, List\n",
    "import numpy as np\n",
    "from sklearn.ensemble import RandomForestClassifier\n",
    "from multiprocessing import cpu_count\n",
    "from cache_decorator import Cache\n",
    "\n",
    "\n",
    "@Cache(    \n",
    "    cache_path=\"model_predictions/random_forest/{embedding_model}/{holdout}_{_hash}..gz\",\n",
    "    cache_dir=embedding_data_dir,\n",
    "    args_to_ignore=[\"train_X\", \"train_y\", \"test_X\", \"graph_test_X\", \"edges\"]\n",
    ")\n",
    "def random_forest(\n",
    "    holdout: int,\n",
    "    embedding_model: str,\n",
    "    train_X: np.ndarray,\n",
    "    train_y: np.ndarray,\n",
    "    test_X: np.ndarray,\n",
    "    graph_test_X: np.ndarray,\n",
    "    edges: List[Tuple[str, str]]\n",
    ") -> Tuple[np.ndarray, np.ndarray, RandomForestClassifier]:\n",
    "    \"\"\"Return random forest predictions on the given values.\n",
    "\n",
    "    Parameters\n",
    "    ----------------------\n",
    "    holdout: int,\n",
    "        Number of the holdout.\n",
    "    change_edge_type_weight: float,\n",
    "        Weight for changing the edge type.\n",
    "    embedding_model: str,\n",
    "        Name of the embedding model.\n",
    "    train_X: np.ndarray,\n",
    "        Data to use as input for training process.\n",
    "    train_y: np.ndarray,\n",
    "        Data to use as output for the training process.\n",
    "    test_X: np.ndarray,\n",
    "        Data to use as input for the testing process.\n",
    "    graph_test_X: np.ndarray,\n",
    "        Data to use for the ranking of the edges.\n",
    "    edges: List[Tuple[str, str]],\n",
    "        Edge names to be ranked.\n",
    "\n",
    "    Returns\n",
    "    ----------------------\n",
    "    Tuple with training and test predictions.\n",
    "    \"\"\"\n",
    "    model = RandomForestClassifier(\n",
    "        n_estimators=500,\n",
    "        max_depth=10,\n",
    "        n_jobs=cpu_count(),\n",
    "        class_weight=\"balanced_subsample\",\n",
    "        max_samples=0.5\n",
    "    )\n",
    "    model.fit(train_X, train_y)\n",
    "    train_pred = model.predict_proba(train_X)[:, 1]\n",
    "    test_pred = model.predict_proba(test_X)[:, 1]\n",
    "    return train_pred, test_pred, create_ranking(edges, model.predict_proba(graph_test_X)[:, 1])"
   ]
  },
  {
   "cell_type": "code",
   "execution_count": null,
   "metadata": {},
   "outputs": [],
   "source": [
    "from typing import Tuple, Dict, List\n",
    "import numpy as np\n",
    "from sklearn.tree import DecisionTreeClassifier\n",
    "from cache_decorator import Cache\n",
    "\n",
    "@Cache(\n",
    "    cache_path=\"{cache_dir}/model_predictions/decision_tree/{embedding_model}/{holdout}_{_hash}.csv.gz\",    \n",
    "    cache_dir=embedding_data_dir,    \n",
    "    args_to_ignore=[\"train_X\", \"train_y\", \"test_X\", \"graph_test_X\", \"edges\"]\n",
    ")\n",
    "def decision_tree(\n",
    "    holdout: int,\n",
    "    embedding_model: str,\n",
    "    train_X: np.ndarray,\n",
    "    train_y: np.ndarray,\n",
    "    test_X: np.ndarray,\n",
    "    graph_test_X: np.ndarray,\n",
    "    edges: List[Tuple[str, str]]\n",
    ") -> Tuple[np.ndarray, np.ndarray, Dict]:\n",
    "    \"\"\"Return decision tree predictions on the given values.\n",
    "\n",
    "    Parameters\n",
    "    ----------------------\n",
    "    holdout: int,\n",
    "        Number of the holdout.\n",
    "    change_edge_type_weight: float,\n",
    "        Weight for changing the edge type.\n",
    "    embedding_model: str,\n",
    "        Name of the embedding model.\n",
    "    train_X: np.ndarray,\n",
    "        Data to use as input for training process.\n",
    "    train_y: np.ndarray,\n",
    "        Data to use as output for the training process.\n",
    "    test_X: np.ndarray,\n",
    "        Data to use as input for the testing process.\n",
    "    graph_test_X: np.ndarray,\n",
    "        Data to use for the ranking of the edges.\n",
    "    edges: List[Tuple[str, str]],\n",
    "        Edge names to be ranked.\n",
    "\n",
    "    Returns\n",
    "    ----------------------\n",
    "    Tuple with training and test predictions.\n",
    "    \"\"\"\n",
    "    model = DecisionTreeClassifier(max_depth=10, class_weight=\"balanced\")\n",
    "    model.fit(train_X, train_y)\n",
    "    train_pred = model.predict_proba(train_X)[:, 1]\n",
    "    test_pred = model.predict_proba(test_X)[:, 1]\n",
    "    return train_pred, test_pred, create_ranking(edges, model.predict_proba(graph_test_X)[:, 1])\n"
   ]
  },
  {
   "cell_type": "code",
   "execution_count": 40,
   "metadata": {},
   "outputs": [],
   "source": [
    "from typing import Tuple, Dict, List\n",
    "import numpy as np\n",
    "from sklearn.linear_model import LogisticRegression\n",
    "from cache_decorator import Cache\n",
    "\n",
    "@Cache(\n",
    "    cache_path=\"{cache_dir}/model_predictions/logistic_regression/{embedding_model}/{holdout}_{_hash}.csv.gz\",    \n",
    "    cache_dir=embedding_data_dir,\n",
    "    args_to_ignore=[\"train_X\", \"train_y\", \"test_X\", \"graph_test_X\", \"edges\"]\n",
    ")\n",
    "def logistic_regression(\n",
    "    holdout: int,\n",
    "    change_edge_type_weight: float,\n",
    "    embedding_model: str,\n",
    "    train_X: np.ndarray,\n",
    "    train_y: np.ndarray,\n",
    "    test_X: np.ndarray,\n",
    "    graph_test_X: np.ndarray,\n",
    "    edges: List[Tuple[str, str]]\n",
    ") -> Tuple[np.ndarray, np.ndarray, LogisticRegression]:\n",
    "    \"\"\"Return logistic regression predictions on the given values.\n",
    "\n",
    "    Parameters\n",
    "    ----------------------\n",
    "    holdout: int,\n",
    "        Number of the holdout.\n",
    "    change_edge_type_weight: float,\n",
    "        Weight for changing the edge type.\n",
    "    embedding_model: str,\n",
    "        Name of the embedding model.\n",
    "    train_X: np.ndarray,\n",
    "        Data to use as input for training process.\n",
    "    train_y: np.ndarray,\n",
    "        Data to use as output for the training process.\n",
    "    test_X: np.ndarray,\n",
    "        Data to use as input for the testing process.\n",
    "    graph_test_X: np.ndarray,\n",
    "        Data to use for the ranking of the edges.\n",
    "    edges: List[Tuple[str, str]],\n",
    "        Edge names to be ranked.\n",
    "\n",
    "    Returns\n",
    "    ----------------------\n",
    "    Tuple with training and test predictions.\n",
    "    \"\"\"\n",
    "    model = LogisticRegression(class_weight=\"balanced\")\n",
    "    model.fit(train_X, train_y)\n",
    "    train_pred = model.predict_proba(train_X)[:, 1]\n",
    "    test_pred = model.predict_proba(test_X)[:, 1]\n",
    "    return train_pred, test_pred, create_ranking(edges, model.predict_proba(graph_test_X)[:, 1])\n"
   ]
  },
  {
   "cell_type": "code",
   "execution_count": 29,
   "metadata": {},
   "outputs": [
    {
     "data": {
      "application/vnd.jupyter.widget-view+json": {
       "model_id": "e7f246b0f2b749d6a9c0727f6e7d52e3",
       "version_major": 2,
       "version_minor": 0
      },
      "text/plain": [
       "HBox(children=(FloatProgress(value=0.0, description='computing embeddings', max=5.0, style=ProgressStyle(descr…"
      ]
     },
     "metadata": {},
     "output_type": "display_data"
    },
    {
     "name": "stdout",
     "output_type": "stream",
     "text": [
      "\n"
     ]
    }
   ],
   "source": [
    "# make holdouts\n",
    "from tqdm.auto import trange\n",
    "\n",
    "for i in trange(5, desc=\"computing embeddings\"):\n",
    "    pos_training, pos_validation = reduced_graph.connected_holdout(\n",
    "        train_size=train_percentage, \n",
    "        edge_types=['chembl_to_sars_cov_2'],\n",
    "        random_state=seed+i)\n",
    "    neg_training, neg_validation = graph.sample_negatives(\n",
    "        random_state=seed,\n",
    "        only_from_same_component=True,\n",
    "        negatives_number=pos_training.get_edges_number()\n",
    "    ).random_holdout(random_state=seed+i, train_size=train_percentage)    \n",
    "    \n",
    "    pos_training.enable_fast_walk()\n",
    "    embedding = compute_skipgram_embedding(pos_training, i)\n",
    "    \n",
    "    transformer = LinkPredictionTransformer(method=\"hadamard\")\n",
    "    transformer.fit(embedding)\n",
    "    train_X, train_y = transformer.transform(pos_training, neg_training)\n",
    "    test_X, test_y = transformer.transform(pos_validation, neg_validation)\n",
    "    \n",
    "    for link_prediction_model in link_prediction_models:\n",
    "        train_pred, test_pred = link_prediction_model(holdout_number, train_X, train_y, test_X)\n",
    "        for run, true, predictions in (\n",
    "            (\"train\", train_y, train_pred),\n",
    "            (\"test\", test_y, test_pred)\n",
    "        ):\n",
    "            results.append({\n",
    "                \"run\": run,\n",
    "                \"model\": link_prediction_model.__name__,\n",
    "                \"change_edge_type_weight\": change_edge_type_weight,\n",
    "                \"holdout_number\": holdout_number,\n",
    "                **get_metrics_report(true, predictions)\n",
    "            })"
   ]
  },
  {
   "cell_type": "markdown",
   "metadata": {},
   "source": [
    "## Upload the weights and embeddings"
   ]
  },
  {
   "cell_type": "code",
   "execution_count": 26,
   "metadata": {},
   "outputs": [],
   "source": [
    "from glob import glob\n",
    "for path in glob(f\"{embedding_data_dir}/**/*.csv.gz\", recursive=True):\n",
    "    os.system(f\"s3cmd put --acl-public --cf-invalidate {path} {s3_path}\")"
   ]
  }
 ],
 "metadata": {
  "kernelspec": {
   "display_name": "Python 3",
   "language": "python",
   "name": "python3"
  },
  "language_info": {
   "codemirror_mode": {
    "name": "ipython",
    "version": 3
   },
   "file_extension": ".py",
   "mimetype": "text/x-python",
   "name": "python",
   "nbconvert_exporter": "python",
   "pygments_lexer": "ipython3",
   "version": "3.8.3"
  }
 },
 "nbformat": 4,
 "nbformat_minor": 4
}
